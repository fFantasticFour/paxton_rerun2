{
 "cells": [
  {
   "cell_type": "code",
   "execution_count": 34,
   "metadata": {},
   "outputs": [],
   "source": [
    "import numpy as np\n",
    "import pandas as pd\n",
    "import matplotlib.pyplot as plt\n",
    "import pymc3 as pm\n",
    "from theano import shared as tshared\n",
    "import theano.tensor as tt\n",
    "from matplotlib.colors import LogNorm\n",
    "from astroML.datasets import fetch_hogg2010test\n",
    "from astroML.plotting.mcmc import convert_to_stdev"
   ]
  },
  {
   "cell_type": "code",
   "execution_count": 35,
   "metadata": {},
   "outputs": [
    {
     "data": {
      "text/html": [
       "<div>\n",
       "<style scoped>\n",
       "    .dataframe tbody tr th:only-of-type {\n",
       "        vertical-align: middle;\n",
       "    }\n",
       "\n",
       "    .dataframe tbody tr th {\n",
       "        vertical-align: top;\n",
       "    }\n",
       "\n",
       "    .dataframe thead th {\n",
       "        text-align: right;\n",
       "    }\n",
       "</style>\n",
       "<table border=\"1\" class=\"dataframe\">\n",
       "  <thead>\n",
       "    <tr style=\"text-align: right;\">\n",
       "      <th></th>\n",
       "      <th>ID</th>\n",
       "      <th>x</th>\n",
       "      <th>y</th>\n",
       "      <th>sigma_x</th>\n",
       "      <th>sigma_y</th>\n",
       "      <th>rho_xy</th>\n",
       "    </tr>\n",
       "  </thead>\n",
       "  <tbody>\n",
       "    <tr>\n",
       "      <th>0</th>\n",
       "      <td>1</td>\n",
       "      <td>201.0</td>\n",
       "      <td>592.0</td>\n",
       "      <td>9.0</td>\n",
       "      <td>61.0</td>\n",
       "      <td>-0.84</td>\n",
       "    </tr>\n",
       "    <tr>\n",
       "      <th>1</th>\n",
       "      <td>2</td>\n",
       "      <td>244.0</td>\n",
       "      <td>401.0</td>\n",
       "      <td>4.0</td>\n",
       "      <td>25.0</td>\n",
       "      <td>0.31</td>\n",
       "    </tr>\n",
       "    <tr>\n",
       "      <th>2</th>\n",
       "      <td>3</td>\n",
       "      <td>47.0</td>\n",
       "      <td>583.0</td>\n",
       "      <td>11.0</td>\n",
       "      <td>38.0</td>\n",
       "      <td>0.64</td>\n",
       "    </tr>\n",
       "    <tr>\n",
       "      <th>3</th>\n",
       "      <td>4</td>\n",
       "      <td>287.0</td>\n",
       "      <td>402.0</td>\n",
       "      <td>7.0</td>\n",
       "      <td>15.0</td>\n",
       "      <td>-0.27</td>\n",
       "    </tr>\n",
       "    <tr>\n",
       "      <th>4</th>\n",
       "      <td>5</td>\n",
       "      <td>203.0</td>\n",
       "      <td>495.0</td>\n",
       "      <td>5.0</td>\n",
       "      <td>21.0</td>\n",
       "      <td>-0.33</td>\n",
       "    </tr>\n",
       "    <tr>\n",
       "      <th>5</th>\n",
       "      <td>6</td>\n",
       "      <td>58.0</td>\n",
       "      <td>173.0</td>\n",
       "      <td>9.0</td>\n",
       "      <td>15.0</td>\n",
       "      <td>0.67</td>\n",
       "    </tr>\n",
       "    <tr>\n",
       "      <th>6</th>\n",
       "      <td>7</td>\n",
       "      <td>210.0</td>\n",
       "      <td>479.0</td>\n",
       "      <td>4.0</td>\n",
       "      <td>27.0</td>\n",
       "      <td>-0.02</td>\n",
       "    </tr>\n",
       "    <tr>\n",
       "      <th>7</th>\n",
       "      <td>8</td>\n",
       "      <td>202.0</td>\n",
       "      <td>504.0</td>\n",
       "      <td>4.0</td>\n",
       "      <td>14.0</td>\n",
       "      <td>-0.05</td>\n",
       "    </tr>\n",
       "    <tr>\n",
       "      <th>8</th>\n",
       "      <td>9</td>\n",
       "      <td>198.0</td>\n",
       "      <td>510.0</td>\n",
       "      <td>11.0</td>\n",
       "      <td>30.0</td>\n",
       "      <td>-0.84</td>\n",
       "    </tr>\n",
       "    <tr>\n",
       "      <th>9</th>\n",
       "      <td>10</td>\n",
       "      <td>158.0</td>\n",
       "      <td>416.0</td>\n",
       "      <td>7.0</td>\n",
       "      <td>16.0</td>\n",
       "      <td>-0.69</td>\n",
       "    </tr>\n",
       "    <tr>\n",
       "      <th>10</th>\n",
       "      <td>11</td>\n",
       "      <td>165.0</td>\n",
       "      <td>393.0</td>\n",
       "      <td>5.0</td>\n",
       "      <td>14.0</td>\n",
       "      <td>0.30</td>\n",
       "    </tr>\n",
       "    <tr>\n",
       "      <th>11</th>\n",
       "      <td>12</td>\n",
       "      <td>201.0</td>\n",
       "      <td>442.0</td>\n",
       "      <td>5.0</td>\n",
       "      <td>25.0</td>\n",
       "      <td>-0.46</td>\n",
       "    </tr>\n",
       "    <tr>\n",
       "      <th>12</th>\n",
       "      <td>13</td>\n",
       "      <td>157.0</td>\n",
       "      <td>317.0</td>\n",
       "      <td>5.0</td>\n",
       "      <td>52.0</td>\n",
       "      <td>-0.03</td>\n",
       "    </tr>\n",
       "    <tr>\n",
       "      <th>13</th>\n",
       "      <td>14</td>\n",
       "      <td>131.0</td>\n",
       "      <td>311.0</td>\n",
       "      <td>6.0</td>\n",
       "      <td>16.0</td>\n",
       "      <td>0.50</td>\n",
       "    </tr>\n",
       "    <tr>\n",
       "      <th>14</th>\n",
       "      <td>15</td>\n",
       "      <td>166.0</td>\n",
       "      <td>400.0</td>\n",
       "      <td>6.0</td>\n",
       "      <td>34.0</td>\n",
       "      <td>0.73</td>\n",
       "    </tr>\n",
       "    <tr>\n",
       "      <th>15</th>\n",
       "      <td>16</td>\n",
       "      <td>160.0</td>\n",
       "      <td>337.0</td>\n",
       "      <td>5.0</td>\n",
       "      <td>31.0</td>\n",
       "      <td>-0.52</td>\n",
       "    </tr>\n",
       "    <tr>\n",
       "      <th>16</th>\n",
       "      <td>17</td>\n",
       "      <td>186.0</td>\n",
       "      <td>423.0</td>\n",
       "      <td>9.0</td>\n",
       "      <td>42.0</td>\n",
       "      <td>0.90</td>\n",
       "    </tr>\n",
       "    <tr>\n",
       "      <th>17</th>\n",
       "      <td>18</td>\n",
       "      <td>125.0</td>\n",
       "      <td>334.0</td>\n",
       "      <td>8.0</td>\n",
       "      <td>26.0</td>\n",
       "      <td>0.40</td>\n",
       "    </tr>\n",
       "    <tr>\n",
       "      <th>18</th>\n",
       "      <td>19</td>\n",
       "      <td>218.0</td>\n",
       "      <td>533.0</td>\n",
       "      <td>6.0</td>\n",
       "      <td>16.0</td>\n",
       "      <td>-0.78</td>\n",
       "    </tr>\n",
       "    <tr>\n",
       "      <th>19</th>\n",
       "      <td>20</td>\n",
       "      <td>146.0</td>\n",
       "      <td>344.0</td>\n",
       "      <td>5.0</td>\n",
       "      <td>22.0</td>\n",
       "      <td>-0.56</td>\n",
       "    </tr>\n",
       "  </tbody>\n",
       "</table>\n",
       "</div>"
      ],
      "text/plain": [
       "    ID      x      y  sigma_x  sigma_y  rho_xy\n",
       "0    1  201.0  592.0      9.0     61.0   -0.84\n",
       "1    2  244.0  401.0      4.0     25.0    0.31\n",
       "2    3   47.0  583.0     11.0     38.0    0.64\n",
       "3    4  287.0  402.0      7.0     15.0   -0.27\n",
       "4    5  203.0  495.0      5.0     21.0   -0.33\n",
       "5    6   58.0  173.0      9.0     15.0    0.67\n",
       "6    7  210.0  479.0      4.0     27.0   -0.02\n",
       "7    8  202.0  504.0      4.0     14.0   -0.05\n",
       "8    9  198.0  510.0     11.0     30.0   -0.84\n",
       "9   10  158.0  416.0      7.0     16.0   -0.69\n",
       "10  11  165.0  393.0      5.0     14.0    0.30\n",
       "11  12  201.0  442.0      5.0     25.0   -0.46\n",
       "12  13  157.0  317.0      5.0     52.0   -0.03\n",
       "13  14  131.0  311.0      6.0     16.0    0.50\n",
       "14  15  166.0  400.0      6.0     34.0    0.73\n",
       "15  16  160.0  337.0      5.0     31.0   -0.52\n",
       "16  17  186.0  423.0      9.0     42.0    0.90\n",
       "17  18  125.0  334.0      8.0     26.0    0.40\n",
       "18  19  218.0  533.0      6.0     16.0   -0.78\n",
       "19  20  146.0  344.0      5.0     22.0   -0.56"
      ]
     },
     "execution_count": 35,
     "metadata": {},
     "output_type": "execute_result"
    }
   ],
   "source": [
    "data = fetch_hogg2010test()\n",
    "df=pd.DataFrame(data)\n",
    "df"
   ]
  },
  {
   "cell_type": "code",
   "execution_count": 36,
   "metadata": {},
   "outputs": [],
   "source": [
    "df_backup=df\n",
    "df=df[4:]"
   ]
  },
  {
   "cell_type": "code",
   "execution_count": 37,
   "metadata": {},
   "outputs": [],
   "source": [
    "#Solve the linear regression problem of Hogg Eq 5\n",
    "def plot_linreg(df2):\n",
    "    x,y,yerr= [df2['x'],df2['y'],df2['sigma_y']]\n",
    "\n",
    "    A = np.vander(x, 2)\n",
    "    C = np.diag(yerr * yerr)\n",
    "    ATA = np.dot(A.T, A / (yerr ** 2)[:, None])\n",
    "    cov = np.linalg.inv(ATA)\n",
    "    w = np.linalg.solve(ATA, np.dot(A.T, y / yerr ** 2))\n",
    "    print(\"Least-squares estimates:\")\n",
    "    print(\"m = {0:.3f} ± {1:.3f}\".format(w[0], np.sqrt(cov[0, 0])))\n",
    "    print(\"b = {0:.3f} ± {1:.3f}\".format(w[1], np.sqrt(cov[1, 1])))\n",
    "\n",
    "    x0 = np.linspace(0, 300, 500)\n",
    "    plt.errorbar(x, y, yerr=yerr, fmt=\".k\", capsize=0)\n",
    "    plt.plot(x0, w[0] * x0 + w[1], \"k\", alpha=0.3, lw=3)"
   ]
  },
  {
   "cell_type": "code",
   "execution_count": 38,
   "metadata": {},
   "outputs": [
    {
     "name": "stdout",
     "output_type": "stream",
     "text": [
      "Least-squares estimates:\n",
      "m = 2.240 ± 0.108\n",
      "b = 34.048 ± 18.246\n"
     ]
    },
    {
     "data": {
      "image/png": "[encoded data removed]",
      "text/plain": [
       "<Figure size 432x288 with 1 Axes>"
      ]
     },
     "metadata": {
      "needs_background": "light"
     },
     "output_type": "display_data"
    }
   ],
   "source": [
    "plot_linreg(df)"
   ]
  },
  {
   "cell_type": "code",
   "execution_count": 39,
   "metadata": {},
   "outputs": [
    {
     "name": "stdout",
     "output_type": "stream",
     "text": [
      "Least-squares estimates:\n",
      "m = 1.077 ± 0.077\n",
      "b = 213.273 ± 14.394\n"
     ]
    },
    {
     "data": {
      "image/png": "[encoded data removed]",
      "text/plain": [
       "<Figure size 432x288 with 1 Axes>"
      ]
     },
     "metadata": {
      "needs_background": "light"
     },
     "output_type": "display_data"
    }
   ],
   "source": [
    "plot_linreg(df_backup)"
   ]
  },
  {
   "cell_type": "code",
   "execution_count": 40,
   "metadata": {},
   "outputs": [],
   "source": [
    "#Solve the quadratic regression problem of Hogg Eq 5\n",
    "def plot_quadreg(df):\n",
    "    x,y,yerr= [df['x'],df['y'],df['sigma_y']]\n",
    "\n",
    "    A = np.vander(x, 3)\n",
    "    C = np.diag(yerr * yerr)\n",
    "    ATA = np.dot(A.T, A / (yerr ** 2)[:, None])\n",
    "    cov = np.linalg.inv(ATA)\n",
    "    w = np.linalg.solve(ATA, np.dot(A.T, y / yerr ** 2))\n",
    "    print(\"Least-squares estimates:\")\n",
    "    print(\"a = {0:.3f} ± {1:.3f}\".format(w[0], np.sqrt(cov[0, 0])))\n",
    "    print(\"b = {0:.3f} ± {1:.3f}\".format(w[1], np.sqrt(cov[1, 1])))\n",
    "    print(\"c = {0:.3f} ± {1:.3f}\".format(w[2], np.sqrt(cov[2, 2])))\n",
    "    \n",
    "    x0 = np.linspace(0, 300, 500)\n",
    "    plt.errorbar(x, y, yerr=yerr, fmt=\".k\", capsize=0)\n",
    "    plt.plot(x0, w[0] * x0**2 + w[1] * x0 + w[2], \"k\", alpha=0.3, lw=3)"
   ]
  },
  {
   "cell_type": "code",
   "execution_count": 41,
   "metadata": {},
   "outputs": [
    {
     "name": "stdout",
     "output_type": "stream",
     "text": [
      "Least-squares estimates:\n",
      "a = 0.002 ± 0.002\n",
      "b = 1.596 ± 0.580\n",
      "c = 72.895 ± 38.912\n"
     ]
    },
    {
     "data": {
      "image/png": "[encoded data removed]",
      "text/plain": [
       "<Figure size 432x288 with 1 Axes>"
      ]
     },
     "metadata": {
      "needs_background": "light"
     },
     "output_type": "display_data"
    }
   ],
   "source": [
    "plot_quadreg(df)"
   ]
  },
  {
   "cell_type": "code",
   "execution_count": 42,
   "metadata": {},
   "outputs": [],
   "source": [
    "#Section 3. Adapted from AstroML documentation\n",
    "np.random.seed(0)\n",
    "\n",
    "# ------------------------------------------------------------\n",
    "# Get data: this includes outliers. We need to convert them to Theano variables\n",
    "\n",
    "xi = tshared(data['x'])\n",
    "yi = tshared(data['y'])\n",
    "dyi = tshared(data['sigma_y'])\n",
    "size = len(data)"
   ]
  },
  {
   "cell_type": "code",
   "execution_count": 43,
   "metadata": {},
   "outputs": [
    {
     "name": "stderr",
     "output_type": "stream",
     "text": [
      "Auto-assigning NUTS sampler...\n",
      "Initializing NUTS using jitter+adapt_diag...\n",
      "Multiprocess sampling (4 chains in 4 jobs)\n",
      "NUTS: [theta, inter, log_sigmab, Yb, Pb]\n",
      "Sampling 4 chains, 0 divergences: 100%|██████████| 24000/24000 [00:14<00:00, 1619.37draws/s]\n",
      "The acceptance probability does not match the target. It is 0.9241545678446612, but should be close to 0.8. Try to increase the number of tuning steps.\n",
      "The acceptance probability does not match the target. It is 0.8826326560446394, but should be close to 0.8. Try to increase the number of tuning steps.\n",
      "The number of effective samples is smaller than 25% for some parameters.\n"
     ]
    }
   ],
   "source": [
    "# ----------------------------------------------------------------------\n",
    "# Define basic linear model\n",
    "\n",
    "def model(xi, theta, intercept):\n",
    "    slope = np.tan(theta)\n",
    "    return slope * xi + intercept\n",
    "\n",
    "# ----------------------------------------------------------------------\n",
    "# This is the mixture model given in equation 17 in Hogg et al\n",
    "def mixture_likelihood(yi, xi):\n",
    "\n",
    "    sigmab = tt.exp(log_sigmab)\n",
    "    mu = model(xi, theta, inter)\n",
    "\n",
    "    Vi = dyi ** 2\n",
    "    Vb = sigmab ** 2\n",
    "\n",
    "    root2pi = np.sqrt(2 * np.pi)\n",
    "\n",
    "    L_in = (1. / root2pi / dyi * np.exp(-0.5 * (yi - mu) ** 2 / Vi))\n",
    "\n",
    "    L_out = (1. / root2pi / np.sqrt(Vi + Vb)\n",
    "             * np.exp(-0.5 * (yi - Yb) ** 2 / (Vi + Vb)))\n",
    "\n",
    "    return tt.sum(tt.log((1 - Pb) * L_in + Pb * L_out))\n",
    "\n",
    "\n",
    "with pm.Model():\n",
    "    # uniform prior on Pb, the fraction of bad points\n",
    "    Pb = pm.Uniform('Pb', 0, 1.0, testval=0.1)\n",
    "\n",
    "    # uniform prior on Yb, the centroid of the outlier distribution\n",
    "    Yb = pm.Uniform('Yb', -10000, 10000, testval=0)\n",
    "\n",
    "    # uniform prior on log(sigmab), the spread of the outlier distribution\n",
    "    log_sigmab = pm.Uniform('log_sigmab', -10, 10, testval=5)\n",
    "\n",
    "    inter = pm.Uniform('inter', -200, 400)\n",
    "    theta = pm.Uniform('theta', -np.pi / 2, np.pi / 2, testval=np.pi / 4)\n",
    "\n",
    "    y_mixture = pm.DensityDist('mixturenormal', logp=mixture_likelihood,\n",
    "                               observed={'yi': yi, 'xi': xi})\n",
    "\n",
    "    trace1 = pm.sample(draws=5000, tune=1000)"
   ]
  },
  {
   "cell_type": "code",
   "execution_count": 44,
   "metadata": {},
   "outputs": [],
   "source": [
    "H2D, bins1, bins2 = np.histogram2d(np.tan(trace1['theta']),trace1['inter'], bins=50)"
   ]
  },
  {
   "cell_type": "code",
   "execution_count": 45,
   "metadata": {},
   "outputs": [
    {
     "data": {
      "text/plain": [
       "2.227578584601849"
      ]
     },
     "execution_count": 45,
     "metadata": {},
     "output_type": "execute_result"
    }
   ],
   "source": [
    "sorted_hist=np.sort(H2D,axis=None)\n",
    "top10=sorted_hist[-10:]\n",
    "x0 = np.linspace(0, 300, 500)\n",
    "w = np.where(H2D == H2D.max())\n",
    "bins1[w[0][0]]"
   ]
  },
  {
   "cell_type": "code",
   "execution_count": 46,
   "metadata": {},
   "outputs": [
    {
     "data": {
      "image/png": "[encoded data removed]",
      "text/plain": [
       "<Figure size 432x288 with 1 Axes>"
      ]
     },
     "metadata": {
      "needs_background": "light"
     },
     "output_type": "display_data"
    }
   ],
   "source": [
    "#Part 1 of exercise 6\n",
    "w = np.where(H2D == H2D.max())\n",
    "\n",
    "for i in range(0,10):\n",
    "    w=np.where(H2D==top10[i])\n",
    "# choose the maximum posterior slope and intercept\n",
    "    slope_best = bins1[w[0][0]]\n",
    "    intercept_best = bins2[w[1][0]]\n",
    "\n",
    "    plt.plot(x0, slope_best * x0 + intercept_best, \"k\", alpha=0.3, lw=1)\n",
    "#plot the data\n",
    "plt.errorbar(data['x'], data['y'], data['sigma_y'], fmt='.k', ecolor='gray', lw=1);"
   ]
  },
  {
   "cell_type": "code",
   "execution_count": 47,
   "metadata": {},
   "outputs": [
    {
     "data": {
      "text/plain": [
       "<matplotlib.contour.QuadContourSet at 0x7facbea02350>"
      ]
     },
     "execution_count": 47,
     "metadata": {},
     "output_type": "execute_result"
    },
    {
     "data": {
      "image/png": "[encoded data removed]",
      "text/plain": [
       "<Figure size 432x288 with 1 Axes>"
      ]
     },
     "metadata": {
      "needs_background": "light"
     },
     "output_type": "display_data"
    }
   ],
   "source": [
    "#part 2 of exercise 6\n",
    "counts,xbins,ybins,image=plt.hist2d(trace1['inter'],np.tan(trace1['theta']),bins=100,norm=LogNorm(),cmap='Blues');\n",
    "plt.contour(counts.transpose(),extent=[xbins[0],xbins[-1],ybins[0],ybins[-1]],\n",
    "    linewidths=3,levels=[5, 80])"
   ]
  },
  {
   "cell_type": "code",
   "execution_count": 48,
   "metadata": {},
   "outputs": [
    {
     "data": {
      "image/png": "[encoded data removed]",
      "text/plain": [
       "<Figure size 432x288 with 1 Axes>"
      ]
     },
     "metadata": {
      "needs_background": "light"
     },
     "output_type": "display_data"
    }
   ],
   "source": [
    "#part 1 of exercise 7\n",
    "plt.hist(trace1['Pb'], bins=100,histtype=u'step');"
   ]
  },
  {
   "cell_type": "code",
   "execution_count": 24,
   "metadata": {},
   "outputs": [],
   "source": [
    "data2=fetch_hogg2010test()\n",
    "data2['sigma_y']=data2['sigma_y']/2.0"
   ]
  },
  {
   "cell_type": "code",
   "execution_count": 28,
   "metadata": {},
   "outputs": [
    {
     "name": "stderr",
     "output_type": "stream",
     "text": [
      "Auto-assigning NUTS sampler...\n",
      "Initializing NUTS using nuts...\n",
      "Multiprocess sampling (4 chains in 4 jobs)\n",
      "NUTS: [theta, inter, log_sigmab, Yb, Pb]\n",
      "Sampling 4 chains, 0 divergences: 100%|██████████| 1200000/1200000 [27:14<00:00, 734.16draws/s] \n",
      "The acceptance probability does not match the target. It is 0.1326137775878474, but should be close to 0.8. Try to increase the number of tuning steps.\n",
      "The acceptance probability does not match the target. It is 0.9041887454582075, but should be close to 0.8. Try to increase the number of tuning steps.\n",
      "The acceptance probability does not match the target. It is 0.9719592632670577, but should be close to 0.8. Try to increase the number of tuning steps.\n",
      "The acceptance probability does not match the target. It is 0.9606555967070265, but should be close to 0.8. Try to increase the number of tuning steps.\n",
      "The number of effective samples is smaller than 10% for some parameters.\n",
      "Multiprocess sampling (4 chains in 4 jobs)\n",
      "NUTS: [theta, inter, log_sigmab, Yb, Pb]\n",
      "Sampling 4 chains, 178 divergences: 100%|██████████| 24000/24000 [06:22<00:00, 62.71draws/s]\n",
      "There were 20 divergences after tuning. Increase `target_accept` or reparameterize.\n",
      "The chain reached the maximum tree depth. Increase max_treedepth, increase target_accept or reparameterize.\n",
      "There were 53 divergences after tuning. Increase `target_accept` or reparameterize.\n",
      "The chain reached the maximum tree depth. Increase max_treedepth, increase target_accept or reparameterize.\n",
      "There were 59 divergences after tuning. Increase `target_accept` or reparameterize.\n",
      "The chain reached the maximum tree depth. Increase max_treedepth, increase target_accept or reparameterize.\n",
      "There were 45 divergences after tuning. Increase `target_accept` or reparameterize.\n",
      "The chain reached the maximum tree depth. Increase max_treedepth, increase target_accept or reparameterize.\n",
      "The rhat statistic is larger than 1.05 for some parameters. This indicates slight problems during sampling.\n",
      "The estimated number of effective samples is smaller than 200 for some parameters.\n"
     ]
    }
   ],
   "source": [
    "xi = tshared(data2['x'])\n",
    "yi = tshared(data2['y'])\n",
    "dyi = tshared(data2['sigma_y'])\n",
    "size = len(data2)\n",
    "\n",
    "with pm.Model():\n",
    "    # uniform prior on Pb, the fraction of bad points\n",
    "    Pb = pm.Uniform('Pb', 0, 1.0, testval=0.1)\n",
    "\n",
    "    # uniform prior on Yb, the centroid of the outlier distribution\n",
    "    Yb = pm.Uniform('Yb', -10000, 10000, testval=0)\n",
    "\n",
    "    # uniform prior on log(sigmab), the spread of the outlier distribution\n",
    "    log_sigmab = pm.Uniform('log_sigmab', -10, 10, testval=5)\n",
    "\n",
    "    inter = pm.Uniform('inter', -200, 400)\n",
    "    theta = pm.Uniform('theta', -np.pi / 2, np.pi / 2, testval=np.pi / 4)\n",
    "\n",
    "    y_mixture = pm.DensityDist('mixturenormal', logp=mixture_likelihood,\n",
    "                               observed={'yi': yi, 'xi': xi})\n",
    "\n",
    "    trace1 = pm.sample(draws=5000, init='nuts',tune=1000)"
   ]
  },
  {
   "cell_type": "code",
   "execution_count": 29,
   "metadata": {},
   "outputs": [
    {
     "data": {
      "image/png": "[encoded data removed]",
      "text/plain": [
       "<Figure size 432x288 with 1 Axes>"
      ]
     },
     "metadata": {
      "needs_background": "light"
     },
     "output_type": "display_data"
    }
   ],
   "source": [
    "#part 2 of exercise 7\n",
    "plt.hist(trace1['Pb'], bins=100,histtype=u'step');"
   ]
  },
  {
   "cell_type": "code",
   "execution_count": 49,
   "metadata": {},
   "outputs": [
    {
     "data": {
      "image/png": "[encoded data removed]",
      "text/plain": [
       "<Figure size 432x288 with 1 Axes>"
      ]
     },
     "metadata": {
      "needs_background": "light"
     },
     "output_type": "display_data"
    }
   ],
   "source": [
    "#Exercise 8: The distribution of sigma_m\n",
    "plt.hist(np.tan(trace1['theta']), bins=1000,histtype=u'step');"
   ]
  },
  {
   "cell_type": "code",
   "execution_count": 50,
   "metadata": {},
   "outputs": [
    {
     "name": "stdout",
     "output_type": "stream",
     "text": [
      "Least-squares estimates:\n",
      "m = 1.077 ± 0.077\n",
      "b = 213.273 ± 14.394\n"
     ]
    },
    {
     "data": {
      "image/png": "[encoded data removed]",
      "text/plain": [
       "<Figure size 432x288 with 1 Axes>"
      ]
     },
     "metadata": {
      "needs_background": "light"
     },
     "output_type": "display_data"
    }
   ],
   "source": [
    "#checking best fit of matrix method vs. outlier pruning\n",
    "x,y,yerr= [data['x'],data['y'],data['sigma_y']]\n",
    "\n",
    "A = np.vander(x, 2)\n",
    "C = np.diag(yerr * yerr)\n",
    "ATA = np.dot(A.T, A / (yerr ** 2)[:, None])\n",
    "cov = np.linalg.inv(ATA)\n",
    "w = np.linalg.solve(ATA, np.dot(A.T, y / yerr ** 2))\n",
    "print(\"Least-squares estimates:\")\n",
    "print(\"m = {0:.3f} ± {1:.3f}\".format(w[0], np.sqrt(cov[0, 0])))\n",
    "print(\"b = {0:.3f} ± {1:.3f}\".format(w[1], np.sqrt(cov[1, 1])))\n",
    "x0 = np.linspace(0, 300, 500)\n",
    "plt.errorbar(x, y, yerr=yerr, fmt=\".k\", capsize=0)\n",
    "plt.plot(x0, w[0] * x0 + w[1], \"k\", alpha=0.3, lw=1)\n",
    "\n",
    "w=np.where(H2D==top10[i])\n",
    "# choose the maximum posterior slope and intercept\n",
    "slope_best = bins1[w[0][0]]\n",
    "intercept_best = bins2[w[1][0]]\n",
    "plt.plot(x0, slope_best * x0 + intercept_best, \"k\", alpha=0.3, lw=1, color='b');"
   ]
  },
  {
   "cell_type": "code",
   "execution_count": 51,
   "metadata": {},
   "outputs": [
    {
     "data": {
      "text/plain": [
       "array([2.22022395, 2.25457362, 2.29277401, 2.14660243, 2.20638579,\n",
       "       2.36757095, 2.03890332, 2.35769855, 2.12359512, 2.37359079,\n",
       "       2.23577322, 2.32442241, 2.16728969, 2.26406253, 2.10886251,\n",
       "       2.09456631, 2.37148197, 2.00755932, 2.10747171, 2.39945439,\n",
       "       2.21746264, 2.24901356, 2.22815393, 1.97511143, 2.24364813,\n",
       "       2.29638399, 2.27712229, 2.24065041, 2.31028153, 2.14874074])"
      ]
     },
     "execution_count": 51,
     "metadata": {},
     "output_type": "execute_result"
    }
   ],
   "source": [
    "# draw a sample from population\n",
    "slopes=np.tan(trace1['theta'])\n",
    "sample = np.random.choice(slopes, size=30)\n",
    "sample"
   ]
  },
  {
   "cell_type": "code",
   "execution_count": 52,
   "metadata": {},
   "outputs": [],
   "source": [
    "import dill\n",
    "dill.dump_session('notebook_env.db')"
   ]
  }
 ],
 "metadata": {
  "kernelspec": {
   "display_name": "Python 3",
   "language": "python",
   "name": "python3"
  },
  "language_info": {
   "codemirror_mode": {
    "name": "ipython",
    "version": 3
   },
   "file_extension": ".py",
   "mimetype": "text/x-python",
   "name": "python",
   "nbconvert_exporter": "python",
   "pygments_lexer": "ipython3",
   "version": "3.7.6"
  }
 },
 "nbformat": 4,
 "nbformat_minor": 4
}
