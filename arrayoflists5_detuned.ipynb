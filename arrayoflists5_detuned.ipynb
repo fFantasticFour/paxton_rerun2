{
 "cells": [
  {
   "cell_type": "code",
   "execution_count": 2,
   "metadata": {},
   "outputs": [],
   "source": [
    "from scipy.constants import c\n",
    "import numpy as np\n",
    "from numpy.lib import recfunctions as rec\n",
    "from astropy.io          import fits\n",
    "from astropy.coordinates import SkyCoord, Angle, search_around_sky\n",
    "from astropy             import units as u\n",
    "from astropy import cosmology\n",
    "from astropy.cosmology import FlatLambdaCDM\n",
    "from matplotlib import pyplot as plt\n",
    "import pandas as pd\n",
    "import math\n",
    "from tqdm.notebook import tqdm"
   ]
  },
  {
   "cell_type": "code",
   "execution_count": 2,
   "metadata": {},
   "outputs": [],
   "source": [
    "clusters = fits.getdata(\"dr8_run_redmapper_v5.10_lgt20_catalog.fit\")"
   ]
  },
  {
   "cell_type": "code",
   "execution_count": 3,
   "metadata": {},
   "outputs": [
    {
     "name": "stdout",
     "output_type": "stream",
     "text": [
      "Length of clusters after cutting those without redshift: 16656\n"
     ]
    }
   ],
   "source": [
    "#cutting clusters that don't have redshift\n",
    "cluster_z_filter = clusters[\"BCG_SPEC_Z\"]\n",
    "clusters = clusters[np.where(cluster_z_filter != -1)]\n",
    "print(\"Length of clusters after cutting those without redshift:\", len(clusters))"
   ]
  },
  {
   "cell_type": "code",
   "execution_count": 4,
   "metadata": {},
   "outputs": [
    {
     "name": "stdout",
     "output_type": "stream",
     "text": [
      "Length of dr14 after cutting on class: 2779151\n",
      "Length of dr14 after cutting out suspicious redshifts: 2635685\n"
     ]
    }
   ],
   "source": [
    "dr14 = fits.getdata(\"specObj-dr14.fits\")\n",
    "#cutting dr14 on class\n",
    "clss = dr14[\"CLASS\"]\n",
    "dr14 = dr14[np.where(clss == \"GALAXY\")]\n",
    "print(\"Length of dr14 after cutting on class:\", len(dr14))\n",
    "#cutting data with suspicious redshifts\n",
    "dr14 = dr14[np.where((dr14['ZWARNING']==16) |\n",
    "                   (dr14['ZWARNING']==0) |\n",
    "                   (dr14['ZWARNING']==4))]\n",
    "print(\"Length of dr14 after cutting out suspicious redshifts:\", len(dr14))\n",
    "np.save(\"cut_clusters2.npy\", clusters)\n",
    "np.save(\"cut_dr142.npy\", dr14)"
   ]
  },
  {
   "cell_type": "code",
   "execution_count": 5,
   "metadata": {},
   "outputs": [
    {
     "data": {
      "text/html": [
       "<div>\n",
       "<style scoped>\n",
       "    .dataframe tbody tr th:only-of-type {\n",
       "        vertical-align: middle;\n",
       "    }\n",
       "\n",
       "    .dataframe tbody tr th {\n",
       "        vertical-align: top;\n",
       "    }\n",
       "\n",
       "    .dataframe thead th {\n",
       "        text-align: right;\n",
       "    }\n",
       "</style>\n",
       "<table border=\"1\" class=\"dataframe\">\n",
       "  <thead>\n",
       "    <tr style=\"text-align: right;\">\n",
       "      <th></th>\n",
       "      <th>MEM_MATCH_ID</th>\n",
       "      <th>RA</th>\n",
       "      <th>DEC</th>\n",
       "      <th>MODEL_MAG</th>\n",
       "      <th>MODEL_MAGERR</th>\n",
       "      <th>IMAG</th>\n",
       "      <th>IMAG_ERR</th>\n",
       "      <th>ZRED</th>\n",
       "      <th>ZRED_E</th>\n",
       "      <th>ZRED_CHISQ</th>\n",
       "      <th>BCG_SPEC_Z</th>\n",
       "      <th>Z_SPEC_INIT</th>\n",
       "      <th>Z_INIT</th>\n",
       "      <th>Z</th>\n",
       "      <th>LAMBDA_CHISQ</th>\n",
       "      <th>LAMBDA_CHISQ_E</th>\n",
       "      <th>LAMBDA_ZRED</th>\n",
       "      <th>LAMBDA_ZRED_E</th>\n",
       "      <th>R_LAMBDA</th>\n",
       "      <th>SCALEVAL</th>\n",
       "      <th>MASKFRAC</th>\n",
       "      <th>C_LAMBDA</th>\n",
       "      <th>C_LAMBDA_ERR</th>\n",
       "      <th>MAG_LAMBDA_ERR</th>\n",
       "      <th>CHISQ</th>\n",
       "      <th>Z_LAMBDA</th>\n",
       "      <th>Z_LAMBDA_E</th>\n",
       "      <th>EBV_MEAN</th>\n",
       "      <th>PHOTOID</th>\n",
       "      <th>LNLAMLIKE</th>\n",
       "      <th>LNBCGLIKE</th>\n",
       "      <th>LNLIKE</th>\n",
       "      <th>PZBINS</th>\n",
       "      <th>PZ</th>\n",
       "      <th>NCROSS</th>\n",
       "      <th>RMASK</th>\n",
       "      <th>RA_ORIG</th>\n",
       "      <th>DEC_ORIG</th>\n",
       "      <th>W</th>\n",
       "      <th>DLAMBDA_DZ</th>\n",
       "      <th>DLAMBDA_DZ2</th>\n",
       "      <th>DLAMBDAVAR_DZ</th>\n",
       "      <th>DLAMBDAVAR_DZ2</th>\n",
       "      <th>LAMBDA_CHISQ_C</th>\n",
       "      <th>LAMBDA_CHISQ_CE</th>\n",
       "      <th>NCENT</th>\n",
       "      <th>NCENT_GOOD</th>\n",
       "      <th>RA_CENT</th>\n",
       "      <th>DEC_CENT</th>\n",
       "      <th>ID_CENT</th>\n",
       "      <th>LAMBDA_CHISQ_CENT</th>\n",
       "      <th>ZLAMBDA_CENT</th>\n",
       "      <th>P_BCG</th>\n",
       "      <th>P_CEN</th>\n",
       "      <th>Q_CEN</th>\n",
       "      <th>P_FG</th>\n",
       "      <th>Q_MISS</th>\n",
       "      <th>P_SAT</th>\n",
       "      <th>P_C</th>\n",
       "      <th>BCG_ILUM</th>\n",
       "      <th>ILUM</th>\n",
       "      <th>Z_LAMBDA_RAW</th>\n",
       "      <th>Z_LAMBDA_E_RAW</th>\n",
       "      <th>LIM_EXPTIME</th>\n",
       "      <th>LIM_LIMMAG</th>\n",
       "      <th>LIM_LIMMAG_HARD</th>\n",
       "    </tr>\n",
       "  </thead>\n",
       "  <tbody>\n",
       "    <tr>\n",
       "      <th>0</th>\n",
       "      <td>4</td>\n",
       "      <td>230.600092</td>\n",
       "      <td>27.714369</td>\n",
       "      <td>[17.745682, 15.765336, 14.839079, 14.427721, 1...</td>\n",
       "      <td>[0.024927424, 0.0032128638, 0.0025435446, 0.00...</td>\n",
       "      <td>14.448995</td>\n",
       "      <td>0.002525</td>\n",
       "      <td>0.076568</td>\n",
       "      <td>0.011801</td>\n",
       "      <td>3.239213</td>\n",
       "      <td>0.069041</td>\n",
       "      <td>-1.000000</td>\n",
       "      <td>0.051038</td>\n",
       "      <td>0.080261</td>\n",
       "      <td>133.515747</td>\n",
       "      <td>4.397382</td>\n",
       "      <td>130.678329</td>\n",
       "      <td>3.920125</td>\n",
       "      <td>1.059514</td>\n",
       "      <td>1.046523</td>\n",
       "      <td>0.046024</td>\n",
       "      <td>[1.8691438, 0.87587416, 0.39345893, 0.31646612]</td>\n",
       "      <td>[0.0024012516, 6.466713e-05, 4.4463868e-05, 0....</td>\n",
       "      <td>[0.0023605237, 4.0946295e-05, 2.2213657e-05, 2...</td>\n",
       "      <td>2.258066</td>\n",
       "      <td>0.079783</td>\n",
       "      <td>0.007193</td>\n",
       "      <td>0.015627</td>\n",
       "      <td>45120301202090548</td>\n",
       "      <td>360.167908</td>\n",
       "      <td>-3.511638</td>\n",
       "      <td>356.656281</td>\n",
       "      <td>[0.03921186, 0.043268934, 0.047326013, 0.05138...</td>\n",
       "      <td>[9.779953e-06, 0.00020469692, 0.002381726, 0.0...</td>\n",
       "      <td>1</td>\n",
       "      <td>1.589270</td>\n",
       "      <td>230.621564</td>\n",
       "      <td>27.707631</td>\n",
       "      <td>1.393579</td>\n",
       "      <td>4.253886</td>\n",
       "      <td>141.704514</td>\n",
       "      <td>196.791122</td>\n",
       "      <td>8643.178711</td>\n",
       "      <td>133.969025</td>\n",
       "      <td>0.748697</td>\n",
       "      <td>5</td>\n",
       "      <td>4</td>\n",
       "      <td>[230.60009187643863, 230.62156355660142, 230.6...</td>\n",
       "      <td>[27.714369052606486, 27.707631468188342, 27.67...</td>\n",
       "      <td>[28885825, 28886055, 28886128, 28886049, 28885...</td>\n",
       "      <td>[133.51575, 134.87344, 132.69199, 133.79034, 1...</td>\n",
       "      <td>[0.08003884, 0.07969745, 0.0, 0.0, 0.0]</td>\n",
       "      <td>[1.0, 1.0, 1.0, 1.0, 1.0]</td>\n",
       "      <td>[0.54657, 0.37469944, 0.057146966, 0.016078142...</td>\n",
       "      <td>[0.24606082, 0.16868626, 0.025727041, 0.007238...</td>\n",
       "      <td>[9.386968e-05, 0.0045184894, 0.00039432713, 0....</td>\n",
       "      <td>-1.322825</td>\n",
       "      <td>[0.45333612, 0.620782, 0.9424587, 0.9828617, 0...</td>\n",
       "      <td>[0.30917212, 0.23477708, 0.044700995, 0.012993...</td>\n",
       "      <td>3.392455</td>\n",
       "      <td>87.916885</td>\n",
       "      <td>0.080039</td>\n",
       "      <td>0.001728</td>\n",
       "      <td>175.399353</td>\n",
       "      <td>21.140350</td>\n",
       "      <td>21.0</td>\n",
       "    </tr>\n",
       "    <tr>\n",
       "      <th>1</th>\n",
       "      <td>6</td>\n",
       "      <td>203.833723</td>\n",
       "      <td>41.001146</td>\n",
       "      <td>[19.995804, 17.901672, 16.366825, 15.850655, 1...</td>\n",
       "      <td>[0.107984856, 0.009154892, 0.0045009954, 0.004...</td>\n",
       "      <td>15.923666</td>\n",
       "      <td>0.004324</td>\n",
       "      <td>0.258183</td>\n",
       "      <td>0.010269</td>\n",
       "      <td>5.782617</td>\n",
       "      <td>0.228309</td>\n",
       "      <td>0.228309</td>\n",
       "      <td>0.258183</td>\n",
       "      <td>0.236098</td>\n",
       "      <td>190.996490</td>\n",
       "      <td>5.667876</td>\n",
       "      <td>175.711014</td>\n",
       "      <td>5.209084</td>\n",
       "      <td>1.138165</td>\n",
       "      <td>1.007606</td>\n",
       "      <td>0.010407</td>\n",
       "      <td>[1.87869, 1.3443203, 0.4924913, 0.33730394]</td>\n",
       "      <td>[0.12091971, 0.0012286201, 0.00045845855, 0.00...</td>\n",
       "      <td>[0.11959795, 0.00097178435, 0.00023139443, 0.0...</td>\n",
       "      <td>11.636747</td>\n",
       "      <td>0.231596</td>\n",
       "      <td>0.005989</td>\n",
       "      <td>0.015653</td>\n",
       "      <td>39190301400210138</td>\n",
       "      <td>322.990448</td>\n",
       "      <td>2.318103</td>\n",
       "      <td>325.308563</td>\n",
       "      <td>[0.19635104, 0.19987558, 0.2034001, 0.20692465...</td>\n",
       "      <td>[8.6275793e-07, 2.8410159e-05, 0.0008116087, 0...</td>\n",
       "      <td>1</td>\n",
       "      <td>1.707247</td>\n",
       "      <td>203.833723</td>\n",
       "      <td>41.001146</td>\n",
       "      <td>1.171649</td>\n",
       "      <td>5.743537</td>\n",
       "      <td>88.327370</td>\n",
       "      <td>341.513123</td>\n",
       "      <td>8660.248047</td>\n",
       "      <td>190.996490</td>\n",
       "      <td>0.000000</td>\n",
       "      <td>5</td>\n",
       "      <td>1</td>\n",
       "      <td>[203.83372267931975, 203.81826148910173, 203.7...</td>\n",
       "      <td>[41.0011464409052, 41.013149364143544, 40.9775...</td>\n",
       "      <td>[23718404, 23718515, 23718433, 23718443, 23718...</td>\n",
       "      <td>[190.99649, 0.0, 0.0, 0.0, 0.0]</td>\n",
       "      <td>[0.23023634, 0.0, 0.0, 0.0, 0.0]</td>\n",
       "      <td>[1.0, 1.0, 1.0, 1.0, 1.0]</td>\n",
       "      <td>[0.9996656, 0.0003289845, 4.359725e-06, 7.1390...</td>\n",
       "      <td>[0.97640026, 0.000321328, 4.258261e-06, 6.9729...</td>\n",
       "      <td>[3.3679346e-05, 0.0016452592, 0.009282246, 0.0...</td>\n",
       "      <td>-7.500886</td>\n",
       "      <td>[0.00030070273, 0.9980258, 0.9907134, 0.934557...</td>\n",
       "      <td>[0.9767193, 0.01361882, 0.0001829359, 2.996047...</td>\n",
       "      <td>8.065262</td>\n",
       "      <td>131.307648</td>\n",
       "      <td>0.230236</td>\n",
       "      <td>0.001983</td>\n",
       "      <td>276.459167</td>\n",
       "      <td>21.120052</td>\n",
       "      <td>21.0</td>\n",
       "    </tr>\n",
       "    <tr>\n",
       "      <th>2</th>\n",
       "      <td>8</td>\n",
       "      <td>150.558906</td>\n",
       "      <td>20.537949</td>\n",
       "      <td>[21.571142, 19.440008, 17.76432, 17.182882, 16...</td>\n",
       "      <td>[0.4019186, 0.027899064, 0.010375315, 0.009191...</td>\n",
       "      <td>17.218683</td>\n",
       "      <td>0.009204</td>\n",
       "      <td>0.307712</td>\n",
       "      <td>0.016845</td>\n",
       "      <td>1.670911</td>\n",
       "      <td>0.319619</td>\n",
       "      <td>0.320468</td>\n",
       "      <td>0.294900</td>\n",
       "      <td>0.317472</td>\n",
       "      <td>153.392975</td>\n",
       "      <td>5.798571</td>\n",
       "      <td>116.826805</td>\n",
       "      <td>5.647635</td>\n",
       "      <td>1.089334</td>\n",
       "      <td>0.991426</td>\n",
       "      <td>0.000000</td>\n",
       "      <td>[1.7378201, 1.5410571, 0.5642925, 0.3710528]</td>\n",
       "      <td>[0.4319495, 0.0051411786, 0.0011786495, 0.0033...</td>\n",
       "      <td>[0.42127, 0.004448875, 0.0006520851, 0.0005207...</td>\n",
       "      <td>0.935555</td>\n",
       "      <td>0.324495</td>\n",
       "      <td>0.012751</td>\n",
       "      <td>0.032738</td>\n",
       "      <td>51380301200690289</td>\n",
       "      <td>310.611298</td>\n",
       "      <td>-1.126765</td>\n",
       "      <td>309.484528</td>\n",
       "      <td>[0.2455487, 0.25344333, 0.261338, 0.26923263, ...</td>\n",
       "      <td>[4.78119e-09, 4.886734e-07, 2.7867156e-05, 0.0...</td>\n",
       "      <td>1</td>\n",
       "      <td>1.634001</td>\n",
       "      <td>150.611819</td>\n",
       "      <td>20.517165</td>\n",
       "      <td>1.124652</td>\n",
       "      <td>8.069870</td>\n",
       "      <td>327.751801</td>\n",
       "      <td>197.223557</td>\n",
       "      <td>25316.328125</td>\n",
       "      <td>154.564667</td>\n",
       "      <td>6.776568</td>\n",
       "      <td>5</td>\n",
       "      <td>2</td>\n",
       "      <td>[150.55890608070382, 150.61181876342, 150.5464...</td>\n",
       "      <td>[20.537949366927045, 20.517165100493703, 20.53...</td>\n",
       "      <td>[36973936, 36973948, 36973933, 36973962, 36974...</td>\n",
       "      <td>[153.39297, 192.76607, 140.51778, 157.95422, 9...</td>\n",
       "      <td>[0.31111228, 0.313909, 0.0, 0.0, 0.0]</td>\n",
       "      <td>[1.0, 1.0, 1.0, 1.0, 1.0]</td>\n",
       "      <td>[0.96790963, 0.030302156, 0.0016486825, 0.0001...</td>\n",
       "      <td>[0.13991092, 0.0043801637, 0.00023831635, 1.83...</td>\n",
       "      <td>[0.0002578686, 0.024578966, 0.0062566185, 0.04...</td>\n",
       "      <td>-0.271974</td>\n",
       "      <td>[0.031832498, 0.94511884, 0.9920947, 0.9515998...</td>\n",
       "      <td>[0.14056295, 0.005094217, 0.00027850823, 2.149...</td>\n",
       "      <td>4.928378</td>\n",
       "      <td>106.356384</td>\n",
       "      <td>0.311112</td>\n",
       "      <td>0.004040</td>\n",
       "      <td>823198.625000</td>\n",
       "      <td>21.078342</td>\n",
       "      <td>21.0</td>\n",
       "    </tr>\n",
       "    <tr>\n",
       "      <th>3</th>\n",
       "      <td>11</td>\n",
       "      <td>126.371092</td>\n",
       "      <td>47.133571</td>\n",
       "      <td>[17.712244, 15.598169, 14.518681, 14.068685, 1...</td>\n",
       "      <td>[0.03301763, 0.003558743, 0.0025131386, 0.0023...</td>\n",
       "      <td>14.041808</td>\n",
       "      <td>0.002340</td>\n",
       "      <td>0.109948</td>\n",
       "      <td>0.008897</td>\n",
       "      <td>5.690232</td>\n",
       "      <td>0.129045</td>\n",
       "      <td>0.129045</td>\n",
       "      <td>0.109948</td>\n",
       "      <td>0.127557</td>\n",
       "      <td>134.583603</td>\n",
       "      <td>4.980084</td>\n",
       "      <td>144.484070</td>\n",
       "      <td>4.262939</td>\n",
       "      <td>1.061203</td>\n",
       "      <td>1.050988</td>\n",
       "      <td>0.048366</td>\n",
       "      <td>[1.9205897, 1.024249, 0.4266156, 0.35437647]</td>\n",
       "      <td>[0.015148893, 0.00025024312, 0.00013233212, 0....</td>\n",
       "      <td>[0.0149719, 0.00017588148, 7.231221e-05, 5.755...</td>\n",
       "      <td>1.882430</td>\n",
       "      <td>0.127465</td>\n",
       "      <td>0.003877</td>\n",
       "      <td>0.062274</td>\n",
       "      <td>13310301201500030</td>\n",
       "      <td>301.990265</td>\n",
       "      <td>-0.911886</td>\n",
       "      <td>301.078369</td>\n",
       "      <td>[0.105454825, 0.10765589, 0.10985694, 0.112058...</td>\n",
       "      <td>[1.2638108e-05, 0.00026348972, 0.00401787, 0.0...</td>\n",
       "      <td>1</td>\n",
       "      <td>1.591804</td>\n",
       "      <td>126.371092</td>\n",
       "      <td>47.133571</td>\n",
       "      <td>1.097789</td>\n",
       "      <td>9.908775</td>\n",
       "      <td>-1340.989868</td>\n",
       "      <td>236.681015</td>\n",
       "      <td>-42784.875000</td>\n",
       "      <td>134.583603</td>\n",
       "      <td>0.000000</td>\n",
       "      <td>5</td>\n",
       "      <td>1</td>\n",
       "      <td>[126.37109233508451, 126.32038305493103, 126.2...</td>\n",
       "      <td>[47.133571302130925, 47.14255155165621, 47.154...</td>\n",
       "      <td>[1815736, 2051951, 2051935, 2051940, 2051970]</td>\n",
       "      <td>[134.5836, 0.0, 0.0, 0.0, 0.0]</td>\n",
       "      <td>[0.12718037, 0.0, 0.0, 0.0, 0.0]</td>\n",
       "      <td>[1.0, 1.0, 1.0, 1.0, 1.0]</td>\n",
       "      <td>[0.9993387, 0.00038263274, 0.0002725571, 6.098...</td>\n",
       "      <td>[0.98590076, 0.00037748754, 0.0002688921, 6.01...</td>\n",
       "      <td>[0.00041144915, 0.00077578943, 0.0033911415, 0...</td>\n",
       "      <td>-8.643040</td>\n",
       "      <td>[0.0002498644, 0.9988415, 0.9963363, 0.9992104...</td>\n",
       "      <td>[0.9865444, 0.027306005, 0.019604627, 0.000447...</td>\n",
       "      <td>12.799352</td>\n",
       "      <td>84.273735</td>\n",
       "      <td>0.127180</td>\n",
       "      <td>0.001877</td>\n",
       "      <td>205.794983</td>\n",
       "      <td>20.958195</td>\n",
       "      <td>21.0</td>\n",
       "    </tr>\n",
       "  </tbody>\n",
       "</table>\n",
       "</div>"
      ],
      "text/plain": [
       "   MEM_MATCH_ID          RA        DEC  \\\n",
       "0             4  230.600092  27.714369   \n",
       "1             6  203.833723  41.001146   \n",
       "2             8  150.558906  20.537949   \n",
       "3            11  126.371092  47.133571   \n",
       "\n",
       "                                           MODEL_MAG  \\\n",
       "0  [17.745682, 15.765336, 14.839079, 14.427721, 1...   \n",
       "1  [19.995804, 17.901672, 16.366825, 15.850655, 1...   \n",
       "2  [21.571142, 19.440008, 17.76432, 17.182882, 16...   \n",
       "3  [17.712244, 15.598169, 14.518681, 14.068685, 1...   \n",
       "\n",
       "                                        MODEL_MAGERR       IMAG  IMAG_ERR  \\\n",
       "0  [0.024927424, 0.0032128638, 0.0025435446, 0.00...  14.448995  0.002525   \n",
       "1  [0.107984856, 0.009154892, 0.0045009954, 0.004...  15.923666  0.004324   \n",
       "2  [0.4019186, 0.027899064, 0.010375315, 0.009191...  17.218683  0.009204   \n",
       "3  [0.03301763, 0.003558743, 0.0025131386, 0.0023...  14.041808  0.002340   \n",
       "\n",
       "       ZRED    ZRED_E  ZRED_CHISQ  BCG_SPEC_Z  Z_SPEC_INIT    Z_INIT  \\\n",
       "0  0.076568  0.011801    3.239213    0.069041    -1.000000  0.051038   \n",
       "1  0.258183  0.010269    5.782617    0.228309     0.228309  0.258183   \n",
       "2  0.307712  0.016845    1.670911    0.319619     0.320468  0.294900   \n",
       "3  0.109948  0.008897    5.690232    0.129045     0.129045  0.109948   \n",
       "\n",
       "          Z  LAMBDA_CHISQ  LAMBDA_CHISQ_E  LAMBDA_ZRED  LAMBDA_ZRED_E  \\\n",
       "0  0.080261    133.515747        4.397382   130.678329       3.920125   \n",
       "1  0.236098    190.996490        5.667876   175.711014       5.209084   \n",
       "2  0.317472    153.392975        5.798571   116.826805       5.647635   \n",
       "3  0.127557    134.583603        4.980084   144.484070       4.262939   \n",
       "\n",
       "   R_LAMBDA  SCALEVAL  MASKFRAC  \\\n",
       "0  1.059514  1.046523  0.046024   \n",
       "1  1.138165  1.007606  0.010407   \n",
       "2  1.089334  0.991426  0.000000   \n",
       "3  1.061203  1.050988  0.048366   \n",
       "\n",
       "                                          C_LAMBDA  \\\n",
       "0  [1.8691438, 0.87587416, 0.39345893, 0.31646612]   \n",
       "1      [1.87869, 1.3443203, 0.4924913, 0.33730394]   \n",
       "2     [1.7378201, 1.5410571, 0.5642925, 0.3710528]   \n",
       "3     [1.9205897, 1.024249, 0.4266156, 0.35437647]   \n",
       "\n",
       "                                        C_LAMBDA_ERR  \\\n",
       "0  [0.0024012516, 6.466713e-05, 4.4463868e-05, 0....   \n",
       "1  [0.12091971, 0.0012286201, 0.00045845855, 0.00...   \n",
       "2  [0.4319495, 0.0051411786, 0.0011786495, 0.0033...   \n",
       "3  [0.015148893, 0.00025024312, 0.00013233212, 0....   \n",
       "\n",
       "                                      MAG_LAMBDA_ERR      CHISQ  Z_LAMBDA  \\\n",
       "0  [0.0023605237, 4.0946295e-05, 2.2213657e-05, 2...   2.258066  0.079783   \n",
       "1  [0.11959795, 0.00097178435, 0.00023139443, 0.0...  11.636747  0.231596   \n",
       "2  [0.42127, 0.004448875, 0.0006520851, 0.0005207...   0.935555  0.324495   \n",
       "3  [0.0149719, 0.00017588148, 7.231221e-05, 5.755...   1.882430  0.127465   \n",
       "\n",
       "   Z_LAMBDA_E  EBV_MEAN            PHOTOID   LNLAMLIKE  LNBCGLIKE      LNLIKE  \\\n",
       "0    0.007193  0.015627  45120301202090548  360.167908  -3.511638  356.656281   \n",
       "1    0.005989  0.015653  39190301400210138  322.990448   2.318103  325.308563   \n",
       "2    0.012751  0.032738  51380301200690289  310.611298  -1.126765  309.484528   \n",
       "3    0.003877  0.062274  13310301201500030  301.990265  -0.911886  301.078369   \n",
       "\n",
       "                                              PZBINS  \\\n",
       "0  [0.03921186, 0.043268934, 0.047326013, 0.05138...   \n",
       "1  [0.19635104, 0.19987558, 0.2034001, 0.20692465...   \n",
       "2  [0.2455487, 0.25344333, 0.261338, 0.26923263, ...   \n",
       "3  [0.105454825, 0.10765589, 0.10985694, 0.112058...   \n",
       "\n",
       "                                                  PZ  NCROSS     RMASK  \\\n",
       "0  [9.779953e-06, 0.00020469692, 0.002381726, 0.0...       1  1.589270   \n",
       "1  [8.6275793e-07, 2.8410159e-05, 0.0008116087, 0...       1  1.707247   \n",
       "2  [4.78119e-09, 4.886734e-07, 2.7867156e-05, 0.0...       1  1.634001   \n",
       "3  [1.2638108e-05, 0.00026348972, 0.00401787, 0.0...       1  1.591804   \n",
       "\n",
       "      RA_ORIG   DEC_ORIG         W  DLAMBDA_DZ  DLAMBDA_DZ2  DLAMBDAVAR_DZ  \\\n",
       "0  230.621564  27.707631  1.393579    4.253886   141.704514     196.791122   \n",
       "1  203.833723  41.001146  1.171649    5.743537    88.327370     341.513123   \n",
       "2  150.611819  20.517165  1.124652    8.069870   327.751801     197.223557   \n",
       "3  126.371092  47.133571  1.097789    9.908775 -1340.989868     236.681015   \n",
       "\n",
       "   DLAMBDAVAR_DZ2  LAMBDA_CHISQ_C  LAMBDA_CHISQ_CE  NCENT  NCENT_GOOD  \\\n",
       "0     8643.178711      133.969025         0.748697      5           4   \n",
       "1     8660.248047      190.996490         0.000000      5           1   \n",
       "2    25316.328125      154.564667         6.776568      5           2   \n",
       "3   -42784.875000      134.583603         0.000000      5           1   \n",
       "\n",
       "                                             RA_CENT  \\\n",
       "0  [230.60009187643863, 230.62156355660142, 230.6...   \n",
       "1  [203.83372267931975, 203.81826148910173, 203.7...   \n",
       "2  [150.55890608070382, 150.61181876342, 150.5464...   \n",
       "3  [126.37109233508451, 126.32038305493103, 126.2...   \n",
       "\n",
       "                                            DEC_CENT  \\\n",
       "0  [27.714369052606486, 27.707631468188342, 27.67...   \n",
       "1  [41.0011464409052, 41.013149364143544, 40.9775...   \n",
       "2  [20.537949366927045, 20.517165100493703, 20.53...   \n",
       "3  [47.133571302130925, 47.14255155165621, 47.154...   \n",
       "\n",
       "                                             ID_CENT  \\\n",
       "0  [28885825, 28886055, 28886128, 28886049, 28885...   \n",
       "1  [23718404, 23718515, 23718433, 23718443, 23718...   \n",
       "2  [36973936, 36973948, 36973933, 36973962, 36974...   \n",
       "3      [1815736, 2051951, 2051935, 2051940, 2051970]   \n",
       "\n",
       "                                   LAMBDA_CHISQ_CENT  \\\n",
       "0  [133.51575, 134.87344, 132.69199, 133.79034, 1...   \n",
       "1                    [190.99649, 0.0, 0.0, 0.0, 0.0]   \n",
       "2  [153.39297, 192.76607, 140.51778, 157.95422, 9...   \n",
       "3                     [134.5836, 0.0, 0.0, 0.0, 0.0]   \n",
       "\n",
       "                              ZLAMBDA_CENT                      P_BCG  \\\n",
       "0  [0.08003884, 0.07969745, 0.0, 0.0, 0.0]  [1.0, 1.0, 1.0, 1.0, 1.0]   \n",
       "1         [0.23023634, 0.0, 0.0, 0.0, 0.0]  [1.0, 1.0, 1.0, 1.0, 1.0]   \n",
       "2    [0.31111228, 0.313909, 0.0, 0.0, 0.0]  [1.0, 1.0, 1.0, 1.0, 1.0]   \n",
       "3         [0.12718037, 0.0, 0.0, 0.0, 0.0]  [1.0, 1.0, 1.0, 1.0, 1.0]   \n",
       "\n",
       "                                               P_CEN  \\\n",
       "0  [0.54657, 0.37469944, 0.057146966, 0.016078142...   \n",
       "1  [0.9996656, 0.0003289845, 4.359725e-06, 7.1390...   \n",
       "2  [0.96790963, 0.030302156, 0.0016486825, 0.0001...   \n",
       "3  [0.9993387, 0.00038263274, 0.0002725571, 6.098...   \n",
       "\n",
       "                                               Q_CEN  \\\n",
       "0  [0.24606082, 0.16868626, 0.025727041, 0.007238...   \n",
       "1  [0.97640026, 0.000321328, 4.258261e-06, 6.9729...   \n",
       "2  [0.13991092, 0.0043801637, 0.00023831635, 1.83...   \n",
       "3  [0.98590076, 0.00037748754, 0.0002688921, 6.01...   \n",
       "\n",
       "                                                P_FG    Q_MISS  \\\n",
       "0  [9.386968e-05, 0.0045184894, 0.00039432713, 0.... -1.322825   \n",
       "1  [3.3679346e-05, 0.0016452592, 0.009282246, 0.0... -7.500886   \n",
       "2  [0.0002578686, 0.024578966, 0.0062566185, 0.04... -0.271974   \n",
       "3  [0.00041144915, 0.00077578943, 0.0033911415, 0... -8.643040   \n",
       "\n",
       "                                               P_SAT  \\\n",
       "0  [0.45333612, 0.620782, 0.9424587, 0.9828617, 0...   \n",
       "1  [0.00030070273, 0.9980258, 0.9907134, 0.934557...   \n",
       "2  [0.031832498, 0.94511884, 0.9920947, 0.9515998...   \n",
       "3  [0.0002498644, 0.9988415, 0.9963363, 0.9992104...   \n",
       "\n",
       "                                                 P_C   BCG_ILUM        ILUM  \\\n",
       "0  [0.30917212, 0.23477708, 0.044700995, 0.012993...   3.392455   87.916885   \n",
       "1  [0.9767193, 0.01361882, 0.0001829359, 2.996047...   8.065262  131.307648   \n",
       "2  [0.14056295, 0.005094217, 0.00027850823, 2.149...   4.928378  106.356384   \n",
       "3  [0.9865444, 0.027306005, 0.019604627, 0.000447...  12.799352   84.273735   \n",
       "\n",
       "   Z_LAMBDA_RAW  Z_LAMBDA_E_RAW    LIM_EXPTIME  LIM_LIMMAG  LIM_LIMMAG_HARD  \n",
       "0      0.080039        0.001728     175.399353   21.140350             21.0  \n",
       "1      0.230236        0.001983     276.459167   21.120052             21.0  \n",
       "2      0.311112        0.004040  823198.625000   21.078342             21.0  \n",
       "3      0.127180        0.001877     205.794983   20.958195             21.0  "
      ]
     },
     "execution_count": 5,
     "metadata": {},
     "output_type": "execute_result"
    }
   ],
   "source": [
    "dt=clusters[1:5]\n",
    "df=pd.DataFrame.from_records(dt.tolist(), columns=dt.dtype.names)\n",
    "pd.set_option('display.max_columns', 500)\n",
    "df.head()"
   ]
  },
  {
   "cell_type": "code",
   "execution_count": 6,
   "metadata": {},
   "outputs": [],
   "source": [
    "central_ra = np.radians(clusters[\"RA\"])\n",
    "central_dec = np.radians(clusters[\"DEC\"])\n",
    "member_ra = np.radians(dr14[\"PLUG_RA\"])\n",
    "member_dec = np.radians(dr14[\"PLUG_DEC\"])"
   ]
  },
  {
   "cell_type": "code",
   "execution_count": 7,
   "metadata": {},
   "outputs": [],
   "source": [
    "r_lambda = clusters[\"R_LAMBDA\"]\n",
    "central_z = clusters[\"BCG_SPEC_Z\"]\n",
    "member_z = dr14[\"Z\"]\n",
    "richness = clusters[\"LAMBDA_CHISQ\"]"
   ]
  },
  {
   "cell_type": "code",
   "execution_count": 8,
   "metadata": {},
   "outputs": [],
   "source": [
    "COSMO = FlatLambdaCDM(H0=100, Om0=0.3)\n",
    "angular_diameter_distances = COSMO.angular_diameter_distance(central_z).value #Mpc"
   ]
  },
  {
   "cell_type": "code",
   "execution_count": 9,
   "metadata": {},
   "outputs": [],
   "source": [
    "theta_max = 5 * r_lambda / angular_diameter_distances #radians\n",
    "vmax = 3e6 * (richness / 20.0) ** 0.45  # m/s"
   ]
  },
  {
   "cell_type": "code",
   "execution_count": 10,
   "metadata": {},
   "outputs": [],
   "source": [
    "myra = (dr14[\"PLUG_RA\"] * u.deg).to(u.rad).value\n",
    "mydec = (dr14[\"PLUG_DEC\"] * u.deg).to(u.rad).value"
   ]
  },
  {
   "cell_type": "code",
   "execution_count": 11,
   "metadata": {},
   "outputs": [],
   "source": [
    "def matchingroutine (RAnew, DECnew, RAorig, DECorig):\n",
    "\n",
    "    new_ra = Angle(RAnew, unit=u.degree)\n",
    "    new_dec = Angle(DECnew, unit=u.degree)\n",
    "    red_coord = SkyCoord(ra=new_ra, dec=new_dec, unit = (u.deg, u.deg))\n",
    "\n",
    "    orig_ra = Angle(RAorig, unit=u.degree)\n",
    "    orig_dec = Angle(DECorig, unit=u.degree)\n",
    "    sdss_coord = SkyCoord(ra=orig_ra, dec=orig_dec, unit = (u.deg, u.deg))\n",
    "\n",
    "    idx, d2d, d3d = red_coord.match_to_catalog_sky(sdss_coord)\n",
    "\n",
    "    #print (\"idx is %s long\" % (len(idx)))\n",
    "    #print(\"idx refers to indices in the second catalog that items in the first match\")\n",
    "    return idx, d2d"
   ]
  },
  {
   "cell_type": "code",
   "execution_count": 12,
   "metadata": {},
   "outputs": [
    {
     "name": "stdout",
     "output_type": "stream",
     "text": [
      "Length of member matching data: 16656\n",
      "Length of matching data after cutting bad distance matches: 16610\n",
      "Length of matching data after cutting differing z values: 16605\n"
     ]
    }
   ],
   "source": [
    "dr14_ra = dr14[\"PLUG_RA\"]\n",
    "dr14_dec = dr14[\"PLUG_DEC\"]\n",
    "members=clusters\n",
    "member_ra = members[\"RA\"]\n",
    "member_dec = members[\"DEC\"]\n",
    "\n",
    "#Matches first to second: what index of dr14 does members[i] correspond to?\n",
    "idx, d2d = matchingroutine(member_ra, member_dec, dr14_ra, dr14_dec)\n",
    "print(\"Length of member matching data:\", len(idx))\n",
    "\n",
    "good_matches = np.where(d2d <= 2*u.arcsec)[0]\n",
    "print(\"Length of matching data after cutting bad distance matches:\", len(good_matches))\n",
    "members = members[good_matches]\n",
    "idx = idx[good_matches]\n",
    "mydr14 = dr14[idx]\n",
    "\n",
    "member_z = members[\"BCG_SPEC_Z\"]\n",
    "dr14_z = mydr14[\"Z\"]\n",
    "\n",
    "good_matches = np.where(np.abs(member_z - dr14_z) < 0.03)[0]\n",
    "\n",
    "print(\"Length of matching data after cutting differing z values:\", len(good_matches))\n",
    "\n",
    "members = members[good_matches]\n",
    "mydr14 = mydr14[good_matches]"
   ]
  },
  {
   "cell_type": "code",
   "execution_count": 13,
   "metadata": {},
   "outputs": [],
   "source": [
    "clusters=members\n",
    "central_ra = np.radians(clusters[\"RA\"])\n",
    "central_dec = np.radians(clusters[\"DEC\"])\n",
    "member_ra = np.radians(dr14[\"PLUG_RA\"])\n",
    "member_dec = np.radians(dr14[\"PLUG_DEC\"])\n",
    "richness = clusters[\"LAMBDA_CHISQ\"]\n",
    "r_lambda = clusters[\"R_LAMBDA\"]\n",
    "r_lambda = ((richness / 100)**0.2) #Mpc\n",
    "central_z = clusters[\"BCG_SPEC_Z\"]\n",
    "member_z = dr14[\"Z\"]\n",
    "COSMO = FlatLambdaCDM(H0=100, Om0=0.3)\n",
    "angular_diameter_distances = COSMO.angular_diameter_distance(central_z).value #Mpc\n",
    "theta_max = 5 * r_lambda / angular_diameter_distances #radians\n",
    "vmax = 3e6 * (richness / 20.0) ** 0.45  # m/s"
   ]
  },
  {
   "cell_type": "code",
   "execution_count": 14,
   "metadata": {},
   "outputs": [],
   "source": [
    "myra = (dr14[\"PLUG_RA\"] * u.deg).to(u.rad).value\n",
    "mydec = (dr14[\"PLUG_DEC\"] * u.deg).to(u.rad).value"
   ]
  },
  {
   "cell_type": "code",
   "execution_count": 15,
   "metadata": {},
   "outputs": [
    {
     "data": {
      "application/vnd.jupyter.widget-view+json": {
       "model_id": "5fd87ac3766b438c83da31c2d6a67b43",
       "version_major": 2,
       "version_minor": 0
      },
      "text/plain": [
       "HBox(children=(IntProgress(value=0, max=16605), HTML(value='')))"
      ]
     },
     "metadata": {},
     "output_type": "display_data"
    },
    {
     "name": "stderr",
     "output_type": "stream",
     "text": [
      "/usr/local/lib/python3.7/site-packages/ipykernel_launcher.py:22: RuntimeWarning: invalid value encountered in arccos\n",
      "/usr/local/lib/python3.7/site-packages/ipykernel_launcher.py:53: RuntimeWarning: invalid value encountered in less_equal\n"
     ]
    },
    {
     "name": "stdout",
     "output_type": "stream",
     "text": [
      "\n"
     ]
    }
   ],
   "source": [
    "#Be careful! If you don't re-initialize them the lists will just \n",
    "#keep growing\n",
    "\n",
    "mem_idx = np.empty(len(clusters), dtype=object)\n",
    "clust_idx = np.empty(len(clusters), dtype=object)\n",
    "r = np.empty(len(clusters), dtype=object)\n",
    "x = np.empty(len(clusters), dtype=object)\n",
    "v = np.empty(len(clusters), dtype=object)\n",
    "sep2d = np.empty(len(clusters), dtype=object)\n",
    "rich = np.empty(len(clusters), dtype=object)\n",
    "zcen = np.empty(len(clusters), dtype=object)\n",
    "\n",
    "for i in range(len(clusters)):\n",
    "    mem_idx[i]=[]\n",
    "    r[i]=[]\n",
    "    x[i]=[]\n",
    "    v[i]=[]\n",
    "    sep2d[i]=[]\n",
    "\n",
    "    \n",
    "for i in tqdm(range(len(clusters))):\n",
    "    sep=np.arccos(np.sin(member_dec)*math.sin(central_dec[i])+np.cos(member_dec)*math.cos(central_dec[i])*np.cos(member_ra-central_ra[i]))\n",
    "    \"\"\"\n",
    "    ra1=member_ra*360/2/math.pi\n",
    "    dec1=member_dec*360/2/math.pi\n",
    "    ra2=central_ra[i]*360/2/math.pi\n",
    "    dec2=central_dec[i]*360/2/math.pi\n",
    "    \n",
    "    ra_1 = Angle(ra1, unit=u.degree)\n",
    "    dec_1 = Angle(dec1, unit=u.degree)\n",
    "    coord1 = SkyCoord(ra=ra_1, dec=dec_1, unit = (u.deg, u.deg))\n",
    "\n",
    "    ra_2 = Angle(ra2, unit=u.degree)\n",
    "    dec_2 = Angle(dec2, unit=u.degree)\n",
    "    coord2 = SkyCoord(ra=ra_2, dec=dec_2, unit = (u.deg, u.deg))\n",
    "\n",
    "    sep2 = coord1.separation(coord2)\n",
    "    \"\"\"\n",
    "    vel=c * (member_z - central_z[i]) / (1 + central_z[i])\n",
    "\n",
    "    this_ra = central_ra[i]\n",
    "    this_dec = central_dec[i]\n",
    "    this_tmax = theta_max[i]\n",
    "\n",
    "    delta_ra = np.abs(this_ra - myra)\n",
    "    delta_dec = np.abs(np.sin(this_dec) - np.sin(mydec))\n",
    "#Note: below is the condition that matches Paxton's count; the difference in theta cuts is \n",
    "#that he does it in two steps\n",
    "#Angular distance = distance between two points on a sphere\n",
    "#This is not the same as alpha_2-alpha_1\n",
    "#    idx=np.where( (delta_ra < this_tmax) & (delta_dec < this_tmax) )[0]\n",
    "#    idx=np.where( (delta_ra < this_tmax) & (delta_dec < this_tmax) & (sep<=theta_max[i]))[0]\n",
    "    idx=np.where( (delta_ra < this_tmax) & (delta_dec < this_tmax) & (sep<=theta_max[i]) & (np.abs(vel)<=vmax[i]) )[0]\n",
    "#    idx=np.where( (sep<theta_max[i]) & (np.abs(vel)<vmax[i]) )[0]\n",
    "    #idx=np.where( (sep<=theta_max[i]) )[0]\n",
    "    clust_idx[i]=clusters[\"MEM_MATCH_ID\"][i]\n",
    "    rich[i]=richness[i]\n",
    "    zcen[i]=central_z[i]\n",
    "    \n",
    "    mem_idx[i].extend(idx.tolist())\n",
    "    r[i].extend( (sep[idx]*angular_diameter_distances[i]).tolist() )\n",
    "    x[i].extend( (sep[idx]*angular_diameter_distances[i]/r_lambda[i]).tolist() )\n",
    "    v[i].extend( (vel[idx]).tolist() )\n",
    "    sep2d[i].extend( sep[idx].tolist() )"
   ]
  },
  {
   "cell_type": "code",
   "execution_count": 16,
   "metadata": {},
   "outputs": [],
   "source": [
    "matched_df=pd.DataFrame({'clust_idx':clust_idx,'rich':rich,'zcen':zcen,'mem_idx':mem_idx,'r':r,'x':x,'v':v,'sep2d':sep2d})"
   ]
  },
  {
   "cell_type": "code",
   "execution_count": 17,
   "metadata": {},
   "outputs": [
    {
     "data": {
      "text/plain": [
       "275449"
      ]
     },
     "execution_count": 17,
     "metadata": {},
     "output_type": "execute_result"
    }
   ],
   "source": [
    "population = np.empty(len(matched_df), dtype=object)\n",
    "full_stack_sep=[]\n",
    "full_stack_r=[]\n",
    "\n",
    "for i in range(len(matched_df)):\n",
    "    full_stack_sep.extend( matched_df['sep2d'][i] )\n",
    "    full_stack_r.extend( matched_df['x'][i] )\n",
    "    population[i]=len(matched_df['x'][i])\n",
    "len(full_stack_r)"
   ]
  },
  {
   "cell_type": "code",
   "execution_count": 20,
   "metadata": {},
   "outputs": [
    {
     "data": {
      "text/plain": [
       "16605"
      ]
     },
     "execution_count": 20,
     "metadata": {},
     "output_type": "execute_result"
    }
   ],
   "source": []
  },
  {
   "cell_type": "code",
   "execution_count": 62,
   "metadata": {},
   "outputs": [],
   "source": [
    "pax_theta_max=np.load(\"pax_theta_max.npy\")\n",
    "theta_max=np.unique(theta_max[0:500])"
   ]
  },
  {
   "cell_type": "code",
   "execution_count": 63,
   "metadata": {},
   "outputs": [],
   "source": [
    "pax_theta_max=np.unique(pax_theta_max)"
   ]
  },
  {
   "cell_type": "code",
   "execution_count": 66,
   "metadata": {},
   "outputs": [
    {
     "data": {
      "text/plain": [
       "array([ 0.0000000e+00, -4.6566129e-10,  0.0000000e+00,  0.0000000e+00,\n",
       "        0.0000000e+00,  0.0000000e+00,  0.0000000e+00,  0.0000000e+00,\n",
       "        0.0000000e+00,  0.0000000e+00,  0.0000000e+00,  0.0000000e+00,\n",
       "        9.3132257e-10,  0.0000000e+00,  0.0000000e+00,  0.0000000e+00,\n",
       "        0.0000000e+00,  0.0000000e+00,  0.0000000e+00,  0.0000000e+00,\n",
       "        0.0000000e+00,  0.0000000e+00,  0.0000000e+00,  0.0000000e+00,\n",
       "        0.0000000e+00,  0.0000000e+00,  0.0000000e+00,  0.0000000e+00,\n",
       "        0.0000000e+00,  0.0000000e+00,  0.0000000e+00,  0.0000000e+00,\n",
       "        0.0000000e+00,  0.0000000e+00,  0.0000000e+00,  0.0000000e+00,\n",
       "        0.0000000e+00,  0.0000000e+00,  0.0000000e+00,  0.0000000e+00,\n",
       "        0.0000000e+00,  0.0000000e+00,  0.0000000e+00,  0.0000000e+00,\n",
       "        0.0000000e+00,  0.0000000e+00,  0.0000000e+00,  0.0000000e+00,\n",
       "        0.0000000e+00,  0.0000000e+00,  0.0000000e+00,  0.0000000e+00,\n",
       "        0.0000000e+00,  0.0000000e+00,  0.0000000e+00,  0.0000000e+00,\n",
       "        0.0000000e+00,  9.3132257e-10,  0.0000000e+00,  0.0000000e+00,\n",
       "        0.0000000e+00,  0.0000000e+00,  0.0000000e+00,  0.0000000e+00,\n",
       "        0.0000000e+00,  0.0000000e+00,  0.0000000e+00,  0.0000000e+00,\n",
       "        0.0000000e+00,  0.0000000e+00,  0.0000000e+00,  0.0000000e+00,\n",
       "        0.0000000e+00,  0.0000000e+00, -4.6566129e-10,  0.0000000e+00,\n",
       "       -4.6566129e-10,  0.0000000e+00,  9.3132257e-10,  0.0000000e+00,\n",
       "        0.0000000e+00,  0.0000000e+00,  4.6566129e-10,  0.0000000e+00,\n",
       "        0.0000000e+00,  0.0000000e+00,  0.0000000e+00,  0.0000000e+00,\n",
       "        0.0000000e+00,  0.0000000e+00,  0.0000000e+00,  0.0000000e+00,\n",
       "        0.0000000e+00,  0.0000000e+00, -9.3132257e-10,  0.0000000e+00,\n",
       "        0.0000000e+00,  0.0000000e+00,  0.0000000e+00,  0.0000000e+00,\n",
       "        0.0000000e+00,  0.0000000e+00,  0.0000000e+00,  0.0000000e+00,\n",
       "        0.0000000e+00,  0.0000000e+00,  0.0000000e+00,  0.0000000e+00,\n",
       "        0.0000000e+00,  0.0000000e+00,  0.0000000e+00,  0.0000000e+00,\n",
       "        0.0000000e+00,  0.0000000e+00,  0.0000000e+00,  0.0000000e+00,\n",
       "       -4.6566129e-10,  0.0000000e+00, -9.3132257e-10,  0.0000000e+00,\n",
       "        0.0000000e+00,  0.0000000e+00,  0.0000000e+00,  0.0000000e+00,\n",
       "        0.0000000e+00,  0.0000000e+00,  0.0000000e+00,  0.0000000e+00,\n",
       "        0.0000000e+00,  0.0000000e+00,  0.0000000e+00,  0.0000000e+00,\n",
       "        0.0000000e+00,  0.0000000e+00,  0.0000000e+00,  0.0000000e+00,\n",
       "        0.0000000e+00,  0.0000000e+00,  0.0000000e+00,  0.0000000e+00,\n",
       "        0.0000000e+00,  0.0000000e+00,  0.0000000e+00,  0.0000000e+00,\n",
       "        0.0000000e+00,  0.0000000e+00,  9.3132257e-10,  0.0000000e+00,\n",
       "        0.0000000e+00,  0.0000000e+00,  0.0000000e+00,  0.0000000e+00,\n",
       "        0.0000000e+00,  0.0000000e+00,  0.0000000e+00,  0.0000000e+00,\n",
       "        0.0000000e+00,  0.0000000e+00,  0.0000000e+00,  0.0000000e+00,\n",
       "        0.0000000e+00,  0.0000000e+00,  0.0000000e+00,  0.0000000e+00,\n",
       "        0.0000000e+00,  0.0000000e+00,  0.0000000e+00,  0.0000000e+00,\n",
       "        0.0000000e+00,  0.0000000e+00,  0.0000000e+00,  0.0000000e+00,\n",
       "       -9.3132257e-10,  0.0000000e+00,  0.0000000e+00,  0.0000000e+00,\n",
       "        0.0000000e+00,  0.0000000e+00,  0.0000000e+00,  0.0000000e+00,\n",
       "       -4.6566129e-10,  0.0000000e+00,  0.0000000e+00,  0.0000000e+00,\n",
       "        0.0000000e+00,  0.0000000e+00,  0.0000000e+00,  0.0000000e+00,\n",
       "        0.0000000e+00,  0.0000000e+00,  0.0000000e+00,  0.0000000e+00,\n",
       "        0.0000000e+00,  0.0000000e+00,  0.0000000e+00,  0.0000000e+00,\n",
       "        0.0000000e+00,  0.0000000e+00,  0.0000000e+00,  0.0000000e+00,\n",
       "        0.0000000e+00,  0.0000000e+00,  0.0000000e+00,  0.0000000e+00,\n",
       "        0.0000000e+00,  0.0000000e+00,  0.0000000e+00,  0.0000000e+00,\n",
       "        0.0000000e+00,  0.0000000e+00, -9.3132257e-10,  0.0000000e+00,\n",
       "        0.0000000e+00, -9.3132257e-10, -9.3132257e-10,  9.3132257e-10,\n",
       "        0.0000000e+00,  0.0000000e+00,  0.0000000e+00,  0.0000000e+00,\n",
       "        0.0000000e+00,  0.0000000e+00,  0.0000000e+00,  0.0000000e+00,\n",
       "        0.0000000e+00,  0.0000000e+00,  0.0000000e+00,  0.0000000e+00,\n",
       "        0.0000000e+00, -9.3132257e-10,  0.0000000e+00,  0.0000000e+00,\n",
       "        0.0000000e+00,  0.0000000e+00,  0.0000000e+00,  0.0000000e+00,\n",
       "        0.0000000e+00,  0.0000000e+00,  0.0000000e+00,  0.0000000e+00,\n",
       "        0.0000000e+00,  0.0000000e+00,  0.0000000e+00,  0.0000000e+00,\n",
       "        0.0000000e+00,  0.0000000e+00,  0.0000000e+00,  0.0000000e+00,\n",
       "        0.0000000e+00,  0.0000000e+00,  0.0000000e+00,  0.0000000e+00,\n",
       "        0.0000000e+00,  0.0000000e+00,  0.0000000e+00,  0.0000000e+00,\n",
       "        0.0000000e+00,  0.0000000e+00,  0.0000000e+00,  0.0000000e+00,\n",
       "        0.0000000e+00,  0.0000000e+00,  0.0000000e+00,  0.0000000e+00,\n",
       "        0.0000000e+00,  0.0000000e+00,  0.0000000e+00,  0.0000000e+00,\n",
       "        0.0000000e+00,  0.0000000e+00,  0.0000000e+00,  0.0000000e+00,\n",
       "        0.0000000e+00,  0.0000000e+00,  0.0000000e+00,  0.0000000e+00,\n",
       "        0.0000000e+00,  0.0000000e+00,  0.0000000e+00,  0.0000000e+00,\n",
       "        0.0000000e+00,  0.0000000e+00,  0.0000000e+00,  0.0000000e+00,\n",
       "        0.0000000e+00,  0.0000000e+00,  0.0000000e+00,  0.0000000e+00,\n",
       "       -9.3132257e-10,  0.0000000e+00,  0.0000000e+00,  0.0000000e+00,\n",
       "        0.0000000e+00,  0.0000000e+00,  0.0000000e+00,  0.0000000e+00,\n",
       "        0.0000000e+00,  0.0000000e+00,  0.0000000e+00,  0.0000000e+00,\n",
       "        0.0000000e+00,  0.0000000e+00,  0.0000000e+00,  0.0000000e+00,\n",
       "        0.0000000e+00,  0.0000000e+00,  0.0000000e+00,  0.0000000e+00,\n",
       "        0.0000000e+00,  0.0000000e+00,  0.0000000e+00,  0.0000000e+00,\n",
       "        0.0000000e+00,  0.0000000e+00,  0.0000000e+00,  0.0000000e+00,\n",
       "        0.0000000e+00, -9.3132257e-10,  0.0000000e+00,  0.0000000e+00,\n",
       "        0.0000000e+00,  9.3132257e-10,  0.0000000e+00,  0.0000000e+00,\n",
       "        0.0000000e+00,  0.0000000e+00,  0.0000000e+00,  0.0000000e+00,\n",
       "        0.0000000e+00,  0.0000000e+00,  0.0000000e+00,  0.0000000e+00,\n",
       "        0.0000000e+00,  0.0000000e+00,  0.0000000e+00,  0.0000000e+00,\n",
       "        0.0000000e+00,  0.0000000e+00,  0.0000000e+00,  0.0000000e+00,\n",
       "        0.0000000e+00,  0.0000000e+00, -9.3132257e-10,  0.0000000e+00,\n",
       "        0.0000000e+00,  0.0000000e+00,  0.0000000e+00,  0.0000000e+00,\n",
       "        0.0000000e+00,  0.0000000e+00,  0.0000000e+00,  0.0000000e+00,\n",
       "        0.0000000e+00,  0.0000000e+00,  0.0000000e+00,  0.0000000e+00,\n",
       "        0.0000000e+00,  0.0000000e+00,  0.0000000e+00,  0.0000000e+00,\n",
       "        0.0000000e+00,  0.0000000e+00,  0.0000000e+00,  0.0000000e+00,\n",
       "        0.0000000e+00, -9.3132257e-10,  0.0000000e+00,  0.0000000e+00,\n",
       "        0.0000000e+00,  0.0000000e+00,  9.3132257e-10,  0.0000000e+00,\n",
       "        0.0000000e+00,  0.0000000e+00,  0.0000000e+00,  0.0000000e+00,\n",
       "        0.0000000e+00,  0.0000000e+00,  0.0000000e+00,  0.0000000e+00,\n",
       "        0.0000000e+00,  0.0000000e+00,  0.0000000e+00,  0.0000000e+00,\n",
       "        0.0000000e+00,  0.0000000e+00,  0.0000000e+00,  0.0000000e+00,\n",
       "        0.0000000e+00,  0.0000000e+00,  0.0000000e+00,  0.0000000e+00,\n",
       "        0.0000000e+00,  0.0000000e+00,  0.0000000e+00,  0.0000000e+00,\n",
       "        0.0000000e+00,  0.0000000e+00,  0.0000000e+00,  1.8626451e-09,\n",
       "        0.0000000e+00,  0.0000000e+00,  0.0000000e+00,  0.0000000e+00,\n",
       "        0.0000000e+00,  0.0000000e+00,  0.0000000e+00,  0.0000000e+00,\n",
       "        0.0000000e+00,  0.0000000e+00,  0.0000000e+00,  0.0000000e+00,\n",
       "        0.0000000e+00,  0.0000000e+00,  9.3132257e-10,  0.0000000e+00,\n",
       "        0.0000000e+00,  0.0000000e+00, -9.3132257e-10, -1.8626451e-09,\n",
       "        0.0000000e+00,  0.0000000e+00,  0.0000000e+00,  0.0000000e+00,\n",
       "        0.0000000e+00,  0.0000000e+00,  0.0000000e+00,  0.0000000e+00,\n",
       "        0.0000000e+00,  0.0000000e+00,  0.0000000e+00,  0.0000000e+00,\n",
       "        0.0000000e+00,  0.0000000e+00,  0.0000000e+00,  0.0000000e+00,\n",
       "        0.0000000e+00,  0.0000000e+00,  0.0000000e+00,  0.0000000e+00,\n",
       "        0.0000000e+00,  0.0000000e+00,  0.0000000e+00,  0.0000000e+00,\n",
       "        0.0000000e+00, -9.3132257e-10,  0.0000000e+00,  0.0000000e+00,\n",
       "        0.0000000e+00,  0.0000000e+00,  0.0000000e+00,  0.0000000e+00,\n",
       "        0.0000000e+00,  0.0000000e+00,  0.0000000e+00,  0.0000000e+00,\n",
       "        0.0000000e+00,  0.0000000e+00,  0.0000000e+00,  0.0000000e+00,\n",
       "        0.0000000e+00,  0.0000000e+00,  0.0000000e+00,  0.0000000e+00,\n",
       "        0.0000000e+00,  0.0000000e+00,  0.0000000e+00,  0.0000000e+00,\n",
       "        0.0000000e+00,  0.0000000e+00,  0.0000000e+00,  0.0000000e+00,\n",
       "        0.0000000e+00,  0.0000000e+00,  0.0000000e+00,  0.0000000e+00,\n",
       "        0.0000000e+00,  0.0000000e+00,  0.0000000e+00,  0.0000000e+00,\n",
       "        0.0000000e+00,  0.0000000e+00,  0.0000000e+00,  0.0000000e+00,\n",
       "        0.0000000e+00,  0.0000000e+00,  0.0000000e+00,  0.0000000e+00,\n",
       "        0.0000000e+00,  0.0000000e+00,  0.0000000e+00,  0.0000000e+00,\n",
       "        0.0000000e+00,  0.0000000e+00,  0.0000000e+00,  0.0000000e+00,\n",
       "        7.4505806e-09,  0.0000000e+00,  0.0000000e+00,  0.0000000e+00],\n",
       "      dtype=float32)"
      ]
     },
     "execution_count": 66,
     "metadata": {},
     "output_type": "execute_result"
    }
   ],
   "source": [
    "theta_max-pax_theta_max"
   ]
  },
  {
   "cell_type": "code",
   "execution_count": 18,
   "metadata": {},
   "outputs": [],
   "source": [
    "matched_df.to_pickle(\"matchedroutine_matches_circle.pkl\")"
   ]
  },
  {
   "cell_type": "code",
   "execution_count": 3,
   "metadata": {},
   "outputs": [],
   "source": [
    "matched_df=pd.read_pickle(\"matchedroutine_matches_circle.pkl\")"
   ]
  },
  {
   "cell_type": "code",
   "execution_count": 4,
   "metadata": {},
   "outputs": [
    {
     "data": {
      "text/html": [
       "<div>\n",
       "<style scoped>\n",
       "    .dataframe tbody tr th:only-of-type {\n",
       "        vertical-align: middle;\n",
       "    }\n",
       "\n",
       "    .dataframe tbody tr th {\n",
       "        vertical-align: top;\n",
       "    }\n",
       "\n",
       "    .dataframe thead th {\n",
       "        text-align: right;\n",
       "    }\n",
       "</style>\n",
       "<table border=\"1\" class=\"dataframe\">\n",
       "  <thead>\n",
       "    <tr style=\"text-align: right;\">\n",
       "      <th></th>\n",
       "      <th>clust_idx</th>\n",
       "      <th>rich</th>\n",
       "      <th>zcen</th>\n",
       "      <th>mem_idx</th>\n",
       "      <th>r</th>\n",
       "      <th>x</th>\n",
       "      <th>v</th>\n",
       "      <th>sep2d</th>\n",
       "    </tr>\n",
       "  </thead>\n",
       "  <tbody>\n",
       "    <tr>\n",
       "      <th>0</th>\n",
       "      <td>1</td>\n",
       "      <td>180.104</td>\n",
       "      <td>0.0908067</td>\n",
       "      <td>[501747, 502229, 502230, 502232, 502233, 50223...</td>\n",
       "      <td>[5.6110908674608515, 2.4302224365217415, 1.920...</td>\n",
       "      <td>[4.988183393406467, 2.1604346617233126, 1.7075...</td>\n",
       "      <td>[678631.25, 1039578.625, 3342158.5, -1664093.6...</td>\n",
       "      <td>[0.022960429390492056, 0.009944403321024335, 0...</td>\n",
       "    </tr>\n",
       "    <tr>\n",
       "      <th>1</th>\n",
       "      <td>4</td>\n",
       "      <td>133.516</td>\n",
       "      <td>0.069041</td>\n",
       "      <td>[593826, 593833, 593838, 593897, 593899, 59390...</td>\n",
       "      <td>[5.04345415660707, 5.164319493020324, 5.177900...</td>\n",
       "      <td>[4.760160043959741, 4.8742362955184895, 4.8870...</td>\n",
       "      <td>[4242948.5, 2543158.25, 4066316.75, 1308404.37...</td>\n",
       "      <td>[0.026466021057445246, 0.027100273781729026, 0...</td>\n",
       "    </tr>\n",
       "    <tr>\n",
       "      <th>2</th>\n",
       "      <td>6</td>\n",
       "      <td>190.996</td>\n",
       "      <td>0.228309</td>\n",
       "      <td>[534677, 534681, 534683, 534686, 534703, 53470...</td>\n",
       "      <td>[0.061083815869358016, 0.5678801592298298, 3.9...</td>\n",
       "      <td>[0.05366869936992902, 0.49894377275048046, 3.4...</td>\n",
       "      <td>[3201788.25, 289691.28125, -7214729.0, 1223462...</td>\n",
       "      <td>[0.00011578451562980295, 0.0010764181679943936...</td>\n",
       "    </tr>\n",
       "    <tr>\n",
       "      <th>3</th>\n",
       "      <td>8</td>\n",
       "      <td>153.393</td>\n",
       "      <td>0.319619</td>\n",
       "      <td>[842147, 842150, 842152, 842180, 842598, 84259...</td>\n",
       "      <td>[5.10529613365609, 2.3724902644042896, 4.42073...</td>\n",
       "      <td>[4.68662092898001, 2.1779270459274542, 4.05820...</td>\n",
       "      <td>[-3779238.75, 4289634.5, -4486142.0, 5261996.5...</td>\n",
       "      <td>[0.0076017237373068305, 0.0035326090959851746,...</td>\n",
       "    </tr>\n",
       "    <tr>\n",
       "      <th>4</th>\n",
       "      <td>11</td>\n",
       "      <td>134.584</td>\n",
       "      <td>0.129045</td>\n",
       "      <td>[100654, 100655, 100656, 100657, 100658, 10065...</td>\n",
       "      <td>[2.357655524379569, 2.7346903857371374, 2.4495...</td>\n",
       "      <td>[2.2216821689308146, 2.5769722526099583, 2.308...</td>\n",
       "      <td>[-8372.3095703125, -852329.625, -689825.3125, ...</td>\n",
       "      <td>[0.007091467191296127, 0.008225530383159445, 0...</td>\n",
       "    </tr>\n",
       "    <tr>\n",
       "      <th>...</th>\n",
       "      <td>...</td>\n",
       "      <td>...</td>\n",
       "      <td>...</td>\n",
       "      <td>...</td>\n",
       "      <td>...</td>\n",
       "      <td>...</td>\n",
       "      <td>...</td>\n",
       "      <td>...</td>\n",
       "    </tr>\n",
       "    <tr>\n",
       "      <th>16600</th>\n",
       "      <td>98070</td>\n",
       "      <td>31.5515</td>\n",
       "      <td>0.50456</td>\n",
       "      <td>[1296627, 1296629, 1297543, 1297549, 1297583, ...</td>\n",
       "      <td>[2.249816861541191, 3.3789097053329167, 3.5689...</td>\n",
       "      <td>[2.8336302377991935, 4.255715598675728, 4.4950...</td>\n",
       "      <td>[3134704.5, 2818538.0, 3417082.0, 3413899.0, 4...</td>\n",
       "      <td>[0.002540385553323209, 0.0038153031689571446, ...</td>\n",
       "    </tr>\n",
       "    <tr>\n",
       "      <th>16601</th>\n",
       "      <td>99218</td>\n",
       "      <td>26.9292</td>\n",
       "      <td>0.386643</td>\n",
       "      <td>[41282]</td>\n",
       "      <td>[0.00043139770258669507]</td>\n",
       "      <td>[0.0005608322566252939]</td>\n",
       "      <td>[0.0]</td>\n",
       "      <td>[5.678105021494003e-07]</td>\n",
       "    </tr>\n",
       "    <tr>\n",
       "      <th>16602</th>\n",
       "      <td>102994</td>\n",
       "      <td>36.967</td>\n",
       "      <td>0.473152</td>\n",
       "      <td>[556591, 1183413, 1183417, 1184203, 1184230, 1...</td>\n",
       "      <td>[0.0013119837558897404, 0.2291039614740473, 0....</td>\n",
       "      <td>[0.00160090509324853, 0.2795565853317174, 1.11...</td>\n",
       "      <td>[0.0, -920208.0, -98730.390625, -428660.53125,...</td>\n",
       "      <td>[1.5338789501737395e-06, 0.0002678522064994147...</td>\n",
       "    </tr>\n",
       "    <tr>\n",
       "      <th>16603</th>\n",
       "      <td>106607</td>\n",
       "      <td>27.4021</td>\n",
       "      <td>0.417066</td>\n",
       "      <td>[408985, 1990545, 1990937]</td>\n",
       "      <td>[0.0004020047720933392, 2.0560240242045853, 2....</td>\n",
       "      <td>[0.0005208039788112103, 2.663613883888335, 2.6...</td>\n",
       "      <td>[0.0, -102688.4921875, 1325625.375]</td>\n",
       "      <td>[5.053229617420838e-07, 0.0025844373536011394,...</td>\n",
       "    </tr>\n",
       "    <tr>\n",
       "      <th>16604</th>\n",
       "      <td>129614</td>\n",
       "      <td>79.208</td>\n",
       "      <td>0.53575</td>\n",
       "      <td>[159658, 1494918, 1530287, 1530293, 1530315, 1...</td>\n",
       "      <td>[0.0002286152896402121, 2.4933455319268814, 4....</td>\n",
       "      <td>[0.00023952530779425445, 2.612333396038827, 4....</td>\n",
       "      <td>[0.0, 285613.46875, -2100650.0, -5215520.5, 28...</td>\n",
       "      <td>[2.5023304855446086e-07, 0.0027291151634503976...</td>\n",
       "    </tr>\n",
       "  </tbody>\n",
       "</table>\n",
       "<p>16605 rows × 8 columns</p>\n",
       "</div>"
      ],
      "text/plain": [
       "      clust_idx     rich       zcen  \\\n",
       "0             1  180.104  0.0908067   \n",
       "1             4  133.516   0.069041   \n",
       "2             6  190.996   0.228309   \n",
       "3             8  153.393   0.319619   \n",
       "4            11  134.584   0.129045   \n",
       "...         ...      ...        ...   \n",
       "16600     98070  31.5515    0.50456   \n",
       "16601     99218  26.9292   0.386643   \n",
       "16602    102994   36.967   0.473152   \n",
       "16603    106607  27.4021   0.417066   \n",
       "16604    129614   79.208    0.53575   \n",
       "\n",
       "                                                 mem_idx  \\\n",
       "0      [501747, 502229, 502230, 502232, 502233, 50223...   \n",
       "1      [593826, 593833, 593838, 593897, 593899, 59390...   \n",
       "2      [534677, 534681, 534683, 534686, 534703, 53470...   \n",
       "3      [842147, 842150, 842152, 842180, 842598, 84259...   \n",
       "4      [100654, 100655, 100656, 100657, 100658, 10065...   \n",
       "...                                                  ...   \n",
       "16600  [1296627, 1296629, 1297543, 1297549, 1297583, ...   \n",
       "16601                                            [41282]   \n",
       "16602  [556591, 1183413, 1183417, 1184203, 1184230, 1...   \n",
       "16603                         [408985, 1990545, 1990937]   \n",
       "16604  [159658, 1494918, 1530287, 1530293, 1530315, 1...   \n",
       "\n",
       "                                                       r  \\\n",
       "0      [5.6110908674608515, 2.4302224365217415, 1.920...   \n",
       "1      [5.04345415660707, 5.164319493020324, 5.177900...   \n",
       "2      [0.061083815869358016, 0.5678801592298298, 3.9...   \n",
       "3      [5.10529613365609, 2.3724902644042896, 4.42073...   \n",
       "4      [2.357655524379569, 2.7346903857371374, 2.4495...   \n",
       "...                                                  ...   \n",
       "16600  [2.249816861541191, 3.3789097053329167, 3.5689...   \n",
       "16601                           [0.00043139770258669507]   \n",
       "16602  [0.0013119837558897404, 0.2291039614740473, 0....   \n",
       "16603  [0.0004020047720933392, 2.0560240242045853, 2....   \n",
       "16604  [0.0002286152896402121, 2.4933455319268814, 4....   \n",
       "\n",
       "                                                       x  \\\n",
       "0      [4.988183393406467, 2.1604346617233126, 1.7075...   \n",
       "1      [4.760160043959741, 4.8742362955184895, 4.8870...   \n",
       "2      [0.05366869936992902, 0.49894377275048046, 3.4...   \n",
       "3      [4.68662092898001, 2.1779270459274542, 4.05820...   \n",
       "4      [2.2216821689308146, 2.5769722526099583, 2.308...   \n",
       "...                                                  ...   \n",
       "16600  [2.8336302377991935, 4.255715598675728, 4.4950...   \n",
       "16601                            [0.0005608322566252939]   \n",
       "16602  [0.00160090509324853, 0.2795565853317174, 1.11...   \n",
       "16603  [0.0005208039788112103, 2.663613883888335, 2.6...   \n",
       "16604  [0.00023952530779425445, 2.612333396038827, 4....   \n",
       "\n",
       "                                                       v  \\\n",
       "0      [678631.25, 1039578.625, 3342158.5, -1664093.6...   \n",
       "1      [4242948.5, 2543158.25, 4066316.75, 1308404.37...   \n",
       "2      [3201788.25, 289691.28125, -7214729.0, 1223462...   \n",
       "3      [-3779238.75, 4289634.5, -4486142.0, 5261996.5...   \n",
       "4      [-8372.3095703125, -852329.625, -689825.3125, ...   \n",
       "...                                                  ...   \n",
       "16600  [3134704.5, 2818538.0, 3417082.0, 3413899.0, 4...   \n",
       "16601                                              [0.0]   \n",
       "16602  [0.0, -920208.0, -98730.390625, -428660.53125,...   \n",
       "16603                [0.0, -102688.4921875, 1325625.375]   \n",
       "16604  [0.0, 285613.46875, -2100650.0, -5215520.5, 28...   \n",
       "\n",
       "                                                   sep2d  \n",
       "0      [0.022960429390492056, 0.009944403321024335, 0...  \n",
       "1      [0.026466021057445246, 0.027100273781729026, 0...  \n",
       "2      [0.00011578451562980295, 0.0010764181679943936...  \n",
       "3      [0.0076017237373068305, 0.0035326090959851746,...  \n",
       "4      [0.007091467191296127, 0.008225530383159445, 0...  \n",
       "...                                                  ...  \n",
       "16600  [0.002540385553323209, 0.0038153031689571446, ...  \n",
       "16601                            [5.678105021494003e-07]  \n",
       "16602  [1.5338789501737395e-06, 0.0002678522064994147...  \n",
       "16603  [5.053229617420838e-07, 0.0025844373536011394,...  \n",
       "16604  [2.5023304855446086e-07, 0.0027291151634503976...  \n",
       "\n",
       "[16605 rows x 8 columns]"
      ]
     },
     "execution_count": 4,
     "metadata": {},
     "output_type": "execute_result"
    }
   ],
   "source": [
    "matched_df"
   ]
  },
  {
   "cell_type": "code",
   "execution_count": 5,
   "metadata": {},
   "outputs": [
    {
     "data": {
      "text/plain": [
       "275449"
      ]
     },
     "execution_count": 5,
     "metadata": {},
     "output_type": "execute_result"
    }
   ],
   "source": [
    "full_stack_v=[]\n",
    "population = np.empty(len(matched_df), dtype=object)\n",
    "full_stack_sep=[]\n",
    "full_stack_r=[]\n",
    "\n",
    "for i in range(len(matched_df)):\n",
    "    full_stack_v.extend( matched_df['v'][i])\n",
    "    full_stack_sep.extend( matched_df['sep2d'][i] )\n",
    "    full_stack_r.extend( matched_df['x'][i] )\n",
    "    population[i]=len(matched_df['v'][i])\n",
    "len(full_stack_v)"
   ]
  },
  {
   "cell_type": "code",
   "execution_count": 5,
   "metadata": {},
   "outputs": [
    {
     "data": {
      "image/png": "[encoded data removed]",
      "text/plain": [
       "<Figure size 432x288 with 1 Axes>"
      ]
     },
     "metadata": {
      "needs_background": "light"
     },
     "output_type": "display_data"
    }
   ],
   "source": [
    "plt.scatter(matched_df['clust_idx'],population);"
   ]
  },
  {
   "cell_type": "code",
   "execution_count": 6,
   "metadata": {},
   "outputs": [
    {
     "data": {
      "image/png": "[encoded data removed]",
      "text/plain": [
       "<Figure size 432x288 with 1 Axes>"
      ]
     },
     "metadata": {
      "needs_background": "light"
     },
     "output_type": "display_data"
    }
   ],
   "source": [
    "plt.yscale('log')\n",
    "plt.xlabel('number of matched galaxies', fontsize=18)\n",
    "plt.ylabel('frequency', fontsize=16)\n",
    "plt.hist(population,bins=np.arange(0,1400,100));"
   ]
  },
  {
   "cell_type": "code",
   "execution_count": 7,
   "metadata": {},
   "outputs": [
    {
     "data": {
      "image/png": "[encoded data removed]",
      "text/plain": [
       "<Figure size 1080x576 with 1 Axes>"
      ]
     },
     "metadata": {
      "needs_background": "light"
     },
     "output_type": "display_data"
    }
   ],
   "source": [
    "plt.figure(figsize=(15,8))\n",
    "plt.yscale('linear')\n",
    "plt.xlabel('velocity', fontsize=18)\n",
    "plt.ylabel('frequency', fontsize=16)\n",
    "plt.hist(full_stack_v,bins=100);"
   ]
  },
  {
   "cell_type": "code",
   "execution_count": 8,
   "metadata": {},
   "outputs": [],
   "source": [
    "from sklearn import mixture"
   ]
  },
  {
   "cell_type": "code",
   "execution_count": 9,
   "metadata": {},
   "outputs": [],
   "source": [
    "X=np.asarray(full_stack_v).reshape(-1,1)"
   ]
  },
  {
   "cell_type": "code",
   "execution_count": 10,
   "metadata": {},
   "outputs": [],
   "source": [
    "model=mixture.BayesianGaussianMixture(3,tol=1e-2,max_iter=1000,mean_prior=np.zeros(1)).fit(X)"
   ]
  },
  {
   "cell_type": "code",
   "execution_count": 11,
   "metadata": {},
   "outputs": [],
   "source": [
    "x = np.linspace(-7000000, 7000000, 1000)"
   ]
  },
  {
   "cell_type": "code",
   "execution_count": 12,
   "metadata": {},
   "outputs": [],
   "source": [
    "logprob = model.score_samples(x.reshape(-1, 1))\n",
    "responsibilities = model.predict_proba(x.reshape(-1, 1))\n",
    "pdf = np.exp(logprob)\n",
    "pdf_individual = responsibilities * pdf[:, np.newaxis]"
   ]
  },
  {
   "cell_type": "code",
   "execution_count": 13,
   "metadata": {},
   "outputs": [
    {
     "data": {
      "text/plain": [
       "array([[-1041218.00523995],\n",
       "       [   -2329.62656821],\n",
       "       [ 1214463.06836873]])"
      ]
     },
     "execution_count": 13,
     "metadata": {},
     "output_type": "execute_result"
    }
   ],
   "source": [
    "model.means_"
   ]
  },
  {
   "cell_type": "code",
   "execution_count": 14,
   "metadata": {},
   "outputs": [
    {
     "data": {
      "text/plain": [
       "array([[[1812367.70814097]],\n",
       "\n",
       "       [[ 379941.2453566 ]],\n",
       "\n",
       "       [[1796469.02877494]]])"
      ]
     },
     "execution_count": 14,
     "metadata": {},
     "output_type": "execute_result"
    }
   ],
   "source": [
    "np.sqrt(model.covariances_)"
   ]
  },
  {
   "cell_type": "code",
   "execution_count": 25,
   "metadata": {},
   "outputs": [
    {
     "data": {
      "image/png": "[encoded data removed]",
      "text/plain": [
       "<Figure size 720x576 with 1 Axes>"
      ]
     },
     "metadata": {
      "needs_background": "light"
     },
     "output_type": "display_data"
    }
   ],
   "source": [
    "plt.figure(figsize=(10, 8))\n",
    "plt.hist(X, 30, density=True, histtype='stepfilled', alpha=0.4)\n",
    "plt.plot(x, pdf, '-k')\n",
    "plt.plot(x, pdf_individual, '--k')\n",
    "plt.xlabel('$x$')\n",
    "plt.ylabel('$p(x)$');"
   ]
  },
  {
   "cell_type": "code",
   "execution_count": 26,
   "metadata": {},
   "outputs": [
    {
     "data": {
      "application/vnd.jupyter.widget-view+json": {
       "model_id": "95bda6381f9843fe937c4c2e4a101e0f",
       "version_major": 2,
       "version_minor": 0
      },
      "text/plain": [
       "HBox(children=(FloatProgress(value=0.0, max=10.0), HTML(value='')))"
      ]
     },
     "metadata": {},
     "output_type": "display_data"
    },
    {
     "name": "stdout",
     "output_type": "stream",
     "text": [
      "\n"
     ]
    }
   ],
   "source": [
    "# fit models with 1-10 components\n",
    "N = np.arange(1, 11)\n",
    "models = [None for i in range(len(N))]\n",
    "\n",
    "for i in tqdm(range(len(N))):\n",
    "    models[i] = mixture.GaussianMixture(N[i]).fit(X)\n",
    "\n",
    "# compute the AIC and the BIC\n",
    "AIC = [m.aic(X) for m in models]\n",
    "BIC = [m.bic(X) for m in models]"
   ]
  },
  {
   "cell_type": "code",
   "execution_count": 27,
   "metadata": {},
   "outputs": [
    {
     "data": {
      "image/png": "[encoded data removed]",
      "text/plain": [
       "<Figure size 720x576 with 1 Axes>"
      ]
     },
     "metadata": {
      "needs_background": "light"
     },
     "output_type": "display_data"
    }
   ],
   "source": [
    "fig=plt.figure(figsize=(10, 8))\n",
    "ax=fig.add_subplot(1,1,1)\n",
    "# plot 2: AIC and BIC\n",
    "ax.plot(N, AIC, '-k', label='AIC')\n",
    "ax.plot(N, BIC, '--k', label='BIC')\n",
    "plt.xlabel('n. components')\n",
    "plt.ylabel('information criterion');"
   ]
  },
  {
   "cell_type": "code",
   "execution_count": 28,
   "metadata": {},
   "outputs": [
    {
     "data": {
      "image/png": "[encoded data removed]",
      "text/plain": [
       "<Figure size 720x576 with 1 Axes>"
      ]
     },
     "metadata": {
      "needs_background": "light"
     },
     "output_type": "display_data"
    }
   ],
   "source": [
    "logprob = models[2].score_samples(x.reshape(-1, 1))\n",
    "responsibilities = models[2].predict_proba(x.reshape(-1, 1))\n",
    "pdf = np.exp(logprob)\n",
    "pdf_individual = responsibilities * pdf[:, np.newaxis]\n",
    "\n",
    "plt.figure(figsize=(10, 8))\n",
    "plt.hist(X, 30, density=True, histtype='stepfilled', alpha=0.4)\n",
    "plt.plot(x, pdf, '-k')\n",
    "plt.plot(x, pdf_individual, '--k')\n",
    "plt.xlabel('$x$')\n",
    "plt.ylabel('$p(x)$');"
   ]
  },
  {
   "cell_type": "code",
   "execution_count": 29,
   "metadata": {},
   "outputs": [
    {
     "data": {
      "text/plain": [
       "array([[ 2.42412707e+06],\n",
       "       [ 6.97648404e+02],\n",
       "       [-2.37788513e+06]])"
      ]
     },
     "execution_count": 29,
     "metadata": {},
     "output_type": "execute_result"
    }
   ],
   "source": [
    "models[2].means_"
   ]
  },
  {
   "cell_type": "code",
   "execution_count": 30,
   "metadata": {},
   "outputs": [
    {
     "data": {
      "text/plain": [
       "array([[[1228583.03832071]],\n",
       "\n",
       "       [[ 599647.07314006]],\n",
       "\n",
       "       [[1230141.78222956]]])"
      ]
     },
     "execution_count": 30,
     "metadata": {},
     "output_type": "execute_result"
    }
   ],
   "source": [
    "np.sqrt(models[2].covariances_)"
   ]
  },
  {
   "cell_type": "code",
   "execution_count": 31,
   "metadata": {},
   "outputs": [],
   "source": [
    "df=pd.DataFrame({'r':full_stack_r,'v':full_stack_v})"
   ]
  },
  {
   "cell_type": "code",
   "execution_count": 32,
   "metadata": {},
   "outputs": [],
   "source": [
    "binned=df.loc[ (df.r > 4.5) & (df.r < 5.0) ]"
   ]
  },
  {
   "cell_type": "code",
   "execution_count": 33,
   "metadata": {},
   "outputs": [],
   "source": [
    "#question: I was expecting to see a rising constant value in addition to the Gaussians"
   ]
  },
  {
   "cell_type": "code",
   "execution_count": 34,
   "metadata": {},
   "outputs": [
    {
     "data": {
      "image/png": "[encoded data removed]",
      "text/plain": [
       "<Figure size 1080x576 with 1 Axes>"
      ]
     },
     "metadata": {
      "needs_background": "light"
     },
     "output_type": "display_data"
    }
   ],
   "source": [
    "plt.figure(figsize=(15,8))\n",
    "plt.yscale('linear')\n",
    "plt.xlabel('velocity', fontsize=18)\n",
    "plt.ylabel('frequency', fontsize=16)\n",
    "plt.hist(binned.v,bins=100);"
   ]
  },
  {
   "cell_type": "code",
   "execution_count": 35,
   "metadata": {},
   "outputs": [
    {
     "data": {
      "image/png": "[encoded data removed]",
      "text/plain": [
       "<Figure size 720x576 with 1 Axes>"
      ]
     },
     "metadata": {
      "needs_background": "light"
     },
     "output_type": "display_data"
    }
   ],
   "source": [
    "X=np.asarray(binned.v).reshape(-1,1)\n",
    "model=mixture.BayesianGaussianMixture(3,tol=1e-2,max_iter=1000,mean_prior=np.zeros(1)).fit(X)\n",
    "x = np.linspace(-7000000, 7000000, 1000)\n",
    "logprob = model.score_samples(x.reshape(-1, 1))\n",
    "responsibilities = model.predict_proba(x.reshape(-1, 1))\n",
    "pdf = np.exp(logprob)\n",
    "pdf_individual = responsibilities * pdf[:, np.newaxis]\n",
    "\n",
    "plt.figure(figsize=(10, 8))\n",
    "plt.hist(X, 30, density=True, histtype='stepfilled', alpha=0.4)\n",
    "plt.plot(x, pdf, '-k')\n",
    "plt.plot(x, pdf_individual, '--k')\n",
    "plt.xlabel('$x$')\n",
    "plt.ylabel('$p(x)$');"
   ]
  },
  {
   "cell_type": "code",
   "execution_count": null,
   "metadata": {},
   "outputs": [],
   "source": [
    "z_pivot = np.median(zcen)\n",
    "richness_pivot = np.median(richness)"
   ]
  },
  {
   "cell_type": "code",
   "execution_count": null,
   "metadata": {},
   "outputs": [],
   "source": [
    "def lnlike(theta, velocity, zcen, z_p, richness, lambda_p):\n",
    "    \"\"\"\n",
    "    Defining our log likelihood function. Note that theta will be\n",
    "    a tuple of four variables, not just one. It represents\n",
    "    the parameters in our model.\"\"\"\n",
    "    p, sigma_p, alpha, beta = theta #unpacking parameters\n",
    "    \n",
    "    sigma_v = (sigma_p*((1+zcen)/(1+z_p))**beta*(richness/lambda_p)**alpha)\n",
    "    gaussian = 1/sigma_v*np.exp(-0.5*(velocity/sigma_v)**2)\n",
    "    \n",
    "    two_vmax = 2*calculate_vmax(richness)\n",
    "    \n",
    "    lnlike = np.sum(np.log(p*gaussian+(1-p)/two_vmax))\n",
    "    return lnlike\n"
   ]
  }
 ],
 "metadata": {
  "kernelspec": {
   "display_name": "Python 3",
   "language": "python",
   "name": "python3"
  },
  "language_info": {
   "codemirror_mode": {
    "name": "ipython",
    "version": 3
   },
   "file_extension": ".py",
   "mimetype": "text/x-python",
   "name": "python",
   "nbconvert_exporter": "python",
   "pygments_lexer": "ipython3",
   "version": "3.7.6"
  }
 },
 "nbformat": 4,
 "nbformat_minor": 4
}
