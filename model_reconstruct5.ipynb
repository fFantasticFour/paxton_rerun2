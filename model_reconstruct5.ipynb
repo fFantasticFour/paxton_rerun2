{
 "cells": [
  {
   "cell_type": "code",
   "execution_count": 21,
   "metadata": {},
   "outputs": [],
   "source": [
    "from scipy.constants import c\n",
    "from scipy.special import erf\n",
    "import numpy as np\n",
    "from numpy.lib import recfunctions as rec\n",
    "from astropy.io          import fits\n",
    "from astropy.coordinates import SkyCoord, Angle, search_around_sky\n",
    "from astropy             import units as u\n",
    "from astropy import cosmology\n",
    "from astropy.cosmology import FlatLambdaCDM\n",
    "from matplotlib import pyplot as plt\n",
    "import pandas as pd\n",
    "import math\n",
    "from tqdm.notebook import tqdm\n",
    "from scipy.optimize import minimize\n",
    "import emcee\n",
    "import iminuit\n",
    "from iminuit import Minuit"
   ]
  },
  {
   "cell_type": "code",
   "execution_count": 11,
   "metadata": {},
   "outputs": [],
   "source": [
    "def calc_sigma_v(theta, zcen, richness):\n",
    "    \"\"\"\n",
    "    Calculate sigma_v (the width of the gaussian in our model)\n",
    "    according to our model. Dependent on all parameters, as\n",
    "    well as central galaxy info.\"\"\"\n",
    "    lnsigma_p, alpha, beta, z_p, lambda_p = theta\n",
    "    return np.exp(lnsigma_p)*((1+zcen)/(1+z_p))**beta*(richness/lambda_p)**alpha"
   ]
  },
  {
   "cell_type": "code",
   "execution_count": 12,
   "metadata": {},
   "outputs": [],
   "source": [
    "def calculate_vmax(richness):\n",
    "    \"\"\"Calculate the absolute velocity cutoff for interlopers in m/s.\n",
    "    Follows equation (7) in redMaPPer IV.\n",
    "    Parameters\n",
    "    ----------\n",
    "    richness : float\n",
    "        Cluster richness, i.e. estimated number of galaxies belonging\n",
    "        to the cluster.\n",
    "    Returns\n",
    "    -------\n",
    "    vmax : float\n",
    "        Maximum velocity value as set forth in equation (7) of redMaPPer IV.\n",
    "        Units: m/s\n",
    "    \"\"\"\n",
    "    vmax = 3e6 * (richness / 20.0) ** 0.45 /1000000 # 100km/s\n",
    "    return vmax  # m/s"
   ]
  },
  {
   "cell_type": "code",
   "execution_count": 13,
   "metadata": {},
   "outputs": [],
   "source": [
    "def background_gaussian(velocity, richness, total_sigma):\n",
    "    \"\"\"\n",
    "    This function is used for evaluation of the line of sight\n",
    "    gaussian. Sure, all Gaussians will have some fraction\n",
    "    outside the vmax cut we made, and we'd have to normalize\n",
    "    for that effect, but that amount is negligible for the\n",
    "    orbiting and infalling Gaussians. But for the background\n",
    "    Gaussian, a significant amount is cut off by the vmax cut,\n",
    "    so I use an erf to scale and account for that.\"\"\"\n",
    "    vmax = 3e6 * (richness / 20.0) ** 0.45\n",
    "    outside_cut = np.where(velocity > vmax)[0]\n",
    "    assert len(outside_cut) == 0, \"UH OH: VELOCITY DATA FED INTO MCMC IS OUTSIDE CUT\"\n",
    "\n",
    "    z = vmax*(0.5**0.5)/total_sigma\n",
    "    area_inside = erf(z)\n",
    "    #assert (area_inside != 0).all(), \"Problem with vmax/sigma: \" + str(vmax[np.where(z==0)]) + str(total_sigma[np.where(z==0)])\n",
    "    normalization = 1/area_inside\n",
    "    gaussian = np.exp(-0.5*((velocity/total_sigma)**2))/(np.sqrt(2*np.pi)*total_sigma)\n",
    "    return_arr = normalization * gaussian\n",
    "\n",
    "    if len(outside_cut) > 0:\n",
    "        print(\"UH OH: VELOCITY DATA FED INTO MCMC IS OUTSIDE CUT\")\n",
    "        return_arr[outside_cut] = 0\n",
    "\n",
    "    return return_arr"
   ]
  },
  {
   "cell_type": "code",
   "execution_count": 14,
   "metadata": {},
   "outputs": [],
   "source": [
    "def lnlike2(parameters,v,r,rich,zcen,sigma_obs):\n",
    "    a1, a2, b1, c1, c2, lnsp_orb, k, alpha_orb, beta_orb, lnsp_inf, alpha_inf, beta_inf, lnsp_los, alpha_los, beta_los, r_p, alpha_r, beta_r=parameters\n",
    "\n",
    "    b0 = 1 + a1 + a2 #calculated from constraint equations\n",
    "    c0 = -(c1 + c2) #calculated from constraint equations\n",
    "\n",
    "    z_p = np.median(zcen)\n",
    "    lambda_p = np.median(rich)\n",
    "\n",
    "    r_edge = r_p*((1+zcen)/(1+z_p))**beta_r*(rich/lambda_p)**alpha_r\n",
    "\n",
    "    f_good = b0 + b1*(r/r_edge-1)\n",
    "    f_orb = np.zeros_like(r)\n",
    "\n",
    "    lt_xt = np.where(r < r_edge)[0]\n",
    "    f_good[lt_xt] = 1 + a1*r[lt_xt]/r_edge[lt_xt] + a2*((r[lt_xt]/r_edge[lt_xt])**2)\n",
    "    f_orb[lt_xt] = c0 + c1*r[lt_xt]/r_edge[lt_xt] + c2*((r[lt_xt]/r_edge[lt_xt])**2)\n",
    "\n",
    "    orb_sigmav = calc_sigma_v([lnsp_orb, alpha_orb, beta_orb, z_p, lambda_p], zcen, rich)/(1+k*r/r_edge)**0.5\n",
    "    orb_sigmat = (orb_sigmav**2 + sigma_obs**2)**0.5\n",
    "    orb_gaussian = np.exp(-0.5*((v/orb_sigmat)**2))/(np.sqrt(2*np.pi)*orb_sigmat)\n",
    "\n",
    "    inf_sigmav = calc_sigma_v([lnsp_inf, alpha_inf, beta_inf, z_p, lambda_p], zcen, rich)\n",
    "    inf_sigmat = (inf_sigmav**2 + sigma_obs**2)**0.5\n",
    "    inf_gaussian = np.exp(-0.5*((v/inf_sigmat)**2))/(np.sqrt(2*np.pi)*inf_sigmat)\n",
    "\n",
    "    los_sigmav = calc_sigma_v([lnsp_los, alpha_los, beta_los, z_p, lambda_p], zcen, rich)\n",
    "    los_sigmat = (los_sigmav**2 + sigma_obs**2)**0.5\n",
    "    los_gaussian = background_gaussian(v, rich, los_sigmat)\n",
    "\n",
    "    if 0.05 < alpha_orb < 1 and 0.05 < alpha_inf < 1 and 0.05 < alpha_los < 1 and -2 < alpha_r < 2 and -2 < beta_orb < 2 and -2 < beta_inf < 2 and -2 < beta_los < 2 and -2 < beta_r < 2 and 1 < lnsp_orb < 10 and 1 < lnsp_inf < 10 and lnsp_los < 50 and a1 < 0 and 0.2 < b0 < 1 and b1 < 0 and 0 < c0 <= 1 and c1 < 0 and (f_good > 0).all() and (f_orb >= 0).all() and 1 < r_p < 5 and k > 0:\n",
    "        lp=0\n",
    "    else:\n",
    "        lp=-1e100\n",
    "        \n",
    "    return np.sum(np.log(f_good*(f_orb*orb_gaussian+(1-f_orb)*inf_gaussian)+(1-f_good)*los_gaussian))+lp"
   ]
  },
  {
   "cell_type": "code",
   "execution_count": 15,
   "metadata": {},
   "outputs": [],
   "source": [
    "def nlnlike2(parameters,v,r,rich,zcen,sigma_obs):\n",
    "    a1, a2, b1, c1, c2, lnsp_orb, k, alpha_orb, beta_orb, lnsp_inf, alpha_inf, beta_inf, lnsp_los, alpha_los, beta_los, r_p, alpha_r, beta_r=parameters\n",
    "\n",
    "    b0 = 1 + a1 + a2 #calculated from constraint equations\n",
    "    c0 = -(c1 + c2) #calculated from constraint equations\n",
    "\n",
    "    z_p = np.median(zcen)\n",
    "    lambda_p = np.median(rich)\n",
    "\n",
    "    r_edge = r_p*((1+zcen)/(1+z_p))**beta_r*(rich/lambda_p)**alpha_r\n",
    "\n",
    "    f_good = b0 + b1*(r/r_edge-1)\n",
    "    f_orb = np.zeros_like(r)\n",
    "\n",
    "    lt_xt = np.where(r < r_edge)[0]\n",
    "    f_good[lt_xt] = 1 + a1*r[lt_xt]/r_edge[lt_xt] + a2*((r[lt_xt]/r_edge[lt_xt])**2)\n",
    "    f_orb[lt_xt] = c0 + c1*r[lt_xt]/r_edge[lt_xt] + c2*((r[lt_xt]/r_edge[lt_xt])**2)\n",
    "\n",
    "    orb_sigmav = calc_sigma_v([lnsp_orb, alpha_orb, beta_orb, z_p, lambda_p], zcen, rich)/(1+k*r/r_edge)**0.5\n",
    "    orb_sigmat = (orb_sigmav**2 + sigma_obs**2)**0.5\n",
    "    orb_gaussian = np.exp(-0.5*((v/orb_sigmat)**2))/(np.sqrt(2*np.pi)*orb_sigmat)\n",
    "\n",
    "    inf_sigmav = calc_sigma_v([lnsp_inf, alpha_inf, beta_inf, z_p, lambda_p], zcen, rich)\n",
    "    inf_sigmat = (inf_sigmav**2 + sigma_obs**2)**0.5\n",
    "    inf_gaussian = np.exp(-0.5*((v/inf_sigmat)**2))/(np.sqrt(2*np.pi)*inf_sigmat)\n",
    "\n",
    "    los_sigmav = calc_sigma_v([lnsp_los, alpha_los, beta_los, z_p, lambda_p], zcen, rich)\n",
    "    los_sigmat = (los_sigmav**2 + sigma_obs**2)**0.5\n",
    "    los_gaussian = background_gaussian(v, rich, los_sigmat)\n",
    "\n",
    "    if 0.05 < alpha_orb < 1 and 0.05 < alpha_inf < 1 and 0.05 < alpha_los < 1 and -2 < alpha_r < 2 and -2 < beta_orb < 2 and -2 < beta_inf < 2 and -2 < beta_los < 2 and -2 < beta_r < 2 and 1 < lnsp_orb < 10 and 1 < lnsp_inf < 10 and lnsp_los < 50 and a1 < 0 and 0.2 < b0 < 1 and b1 < 0 and 0 < c0 <= 1 and c1 < 0 and (f_good > 0).all() and (f_orb >= 0).all() and 1 < r_p < 5 and k > 0:\n",
    "        lp=0\n",
    "    else:\n",
    "        lp=-1e100\n",
    "        \n",
    "    return -np.sum(np.log(f_good*(f_orb*orb_gaussian+(1-f_orb)*inf_gaussian)+(1-f_good)*los_gaussian))-lp"
   ]
  },
  {
   "cell_type": "code",
   "execution_count": 248,
   "metadata": {},
   "outputs": [],
   "source": [
    "def plot_fit(df,params,minr,maxr,num_resample,vfactor):\n",
    "    z_p = np.median(df.zcen)\n",
    "    lambda_p = np.median(df.rich)\n",
    "\n",
    "    r_edge = r_p*((1+df.zcen)/(1+z_p))**beta_r*(df.rich/lambda_p)**alpha_r\n",
    "    print(\"The mean value of R_edge is %.2f. (Should be roughly 1.8)\" % np.mean(r_edge))\n",
    "    print(\"The pivot richness is %.2f. (Should be roughly 32)\" % lambda_p)\n",
    "    print(\"The pivot redshift is %.2f. (Should be roughly 0.17)\" % z_p)\n",
    "\n",
    "    min_x = -6\n",
    "    max_x = 6\n",
    "    num_data_bin_edges = 30\n",
    "    num_sim_bin_edges = 251\n",
    "\n",
    "    a1, a2, b1, c1, c2, lnsp_orb, k, alpha_orb, beta_orb, lnsp_inf, alpha_inf, beta_inf, lnsp_los, alpha_los, beta_los, x_p, alpha_x, beta_x = params #unpacking parameters\n",
    "\n",
    "    b0 = 1 + a1 + a2 #calculated from constraint equations\n",
    "    c0 = -(c1 + c2) #calculated from constraint equations\n",
    "\n",
    "    x_t = x_p*((1+df.zcen)/(1+z_p))**beta_x*(df.rich/lambda_p)**alpha_x\n",
    "\n",
    "    #df2=df.loc[ (df.r/x_t>1.0) & (df.r/x_t <=1.5) ].copy()\n",
    "    #df2=df2.reset_index()\n",
    "\n",
    "    df2=df[ (df.r/x_t>minr) & (df.r/x_t <=maxr) ].copy()\n",
    "    df2=df2.reset_index()\n",
    "\n",
    "    rich=df2.rich\n",
    "    zcen=df2.zcen\n",
    "    x=df2.r\n",
    "    v=df2.v\n",
    "    sigma_obs = df2.sigma_obs\n",
    "    x_t = x_p*((1+zcen)/(1+z_p))**beta_x*(rich/lambda_p)**alpha_x\n",
    "\n",
    "    #assuming all are outside x_t\n",
    "    f_good = b0 + b1*(x/x_t-1)\n",
    "    f_orb = np.zeros_like(x)\n",
    "    #find those where x is less than x_t\n",
    "    lt_xt = np.where(x/x_t < 1)[0]\n",
    "\n",
    "    #properly reassign those that are actually inside\n",
    "    f_good[lt_xt] = 1 + a1*x[lt_xt]/x_t[lt_xt] + a2*((x[lt_xt]/x_t[lt_xt])**2)\n",
    "    f_orb[lt_xt] = c0 + c1*x[lt_xt]/x_t[lt_xt] + c2*((x[lt_xt]/x_t[lt_xt])**2)\n",
    "\n",
    "    #This sigma_v is just used to scale the plot, so I use orbiting to ensure that nothing is outside edges\n",
    "    sigma_v = calc_sigma_v([lnsp_orb, alpha_orb, beta_orb, z_p, lambda_p], zcen, rich)/((1+k*x/x_t)**0.5)\n",
    "    normalized_v = v/sigma_v\n",
    "\n",
    "    data_x_vals = np.linspace(min_x, max_x, num_data_bin_edges)\n",
    "    data_bin_centers = (data_x_vals[:-1] + data_x_vals[1:])/2.\n",
    "    #err_bars, data_bin_centers = get_err(data, z_p, lambda_p, params, data_x_vals)\n",
    "    sim_x_vals = np.linspace(min_x, max_x, num_sim_bin_edges)\n",
    "\n",
    "    all_orb = np.ones([num_resample, num_sim_bin_edges-1])\n",
    "    all_inf = np.ones([num_resample, num_sim_bin_edges-1])\n",
    "    all_los = np.ones([num_resample, num_sim_bin_edges-1])\n",
    "\n",
    "    data_x_vals = np.linspace(min_x, max_x, num_data_bin_edges)\n",
    "    data_bin_centers = (data_x_vals[:-1] + data_x_vals[1:])/2.\n",
    "    data_bin_width = data_bin_centers[1] - data_bin_centers[0]\n",
    "\n",
    "    print(\"Maximum normalized velocity %.2f. (Should be roughly 8)\" % np.max(vfactor*normalized_v))\n",
    "    counts, bin_edges = np.histogram(vfactor*normalized_v, data_x_vals)\n",
    "    normalized_counts = counts / float(len(v)) / data_bin_width\n",
    "\n",
    "    for i in tqdm(range(num_resample)):\n",
    "        fraction = np.random.rand(len(x))\n",
    "        orb = np.where(fraction < f_good * f_orb)[0]\n",
    "        inf = np.where((f_good * f_orb <= fraction) & (fraction < f_good))[0]\n",
    "        los = np.where(fraction >= f_good)[0]\n",
    "\n",
    "        assert len(los) + len(orb) + len(inf) == len(x), \"Uh-oh: check np.where assignment at beginning of sample\"\n",
    "        orb_sigmav = calc_sigma_v([lnsp_orb, alpha_orb, beta_orb, z_p, lambda_p], zcen[orb], rich[orb])/((1+k*x[orb]/x_t[orb])**0.5)\n",
    "        orb_sigmat = (orb_sigmav**2 + sigma_obs[orb]**2)**0.5\n",
    "        orb_v = np.random.normal(0, orb_sigmat)\n",
    "        inf_sigmav = calc_sigma_v([lnsp_inf, alpha_inf, beta_inf, z_p, lambda_p], zcen[inf], rich[inf])\n",
    "        inf_sigmat = (inf_sigmav**2 + sigma_obs[inf]**2)**0.5\n",
    "        inf_v = np.random.normal(0, inf_sigmat)\n",
    "        los_sigmav = calc_sigma_v([lnsp_los, alpha_los, beta_los, z_p, lambda_p], zcen[los], rich[los])\n",
    "        los_sigmat = (los_sigmav**2 + sigma_obs[los]**2)**0.5\n",
    "        los_v = np.random.normal(0, los_sigmat)\n",
    "\n",
    "        orb_v_by_sig_v = orb_v / sigma_v[orb]\n",
    "        inf_v_by_sig_v = inf_v / sigma_v[inf]\n",
    "        los_v_by_sig_v = los_v / sigma_v[los]\n",
    "\n",
    "        all_orb[i], bin_edges = np.histogram(orb_v_by_sig_v, sim_x_vals)\n",
    "        all_inf[i], bin_edges = np.histogram(inf_v_by_sig_v, sim_x_vals)\n",
    "        all_los[i], bin_edges = np.histogram(los_v_by_sig_v, sim_x_vals)\n",
    "\n",
    "    sim_bin_centers = (sim_x_vals[:-1] + sim_x_vals[1:])/2.\n",
    "    sim_bin_width = sim_bin_centers[1] - sim_bin_centers[0]\n",
    "\n",
    "    orb_averaged = np.mean(all_orb, axis=0)\n",
    "    orb_normalized = orb_averaged / float(len(x)) / sim_bin_width\n",
    "\n",
    "    inf_averaged = np.mean(all_inf, axis=0)\n",
    "    inf_normalized = inf_averaged / float(len(x)) / sim_bin_width\n",
    "\n",
    "    los_averaged = np.mean(all_los, axis=0)\n",
    "    los_normalized = los_averaged / float(len(x)) / sim_bin_width\n",
    "\n",
    "    fig, axes = plt.subplots(figsize=(10,7))\n",
    "    orb_lines = axes.plot(sim_bin_centers, orb_normalized, linewidth=1, ls=\"dashdot\")\n",
    "    inf_lines = axes.plot(sim_bin_centers, inf_normalized, linewidth=1, ls=\"dotted\")\n",
    "    los_lines = axes.plot(sim_bin_centers, los_normalized, linewidth=1, ls=\"dashed\")\n",
    "    sum_lines = axes.plot(sim_bin_centers, orb_normalized + inf_normalized + los_normalized, linewidth=1)\n",
    "    axes.errorbar(data_bin_centers,normalized_counts,yerr=np.sqrt(counts)/float(len(v)) / data_bin_width,fmt=\"ko\",markersize=1.5,elinewidth=0.8,capsize=1.8)\n",
    "    axes.set_ylim(0,0.5)\n",
    "    axes.set_xlabel('$v$ / $\\sigma_{v,orb}$')\n",
    "    axes.set_ylabel('P($v$ / $\\sigma_{v,orb})$')"
   ]
  },
  {
   "cell_type": "code",
   "execution_count": 16,
   "metadata": {},
   "outputs": [],
   "source": [
    "#Parameters from 'Clusters have Edges'\n",
    "a1=-0.512\n",
    "a2=-0.032\n",
    "b1=-0.010\n",
    "c1=-0.061\n",
    "c2=-0.693\n",
    "\n",
    "sp_orb=7.77\n",
    "lnsp_orb=np.log(sp_orb)\n",
    "alpha_orb=0.43\n",
    "beta_orb=0.353\n",
    "\n",
    "sp_inf=4.48\n",
    "lnsp_inf=np.log(sp_inf)\n",
    "alpha_inf=0.363\n",
    "beta_inf=0.113\n",
    "\n",
    "sp_los=38.73\n",
    "lnsp_los=np.log(sp_los)\n",
    "alpha_los=0.503\n",
    "beta_los=-0.328\n",
    "\n",
    "alpha_r=0.305\n",
    "beta_r=-0.385\n",
    "r_p=1.79\n",
    "k=0.883\n",
    "\n",
    "origin=[a1, a2, b1, c1, c2, lnsp_orb, k, alpha_orb, beta_orb, lnsp_inf, alpha_inf, beta_inf, lnsp_los, alpha_los, beta_los, r_p, alpha_r, beta_r]\n",
    "origin=np.array(origin)"
   ]
  },
  {
   "cell_type": "code",
   "execution_count": 26,
   "metadata": {},
   "outputs": [],
   "source": [
    "#Parameters that Paxton's mcmc is initialized with\n",
    "origin2 = [-0.45, -0.08, -0.1, -0.5, -0.2, 8.65, 0.9, 0.5, -0.25, 8.1, 0.38, -0.7, 10.3, 0.5, -0.4, 2, 0, -0.5]\n"
   ]
  },
  {
   "cell_type": "code",
   "execution_count": 17,
   "metadata": {},
   "outputs": [],
   "source": [
    "#Parameters from 'Clusters have Edges'\n",
    "da1=0.3\n",
    "da2=0.053\n",
    "db1=0.1\n",
    "dc1=0.180\n",
    "dc2=0.4\n",
    "\n",
    "dsp_orb=0.21\n",
    "dlnsp_orb=-np.log(dsp_orb)\n",
    "dalpha_orb=0.019\n",
    "dbeta_orb=0.195\n",
    "\n",
    "dsp_inf=0.06\n",
    "dlnsp_inf=-np.log(dsp_inf)\n",
    "dalpha_inf=0.363\n",
    "dbeta_inf=0.180\n",
    "\n",
    "dsp_los=1.16\n",
    "dlnsp_los=np.log(dsp_los)\n",
    "dalpha_los=0.066\n",
    "dbeta_los=0.48\n",
    "\n",
    "dalpha_r=0.034\n",
    "dbeta_r=0.289\n",
    "dr_p=0.12\n",
    "dk=0.238\n",
    "\n",
    "delta=[da1, da2, db1, dc1, dc2, dlnsp_orb, -dk, dalpha_orb, dbeta_orb, dlnsp_inf, dalpha_inf, dbeta_inf, dlnsp_los, dalpha_los, dbeta_los, dr_p, dalpha_r, dbeta_r]\n",
    "delta=np.array(delta)"
   ]
  },
  {
   "cell_type": "code",
   "execution_count": 202,
   "metadata": {},
   "outputs": [],
   "source": [
    "fname = \"last_catalog.npy\"\n",
    "dt = np.load(fname)\n",
    "pax=pd.DataFrame.from_records(dt.tolist(), columns=dt.dtype.names)\n",
    "rich=pax.LAMBDA_CHISQ\n",
    "zcen=pax.BCG_SPEC_Z\n",
    "r=pax.R\n",
    "x=pax.R/pax.R_LAMBDA\n",
    "v=pax.Velocity / 100000\n",
    "ra=pax.MEM_RA\n",
    "dec=pax.MEM_DEC\n",
    "sigma_obs = c*((pax.ZMEM_ERR**2 + pax.ZCEN_ERR**2)**(0.5)) / 100000\n",
    "pax=pd.DataFrame({'rich':rich,'zcen':zcen,'x':x,'r':r,'v':v,'ra':ra,'dec':dec,'sigma_obs':sigma_obs});\n",
    "df=pax"
   ]
  },
  {
   "cell_type": "code",
   "execution_count": 227,
   "metadata": {},
   "outputs": [],
   "source": [
    "lik_model = minimize(nlnlike2, origin, args=(v,r,rich,zcen,sigma_obs), method='Nelder-Mead',options={'maxiter': 1e4})"
   ]
  },
  {
   "cell_type": "code",
   "execution_count": 108,
   "metadata": {},
   "outputs": [],
   "source": [
    "min=np.array([-1,-1,-1,-1,-1,1,0,0.05,-2,1,0.05,-2,1,0.05,-2,1,-2,-2])\n",
    "max=np.array([0,1,0,0,0,10,1,1,2,10,1,2,50,1,2,5,2,2])\n",
    "\n",
    "bnds=[(x,y) for x, y in zip(min, max)]\n",
    "\n",
    "minuit_model = iminuit.minimize(nlnlike2, origin, args=(v,r,rich,zcen,sigma_obs),bounds=bnds)"
   ]
  },
  {
   "cell_type": "code",
   "execution_count": 228,
   "metadata": {},
   "outputs": [
    {
     "data": {
      "text/plain": [
       "array([-7.09544859e-01,  1.92745015e-02, -6.54307506e-02, -1.02942990e-09,\n",
       "       -9.33395200e-01,  2.00419922e+00,  1.43984089e+00,  4.30109460e-01,\n",
       "       -1.85460494e-03,  1.24353902e+00,  3.55737109e-01,  1.26346394e-01,\n",
       "        2.91630909e+00,  4.56804404e-01, -3.73106064e-01,  1.75315441e+00,\n",
       "        3.50999931e-01,  8.39338627e-02])"
      ]
     },
     "execution_count": 228,
     "metadata": {},
     "output_type": "execute_result"
    }
   ],
   "source": [
    "lik_model.x"
   ]
  },
  {
   "cell_type": "code",
   "execution_count": 260,
   "metadata": {},
   "outputs": [
    {
     "data": {
      "text/plain": [
       "array([-8.02581177e-01,  1.27792879e-01, -9.89207610e-02, -3.21414942e-06,\n",
       "       -9.11594772e-01,  1.96199655e+00,  1.00000000e+00,  4.24254925e-01,\n",
       "        3.78931660e-01,  1.24057430e+00,  3.63963798e-01, -1.50078735e-01,\n",
       "        2.91363794e+00,  4.54650495e-01, -6.40736337e-02,  1.82678256e+00,\n",
       "        3.39660583e-01, -6.68730735e-01])"
      ]
     },
     "execution_count": 260,
     "metadata": {},
     "output_type": "execute_result"
    }
   ],
   "source": [
    "minuit_model.x"
   ]
  },
  {
   "cell_type": "code",
   "execution_count": 229,
   "metadata": {},
   "outputs": [
    {
     "data": {
      "text/plain": [
       "833468.4847953533"
      ]
     },
     "execution_count": 229,
     "metadata": {},
     "output_type": "execute_result"
    }
   ],
   "source": [
    "nlnlike2(origin2,v,r,rich,zcen,sigma_obs)"
   ]
  },
  {
   "cell_type": "code",
   "execution_count": 230,
   "metadata": {},
   "outputs": [
    {
     "data": {
      "text/plain": [
       "356041.8714201489"
      ]
     },
     "execution_count": 230,
     "metadata": {},
     "output_type": "execute_result"
    }
   ],
   "source": [
    "nlnlike2(origin,v,r,rich,zcen,sigma_obs)"
   ]
  },
  {
   "cell_type": "code",
   "execution_count": 231,
   "metadata": {},
   "outputs": [
    {
     "data": {
      "text/plain": [
       "344806.5698893919"
      ]
     },
     "execution_count": 231,
     "metadata": {},
     "output_type": "execute_result"
    }
   ],
   "source": [
    "nlnlike2(lik_model.x,v,r,rich,zcen,sigma_obs)"
   ]
  },
  {
   "cell_type": "code",
   "execution_count": 232,
   "metadata": {},
   "outputs": [
    {
     "data": {
      "text/plain": [
       "344775.88250114047"
      ]
     },
     "execution_count": 232,
     "metadata": {},
     "output_type": "execute_result"
    }
   ],
   "source": [
    "nlnlike2(minuit_model.x,v,r,rich,zcen,sigma_obs)"
   ]
  },
  {
   "cell_type": "markdown",
   "metadata": {},
   "source": [
    "The simplex method is giving a slightly better goodness-of-fit because the simplex method does not allow bounds, and the value of 'k' is above one. If you look at the minuit model, k is as close to 1 as it can be, leading me to suspect it 'wants' to be higher than 1. Why is k bounded in this way?\n",
    "\n",
    "Note both methods suggest R_p=1.8, confirming the paper's results. However, they disagree on other parameters."
   ]
  },
  {
   "cell_type": "markdown",
   "metadata": {},
   "source": [
    "A quick check: is minuit sensitive to starting guess? Answer:yes"
   ]
  },
  {
   "cell_type": "code",
   "execution_count": 105,
   "metadata": {},
   "outputs": [],
   "source": [
    "origin2 = [-0.45, -0.08, -0.1, -0.5, -0.2, 8.65, 0.9, 0.5, -0.25, 8.1, 0.38, -0.7, 10.3, 0.5, -0.4, 2, 0, -0.5]\n",
    "min=np.array([-1,-1,-1,-1,-1,1,0,0.05,-2,1,0.05,-2,1,0.05,-2,1,-2,-2])\n",
    "max=np.array([0,1,0,0,0,10,1,1,2,10,1,2,50,1,2,5,2,2])\n",
    "\n",
    "bnds=[(x,y) for x, y in zip(min, max)]\n",
    "\n",
    "minuit_model2 = iminuit.minimize(nlnlike2, origin2, args=(v,r,rich,zcen,sigma_obs),bounds=bnds)"
   ]
  },
  {
   "cell_type": "code",
   "execution_count": 115,
   "metadata": {},
   "outputs": [
    {
     "data": {
      "text/plain": [
       "array([-1.79828844e-01, -8.26085769e-02, -2.90790954e-08, -4.09180964e-01,\n",
       "       -5.20557435e-01,  1.90199490e+00,  9.99999480e-01,  4.18562225e-01,\n",
       "        3.24656399e-01,  2.91328614e+00,  4.53416515e-01, -6.00183458e-02,\n",
       "        1.20791265e+00,  3.41783687e-01,  8.74234922e-02,  1.91037307e+00,\n",
       "        3.83699144e-01, -9.37520552e-01])"
      ]
     },
     "execution_count": 115,
     "metadata": {},
     "output_type": "execute_result"
    }
   ],
   "source": [
    "minuit_model2.x"
   ]
  },
  {
   "cell_type": "code",
   "execution_count": 116,
   "metadata": {},
   "outputs": [
    {
     "data": {
      "text/plain": [
       "344846.22656554607"
      ]
     },
     "execution_count": 116,
     "metadata": {},
     "output_type": "execute_result"
    }
   ],
   "source": [
    "nlnlike2(minuit_model2.x,v,r,rich,zcen,sigma_obs)"
   ]
  },
  {
   "cell_type": "markdown",
   "metadata": {},
   "source": [
    "Is simplex sensitive to initial guess? Yes, and it doesn't even get r_p right."
   ]
  },
  {
   "cell_type": "code",
   "execution_count": 98,
   "metadata": {},
   "outputs": [],
   "source": [
    "lik_model2 = minimize(nlnlike2, origin2, args=(v,r,rich,zcen,sigma_obs), method='Nelder-Mead',options={'maxiter': 1e4})"
   ]
  },
  {
   "cell_type": "code",
   "execution_count": 99,
   "metadata": {},
   "outputs": [
    {
     "data": {
      "text/plain": [
       "array([-4.46372976e-01, -7.51438079e-02, -1.10066896e-01, -3.28851723e-01,\n",
       "       -1.87956448e-01,  9.91993217e+00,  9.65494354e-01,  5.16002261e-02,\n",
       "       -3.71985844e-01,  1.56514103e+00,  9.84859678e-01, -1.00151707e+00,\n",
       "        2.90387097e+00,  3.01079732e-01, -3.00089956e-01,  1.06830514e+00,\n",
       "        2.31712808e-03, -6.74297611e-01])"
      ]
     },
     "execution_count": 99,
     "metadata": {},
     "output_type": "execute_result"
    }
   ],
   "source": [
    "lik_model2.x"
   ]
  },
  {
   "cell_type": "code",
   "execution_count": 100,
   "metadata": {},
   "outputs": [
    {
     "data": {
      "text/plain": [
       "353629.31256090157"
      ]
     },
     "execution_count": 100,
     "metadata": {},
     "output_type": "execute_result"
    }
   ],
   "source": [
    "nlnlike2(lik_model2.x,v,r,rich,zcen,sigma_obs)"
   ]
  },
  {
   "cell_type": "markdown",
   "metadata": {},
   "source": [
    "Is mcmc sensitive to initial guess? Yes, it is the most sensitive/time consuming. First, run mcmc starting at the parameters from Paxton's code"
   ]
  },
  {
   "cell_type": "code",
   "execution_count": 75,
   "metadata": {},
   "outputs": [],
   "source": [
    "#Parameters that Paxton's mcmc is initialized with\n",
    "\n",
    "origin2 = [-0.45, -0.08, -0.1, -0.5, -0.2, 8.65, 0.9, 0.5, -0.25, 8.1, 0.38, -0.7, 10.3, 0.5, -0.4, 2, 0, -0.5]\n",
    "delta2 = [0.02, 0.003, 0.02, 0.04, 0.04, 0.06, 0.05, 0.015, 0.06, 0.06, 0.01, 0.04, 0.08, 0.03, 0.08, 0.1, 0.05, 0.08]\n",
    "ndim, nwalkers = 18,40\n",
    "pos = [origin2 + delta2*np.random.randn(ndim) for i in range(nwalkers)]\n",
    "#Now I set up the sampler\n",
    "sampler = emcee.EnsembleSampler(nwalkers, ndim, lnlike2, args=(v,r,rich,zcen,sigma_obs))"
   ]
  },
  {
   "cell_type": "code",
   "execution_count": 76,
   "metadata": {},
   "outputs": [],
   "source": [
    "sampler.run_mcmc(pos, 100); #run a 1000 length chain starting at pos"
   ]
  },
  {
   "cell_type": "code",
   "execution_count": 77,
   "metadata": {},
   "outputs": [],
   "source": [
    "#Getting the values that maximize likelihood\n",
    "flat_chain = np.concatenate(sampler.chain)\n",
    "flat_lnprobs = np.concatenate(sampler.lnprobability)\n",
    "max_prob_idx = np.argmax(flat_lnprobs)\n",
    "max_prob = flat_lnprobs[max_prob_idx]\n",
    "#p, lnsigma_p, alpha, beta = flat_chain[max_prob_idx]\n",
    "mcmc_initial=flat_chain[max_prob_idx]"
   ]
  },
  {
   "cell_type": "code",
   "execution_count": 78,
   "metadata": {},
   "outputs": [
    {
     "data": {
      "text/plain": [
       "array([-3.88631234e-01,  8.47319996e-03, -1.70691867e-01, -8.63205443e-03,\n",
       "       -1.68953485e-01,  9.92517872e+00,  8.10040571e-01,  3.01929981e-01,\n",
       "       -1.09904082e+00,  6.88483606e+00,  1.81561206e-01,  7.36376417e-02,\n",
       "        1.11189909e+01,  7.10649578e-01,  1.16897195e+00,  2.61805004e+00,\n",
       "        1.20599158e-01, -1.20344477e+00])"
      ]
     },
     "execution_count": 78,
     "metadata": {},
     "output_type": "execute_result"
    }
   ],
   "source": [
    "mcmc_initial"
   ]
  },
  {
   "cell_type": "code",
   "execution_count": 92,
   "metadata": {},
   "outputs": [
    {
     "data": {
      "text/plain": [
       "712898.8129275201"
      ]
     },
     "execution_count": 92,
     "metadata": {},
     "output_type": "execute_result"
    }
   ],
   "source": [
    "nlnlike2(mcmc_initial,v,r,rich,zcen,sigma_obs)"
   ]
  },
  {
   "cell_type": "markdown",
   "metadata": {},
   "source": [
    "Now, run mcmc starting at the parameters from 'Clusters have edges'"
   ]
  },
  {
   "cell_type": "code",
   "execution_count": 82,
   "metadata": {},
   "outputs": [],
   "source": [
    "#Now I begin to sample from our parameter space of good likelihood and run the MCMC.\n",
    "ndim, nwalkers = 18,40\n",
    "pos = [origin + delta*np.random.randn(ndim) for i in range(nwalkers)]\n",
    "#Now I set up the sampler\n",
    "sampler = emcee.EnsembleSampler(nwalkers, ndim, lnlike2, args=(v,r,rich,zcen,sigma_obs))"
   ]
  },
  {
   "cell_type": "code",
   "execution_count": 83,
   "metadata": {},
   "outputs": [
    {
     "name": "stderr",
     "output_type": "stream",
     "text": [
      "/usr/local/lib/python3.7/site-packages/ipykernel_launcher.py:7: RuntimeWarning: overflow encountered in exp\n",
      "  import sys\n"
     ]
    }
   ],
   "source": [
    "sampler.run_mcmc(pos, 100); #run a 1000 length chain starting at pos"
   ]
  },
  {
   "cell_type": "code",
   "execution_count": 84,
   "metadata": {},
   "outputs": [],
   "source": [
    "#Getting the values that maximize likelihood\n",
    "flat_chain = np.concatenate(sampler.chain)\n",
    "flat_lnprobs = np.concatenate(sampler.lnprobability)\n",
    "max_prob_idx = np.argmax(flat_lnprobs)\n",
    "max_prob = flat_lnprobs[max_prob_idx]\n",
    "#p, lnsigma_p, alpha, beta = flat_chain[max_prob_idx]\n",
    "mcmc_paper=flat_chain[max_prob_idx]"
   ]
  },
  {
   "cell_type": "code",
   "execution_count": 85,
   "metadata": {},
   "outputs": [
    {
     "data": {
      "text/plain": [
       "array([-1.83000752e-03, -4.04748216e-02, -5.49478690e-03, -2.60509491e-01,\n",
       "       -5.78320291e-01,  1.59302315e+00,  2.40272178e-01,  4.23148469e-01,\n",
       "        8.17615950e-01,  2.85900533e+00,  5.99106191e-02,  5.60882156e-01,\n",
       "        3.88002573e+00,  5.14948287e-01, -1.19294084e+00,  1.68803361e+00,\n",
       "        3.12312979e-01, -6.95708609e-01])"
      ]
     },
     "execution_count": 85,
     "metadata": {},
     "output_type": "execute_result"
    }
   ],
   "source": [
    "mcmc_paper"
   ]
  },
  {
   "cell_type": "code",
   "execution_count": 91,
   "metadata": {},
   "outputs": [
    {
     "data": {
      "text/plain": [
       "351921.51041504863"
      ]
     },
     "execution_count": 91,
     "metadata": {},
     "output_type": "execute_result"
    }
   ],
   "source": [
    "nlnlike2(mcmc_paper,v,r,rich,zcen,sigma_obs)"
   ]
  },
  {
   "cell_type": "markdown",
   "metadata": {},
   "source": [
    "Last, run mcmc starting at parameters from minuit"
   ]
  },
  {
   "cell_type": "code",
   "execution_count": 326,
   "metadata": {},
   "outputs": [],
   "source": [
    "#Now I begin to sample from our parameter space of good likelihood and run the MCMC.\n",
    "ndim, nwalkers = 18,40\n",
    "pos = [minuit_model.x + delta*np.random.randn(ndim) for i in range(nwalkers)]\n",
    "#Now I set up the sampler\n",
    "sampler = emcee.EnsembleSampler(nwalkers, ndim, lnlike2, args=(v,r,rich,zcen,sigma_obs))"
   ]
  },
  {
   "cell_type": "code",
   "execution_count": null,
   "metadata": {},
   "outputs": [
    {
     "name": "stderr",
     "output_type": "stream",
     "text": [
      "/usr/local/lib/python3.7/site-packages/ipykernel_launcher.py:7: RuntimeWarning: overflow encountered in exp\n",
      "  import sys\n"
     ]
    }
   ],
   "source": [
    "sampler.run_mcmc(pos, 1000); #run a 1000 length chain starting at pos"
   ]
  },
  {
   "cell_type": "code",
   "execution_count": null,
   "metadata": {},
   "outputs": [],
   "source": [
    "#Getting the values that maximize likelihood\n",
    "flat_chain = np.concatenate(sampler.chain)\n",
    "flat_lnprobs = np.concatenate(sampler.lnprobability)\n",
    "max_prob_idx = np.argmax(flat_lnprobs)\n",
    "max_prob = flat_lnprobs[max_prob_idx]\n",
    "#p, lnsigma_p, alpha, beta = flat_chain[max_prob_idx]\n",
    "mcmc_paper=flat_chain[max_prob_idx]"
   ]
  },
  {
   "cell_type": "code",
   "execution_count": null,
   "metadata": {},
   "outputs": [],
   "source": [
    "mcmc_minuit"
   ]
  },
  {
   "cell_type": "code",
   "execution_count": null,
   "metadata": {},
   "outputs": [],
   "source": [
    "nlnlike2(mcmc_minuit,v,r,rich,zcen,sigma_obs)"
   ]
  },
  {
   "cell_type": "code",
   "execution_count": 250,
   "metadata": {},
   "outputs": [
    {
     "name": "stdout",
     "output_type": "stream",
     "text": [
      "The mean value of R_edge is 1.84. (Should be roughly 1.8)\n",
      "The pivot richness is 32.19. (Should be roughly 32)\n",
      "The pivot redshift is 0.17. (Should be roughly 0.17)\n",
      "Maximum normalized velocity 9.64. (Should be roughly 6)\n"
     ]
    },
    {
     "data": {
      "application/vnd.jupyter.widget-view+json": {
       "model_id": "4340689803d845a59e9220961002bb84",
       "version_major": 2,
       "version_minor": 0
      },
      "text/plain": [
       "HBox(children=(IntProgress(value=0), HTML(value='')))"
      ]
     },
     "metadata": {},
     "output_type": "display_data"
    },
    {
     "name": "stdout",
     "output_type": "stream",
     "text": [
      "\n"
     ]
    },
    {
     "data": {
      "image/png": "[encoded data removed]",
      "text/plain": [
       "<Figure size 720x504 with 1 Axes>"
      ]
     },
     "metadata": {
      "needs_background": "light"
     },
     "output_type": "display_data"
    }
   ],
   "source": [
    "plot_fit(df,origin2,0.8,1.2,100,1000)"
   ]
  },
  {
   "cell_type": "code",
   "execution_count": null,
   "metadata": {},
   "outputs": [],
   "source": [
    "plot_fit(df,origin,1.0,1.2,1000,1)"
   ]
  },
  {
   "cell_type": "code",
   "execution_count": 255,
   "metadata": {},
   "outputs": [
    {
     "name": "stdout",
     "output_type": "stream",
     "text": [
      "The mean value of R_edge is 1.84. (Should be roughly 1.8)\n",
      "The pivot richness is 32.19. (Should be roughly 32)\n",
      "The pivot redshift is 0.17. (Should be roughly 0.17)\n",
      "Maximum normalized velocity 7.43. (Should be roughly 6)\n"
     ]
    },
    {
     "data": {
      "application/vnd.jupyter.widget-view+json": {
       "model_id": "6a00e0a8e4044eaabd1fc301eb10e0ab",
       "version_major": 2,
       "version_minor": 0
      },
      "text/plain": [
       "HBox(children=(IntProgress(value=0, max=1000), HTML(value='')))"
      ]
     },
     "metadata": {},
     "output_type": "display_data"
    },
    {
     "name": "stdout",
     "output_type": "stream",
     "text": [
      "\n"
     ]
    },
    {
     "data": {
      "image/png": "[encoded data removed]",
      "text/plain": [
       "<Figure size 720x504 with 1 Axes>"
      ]
     },
     "metadata": {
      "needs_background": "light"
     },
     "output_type": "display_data"
    }
   ],
   "source": [
    "plot_fit(df,minuit_model.x,0.8,1.0,1000,1)"
   ]
  },
  {
   "cell_type": "code",
   "execution_count": 257,
   "metadata": {},
   "outputs": [
    {
     "name": "stdout",
     "output_type": "stream",
     "text": [
      "The mean value of R_edge is 1.84. (Should be roughly 1.8)\n",
      "The pivot richness is 32.19. (Should be roughly 32)\n",
      "The pivot redshift is 0.17. (Should be roughly 0.17)\n",
      "Maximum normalized velocity 9.04. (Should be roughly 6)\n"
     ]
    },
    {
     "data": {
      "application/vnd.jupyter.widget-view+json": {
       "model_id": "8b6f01595f1f41e0b56629420d663c83",
       "version_major": 2,
       "version_minor": 0
      },
      "text/plain": [
       "HBox(children=(IntProgress(value=0, max=1000), HTML(value='')))"
      ]
     },
     "metadata": {},
     "output_type": "display_data"
    },
    {
     "name": "stdout",
     "output_type": "stream",
     "text": [
      "\n"
     ]
    },
    {
     "data": {
      "image/png": "[encoded data removed]",
      "text/plain": [
       "<Figure size 720x504 with 1 Axes>"
      ]
     },
     "metadata": {
      "needs_background": "light"
     },
     "output_type": "display_data"
    }
   ],
   "source": [
    "plot_fit(df,lik_model.x,1.0,1.5,1000,1)"
   ]
  },
  {
   "cell_type": "markdown",
   "metadata": {},
   "source": [
    "Output and compare parameters. Are they significantly different?"
   ]
  },
  {
   "cell_type": "code",
   "execution_count": 261,
   "metadata": {},
   "outputs": [],
   "source": [
    "def nlnlike3(parameters):\n",
    "    \n",
    "    global v,r,rich,zcen,sigma_obs\n",
    "    a1, a2, b1, c1, c2, lnsp_orb, k, alpha_orb, beta_orb, lnsp_inf, alpha_inf, beta_inf, lnsp_los, alpha_los, beta_los, r_p, alpha_r, beta_r=parameters\n",
    "\n",
    "    b0 = 1 + a1 + a2 #calculated from constraint equations\n",
    "    c0 = -(c1 + c2) #calculated from constraint equations\n",
    "\n",
    "    z_p = np.median(zcen)\n",
    "    lambda_p = np.median(rich)\n",
    "\n",
    "    r_edge = r_p*((1+zcen)/(1+z_p))**beta_r*(rich/lambda_p)**alpha_r\n",
    "\n",
    "    f_good = b0 + b1*(r/r_edge-1)\n",
    "    f_orb = np.zeros_like(r)\n",
    "\n",
    "    lt_xt = np.where(r < r_edge)[0]\n",
    "    f_good[lt_xt] = 1 + a1*r[lt_xt]/r_edge[lt_xt] + a2*((r[lt_xt]/r_edge[lt_xt])**2)\n",
    "    f_orb[lt_xt] = c0 + c1*r[lt_xt]/r_edge[lt_xt] + c2*((r[lt_xt]/r_edge[lt_xt])**2)\n",
    "\n",
    "    orb_sigmav = calc_sigma_v([lnsp_orb, alpha_orb, beta_orb, z_p, lambda_p], zcen, rich)/(1+k*r/r_edge)**0.5\n",
    "    orb_sigmat = (orb_sigmav**2 + sigma_obs**2)**0.5\n",
    "    orb_gaussian = np.exp(-0.5*((v/orb_sigmat)**2))/(np.sqrt(2*np.pi)*orb_sigmat)\n",
    "\n",
    "    inf_sigmav = calc_sigma_v([lnsp_inf, alpha_inf, beta_inf, z_p, lambda_p], zcen, rich)\n",
    "    inf_sigmat = (inf_sigmav**2 + sigma_obs**2)**0.5\n",
    "    inf_gaussian = np.exp(-0.5*((v/inf_sigmat)**2))/(np.sqrt(2*np.pi)*inf_sigmat)\n",
    "\n",
    "    los_sigmav = calc_sigma_v([lnsp_los, alpha_los, beta_los, z_p, lambda_p], zcen, rich)\n",
    "    los_sigmat = (los_sigmav**2 + sigma_obs**2)**0.5\n",
    "    los_gaussian = background_gaussian(v, rich, los_sigmat)\n",
    "\n",
    "    if 0.05 < alpha_orb < 1 and 0.05 < alpha_inf < 1 and 0.05 < alpha_los < 1 and -2 < alpha_r < 2 and -2 < beta_orb < 2 and -2 < beta_inf < 2 and -2 < beta_los < 2 and -2 < beta_r < 2 and 1 < lnsp_orb < 10 and 1 < lnsp_inf < 10 and lnsp_los < 50 and a1 < 0 and 0.2 < b0 < 1 and b1 < 0 and 0 < c0 <= 1 and c1 < 0 and (f_good > 0).all() and (f_orb >= 0).all() and 1 < r_p < 5 and k > 0:\n",
    "        lp=0\n",
    "    else:\n",
    "        lp=-1e100\n",
    "        \n",
    "    return -np.sum(np.log(f_good*(f_orb*orb_gaussian+(1-f_orb)*inf_gaussian)+(1-f_good)*los_gaussian))-lp"
   ]
  },
  {
   "cell_type": "code",
   "execution_count": 277,
   "metadata": {},
   "outputs": [],
   "source": [
    "fname = \"last_catalog.npy\"\n",
    "dt = np.load(fname)\n",
    "pax=pd.DataFrame.from_records(dt.tolist(), columns=dt.dtype.names)\n",
    "rich=pax.LAMBDA_CHISQ\n",
    "zcen=pax.BCG_SPEC_Z\n",
    "r=pax.R\n",
    "x=pax.R/pax.R_LAMBDA\n",
    "v=pax.Velocity / 100000\n",
    "ra=pax.MEM_RA\n",
    "dec=pax.MEM_DEC\n",
    "sigma_obs = c*((pax.ZMEM_ERR**2 + pax.ZCEN_ERR**2)**(0.5)) / 100000\n",
    "pax=pd.DataFrame({'rich':rich,'zcen':zcen,'x':x,'r':r,'v':v,'ra':ra,'dec':dec,'sigma_obs':sigma_obs});\n",
    "df=pax\n",
    "\n",
    "origin2=(a1, a2, b1, c1, c2, lnsp_orb, k, alpha_orb, beta_orb, lnsp_inf, alpha_inf, beta_inf, lnsp_los, alpha_los, beta_los, r_p, alpha_r, beta_r)\n",
    "min=np.array([-1,-1,-1,-1,-1,1,0,0.05,-2,1,0.05,-2,1,0.05,-2,1,-2,-2])\n",
    "max=np.array([0,1,0,0,0,10,1,1,2,10,1,2,50,1,2,5,2,2])\n",
    "\n",
    "bnds=[(x,y) for x, y in zip(min, max)]\n",
    "\n",
    "m = Minuit.from_array_func(nlnlike3, origin2,limit=bnds,errordef=0.5,pedantic=False)"
   ]
  },
  {
   "cell_type": "code",
   "execution_count": 267,
   "metadata": {},
   "outputs": [
    {
     "data": {
      "text/html": [
       "<table>\n",
       "<tr>\n",
       "<td colspan=\"2\" title=\"Minimum value of function\">\n",
       "FCN = 3.448E+05\n",
       "</td>\n",
       "<td align=\"center\" colspan=\"3\" title=\"No. of calls in last algorithm and total number of calls\">\n",
       "Ncalls = 450 (461 total)\n",
       "</td>\n",
       "</tr>\n",
       "<tr>\n",
       "<td colspan=\"2\" title=\"Estimated distance to minimum and target threshold\">\n",
       "EDM = 0.000692 (Goal: 0.0001)\n",
       "</td>\n",
       "<td align=\"center\" colspan=\"3\" title=\"Increase in FCN which corresponds to 1 standard deviation\">\n",
       "up = 0.5\n",
       "</td>\n",
       "</tr>\n",
       "<tr>\n",
       "<td align=\"center\" title=\"Validity of the migrad call\">\n",
       "Valid Min.\n",
       "</td>\n",
       "<td align=\"center\" title=\"Validity of parameters\">\n",
       "Valid Param.\n",
       "</td>\n",
       "<td align=\"center\" title=\"Is EDM above goal EDM?\">\n",
       "Above EDM\n",
       "</td>\n",
       "<td align=\"center\" colspan=\"2\" title=\"Did last migrad call reach max call limit?\">\n",
       "Reached call limit\n",
       "</td>\n",
       "</tr>\n",
       "<tr>\n",
       "<td align=\"center\" style=\"background-color:#92CCA6;\">\n",
       "True\n",
       "</td>\n",
       "<td align=\"center\" style=\"background-color:#92CCA6;\">\n",
       "True\n",
       "</td>\n",
       "<td align=\"center\" style=\"background-color:#92CCA6;\">\n",
       "False\n",
       "</td>\n",
       "<td align=\"center\" colspan=\"2\" style=\"background-color:#92CCA6;\">\n",
       "False\n",
       "</td>\n",
       "</tr>\n",
       "<tr>\n",
       "<td align=\"center\" title=\"Did Hesse fail?\">\n",
       "Hesse failed\n",
       "</td>\n",
       "<td align=\"center\" title=\"Has covariance matrix\">\n",
       "Has cov.\n",
       "</td>\n",
       "<td align=\"center\" title=\"Is covariance matrix accurate?\">\n",
       "Accurate\n",
       "</td>\n",
       "<td align=\"center\" title=\"Is covariance matrix positive definite?\">\n",
       "Pos. def.\n",
       "</td>\n",
       "<td align=\"center\" title=\"Was positive definiteness enforced by Minuit?\">\n",
       "Forced\n",
       "</td>\n",
       "</tr>\n",
       "<tr>\n",
       "<td align=\"center\" style=\"background-color:#92CCA6;\">\n",
       "False\n",
       "</td>\n",
       "<td align=\"center\" style=\"background-color:#92CCA6;\">\n",
       "True\n",
       "</td>\n",
       "<td align=\"center\" style=\"background-color:#92CCA6;\">\n",
       "True\n",
       "</td>\n",
       "<td align=\"center\" style=\"background-color:#92CCA6;\">\n",
       "True\n",
       "</td>\n",
       "<td align=\"center\" style=\"background-color:#92CCA6;\">\n",
       "False\n",
       "</td>\n",
       "</tr>\n",
       "</table>\n",
       "<table>\n",
       "<tr style=\"background-color:#F4F4F4;\">\n",
       "<td/>\n",
       "<th title=\"Variable name\">\n",
       "Name\n",
       "</th>\n",
       "<th title=\"Value of parameter\">\n",
       "Value\n",
       "</th>\n",
       "<th title=\"Hesse error\">\n",
       "Hesse Error\n",
       "</th>\n",
       "<th title=\"Minos lower error\">\n",
       "Minos Error-\n",
       "</th>\n",
       "<th title=\"Minos upper error\">\n",
       "Minos Error+\n",
       "</th>\n",
       "<th title=\"Lower limit of the parameter\">\n",
       "Limit-\n",
       "</th>\n",
       "<th title=\"Upper limit of the parameter\">\n",
       "Limit+\n",
       "</th>\n",
       "<th title=\"Is the parameter fixed in the fit\">\n",
       "Fixed\n",
       "</th>\n",
       "</tr>\n",
       "<tr style=\"background-color:#FFFFFF;\">\n",
       "<td>\n",
       "0\n",
       "</td>\n",
       "<td>\n",
       "x0\n",
       "</td>\n",
       "<td>\n",
       "-0.802\n",
       "</td>\n",
       "<td>\n",
       " 0.004\n",
       "</td>\n",
       "<td>\n",
       "\n",
       "</td>\n",
       "<td>\n",
       "\n",
       "</td>\n",
       "<td>\n",
       "-1\n",
       "</td>\n",
       "<td>\n",
       "0\n",
       "</td>\n",
       "<td>\n",
       "\n",
       "</td>\n",
       "</tr>\n",
       "<tr style=\"background-color:#F4F4F4;\">\n",
       "<td>\n",
       "1\n",
       "</td>\n",
       "<td>\n",
       "x1\n",
       "</td>\n",
       "<td>\n",
       "0.127\n",
       "</td>\n",
       "<td>\n",
       "0.004\n",
       "</td>\n",
       "<td>\n",
       "\n",
       "</td>\n",
       "<td>\n",
       "\n",
       "</td>\n",
       "<td>\n",
       "-1\n",
       "</td>\n",
       "<td>\n",
       "1\n",
       "</td>\n",
       "<td>\n",
       "\n",
       "</td>\n",
       "</tr>\n",
       "<tr style=\"background-color:#FFFFFF;\">\n",
       "<td>\n",
       "2\n",
       "</td>\n",
       "<td>\n",
       "x2\n",
       "</td>\n",
       "<td>\n",
       "-0.099\n",
       "</td>\n",
       "<td>\n",
       " 0.008\n",
       "</td>\n",
       "<td>\n",
       "\n",
       "</td>\n",
       "<td>\n",
       "\n",
       "</td>\n",
       "<td>\n",
       "-1\n",
       "</td>\n",
       "<td>\n",
       "0\n",
       "</td>\n",
       "<td>\n",
       "\n",
       "</td>\n",
       "</tr>\n",
       "<tr style=\"background-color:#F4F4F4;\">\n",
       "<td>\n",
       "3\n",
       "</td>\n",
       "<td>\n",
       "x3\n",
       "</td>\n",
       "<td>\n",
       "-0.000E-2\n",
       "</td>\n",
       "<td>\n",
       " 0.388E-2\n",
       "</td>\n",
       "<td>\n",
       "\n",
       "</td>\n",
       "<td>\n",
       "\n",
       "</td>\n",
       "<td>\n",
       "-1\n",
       "</td>\n",
       "<td>\n",
       "0\n",
       "</td>\n",
       "<td>\n",
       "\n",
       "</td>\n",
       "</tr>\n",
       "<tr style=\"background-color:#FFFFFF;\">\n",
       "<td>\n",
       "4\n",
       "</td>\n",
       "<td>\n",
       "x4\n",
       "</td>\n",
       "<td>\n",
       "-0.911\n",
       "</td>\n",
       "<td>\n",
       " 0.012\n",
       "</td>\n",
       "<td>\n",
       "\n",
       "</td>\n",
       "<td>\n",
       "\n",
       "</td>\n",
       "<td>\n",
       "-1\n",
       "</td>\n",
       "<td>\n",
       "0\n",
       "</td>\n",
       "<td>\n",
       "\n",
       "</td>\n",
       "</tr>\n",
       "<tr style=\"background-color:#F4F4F4;\">\n",
       "<td>\n",
       "5\n",
       "</td>\n",
       "<td>\n",
       "x5\n",
       "</td>\n",
       "<td>\n",
       "1.962\n",
       "</td>\n",
       "<td>\n",
       "0.007\n",
       "</td>\n",
       "<td>\n",
       "\n",
       "</td>\n",
       "<td>\n",
       "\n",
       "</td>\n",
       "<td>\n",
       "1\n",
       "</td>\n",
       "<td>\n",
       "10\n",
       "</td>\n",
       "<td>\n",
       "\n",
       "</td>\n",
       "</tr>\n",
       "<tr style=\"background-color:#FFFFFF;\">\n",
       "<td>\n",
       "6\n",
       "</td>\n",
       "<td>\n",
       "x6\n",
       "</td>\n",
       "<td>\n",
       "1.000\n",
       "</td>\n",
       "<td>\n",
       "0.020\n",
       "</td>\n",
       "<td>\n",
       "\n",
       "</td>\n",
       "<td>\n",
       "\n",
       "</td>\n",
       "<td>\n",
       "0\n",
       "</td>\n",
       "<td>\n",
       "1\n",
       "</td>\n",
       "<td>\n",
       "\n",
       "</td>\n",
       "</tr>\n",
       "<tr style=\"background-color:#F4F4F4;\">\n",
       "<td>\n",
       "7\n",
       "</td>\n",
       "<td>\n",
       "x7\n",
       "</td>\n",
       "<td>\n",
       "0.424\n",
       "</td>\n",
       "<td>\n",
       "0.015\n",
       "</td>\n",
       "<td>\n",
       "\n",
       "</td>\n",
       "<td>\n",
       "\n",
       "</td>\n",
       "<td>\n",
       "0.05\n",
       "</td>\n",
       "<td>\n",
       "1\n",
       "</td>\n",
       "<td>\n",
       "\n",
       "</td>\n",
       "</tr>\n",
       "<tr style=\"background-color:#FFFFFF;\">\n",
       "<td>\n",
       "8\n",
       "</td>\n",
       "<td>\n",
       "x8\n",
       "</td>\n",
       "<td>\n",
       "0.38\n",
       "</td>\n",
       "<td>\n",
       "0.15\n",
       "</td>\n",
       "<td>\n",
       "\n",
       "</td>\n",
       "<td>\n",
       "\n",
       "</td>\n",
       "<td>\n",
       "-2\n",
       "</td>\n",
       "<td>\n",
       "2\n",
       "</td>\n",
       "<td>\n",
       "\n",
       "</td>\n",
       "</tr>\n",
       "<tr style=\"background-color:#F4F4F4;\">\n",
       "<td>\n",
       "9\n",
       "</td>\n",
       "<td>\n",
       "x9\n",
       "</td>\n",
       "<td>\n",
       "1.240\n",
       "</td>\n",
       "<td>\n",
       "0.012\n",
       "</td>\n",
       "<td>\n",
       "\n",
       "</td>\n",
       "<td>\n",
       "\n",
       "</td>\n",
       "<td>\n",
       "1\n",
       "</td>\n",
       "<td>\n",
       "10\n",
       "</td>\n",
       "<td>\n",
       "\n",
       "</td>\n",
       "</tr>\n",
       "<tr style=\"background-color:#FFFFFF;\">\n",
       "<td>\n",
       "10\n",
       "</td>\n",
       "<td>\n",
       "x10\n",
       "</td>\n",
       "<td>\n",
       "0.364\n",
       "</td>\n",
       "<td>\n",
       "0.023\n",
       "</td>\n",
       "<td>\n",
       "\n",
       "</td>\n",
       "<td>\n",
       "\n",
       "</td>\n",
       "<td>\n",
       "0.05\n",
       "</td>\n",
       "<td>\n",
       "1\n",
       "</td>\n",
       "<td>\n",
       "\n",
       "</td>\n",
       "</tr>\n",
       "<tr style=\"background-color:#F4F4F4;\">\n",
       "<td>\n",
       "11\n",
       "</td>\n",
       "<td>\n",
       "x11\n",
       "</td>\n",
       "<td>\n",
       "-0.15\n",
       "</td>\n",
       "<td>\n",
       " 0.21\n",
       "</td>\n",
       "<td>\n",
       "\n",
       "</td>\n",
       "<td>\n",
       "\n",
       "</td>\n",
       "<td>\n",
       "-2\n",
       "</td>\n",
       "<td>\n",
       "2\n",
       "</td>\n",
       "<td>\n",
       "\n",
       "</td>\n",
       "</tr>\n",
       "<tr style=\"background-color:#FFFFFF;\">\n",
       "<td>\n",
       "12\n",
       "</td>\n",
       "<td>\n",
       "x12\n",
       "</td>\n",
       "<td>\n",
       "2.914\n",
       "</td>\n",
       "<td>\n",
       "0.003\n",
       "</td>\n",
       "<td>\n",
       "\n",
       "</td>\n",
       "<td>\n",
       "\n",
       "</td>\n",
       "<td>\n",
       "1\n",
       "</td>\n",
       "<td>\n",
       "50\n",
       "</td>\n",
       "<td>\n",
       "\n",
       "</td>\n",
       "</tr>\n",
       "<tr style=\"background-color:#F4F4F4;\">\n",
       "<td>\n",
       "13\n",
       "</td>\n",
       "<td>\n",
       "x13\n",
       "</td>\n",
       "<td>\n",
       "0.455\n",
       "</td>\n",
       "<td>\n",
       "0.008\n",
       "</td>\n",
       "<td>\n",
       "\n",
       "</td>\n",
       "<td>\n",
       "\n",
       "</td>\n",
       "<td>\n",
       "0.05\n",
       "</td>\n",
       "<td>\n",
       "1\n",
       "</td>\n",
       "<td>\n",
       "\n",
       "</td>\n",
       "</tr>\n",
       "<tr style=\"background-color:#FFFFFF;\">\n",
       "<td>\n",
       "14\n",
       "</td>\n",
       "<td>\n",
       "x14\n",
       "</td>\n",
       "<td>\n",
       "-0.06\n",
       "</td>\n",
       "<td>\n",
       " 0.07\n",
       "</td>\n",
       "<td>\n",
       "\n",
       "</td>\n",
       "<td>\n",
       "\n",
       "</td>\n",
       "<td>\n",
       "-2\n",
       "</td>\n",
       "<td>\n",
       "2\n",
       "</td>\n",
       "<td>\n",
       "\n",
       "</td>\n",
       "</tr>\n",
       "<tr style=\"background-color:#F4F4F4;\">\n",
       "<td>\n",
       "15\n",
       "</td>\n",
       "<td>\n",
       "x15\n",
       "</td>\n",
       "<td>\n",
       "1.827\n",
       "</td>\n",
       "<td>\n",
       "0.028\n",
       "</td>\n",
       "<td>\n",
       "\n",
       "</td>\n",
       "<td>\n",
       "\n",
       "</td>\n",
       "<td>\n",
       "1\n",
       "</td>\n",
       "<td>\n",
       "5\n",
       "</td>\n",
       "<td>\n",
       "\n",
       "</td>\n",
       "</tr>\n",
       "<tr style=\"background-color:#FFFFFF;\">\n",
       "<td>\n",
       "16\n",
       "</td>\n",
       "<td>\n",
       "x16\n",
       "</td>\n",
       "<td>\n",
       "0.339\n",
       "</td>\n",
       "<td>\n",
       "0.029\n",
       "</td>\n",
       "<td>\n",
       "\n",
       "</td>\n",
       "<td>\n",
       "\n",
       "</td>\n",
       "<td>\n",
       "-2\n",
       "</td>\n",
       "<td>\n",
       "2\n",
       "</td>\n",
       "<td>\n",
       "\n",
       "</td>\n",
       "</tr>\n",
       "<tr style=\"background-color:#F4F4F4;\">\n",
       "<td>\n",
       "17\n",
       "</td>\n",
       "<td>\n",
       "x17\n",
       "</td>\n",
       "<td>\n",
       "-0.67\n",
       "</td>\n",
       "<td>\n",
       " 0.21\n",
       "</td>\n",
       "<td>\n",
       "\n",
       "</td>\n",
       "<td>\n",
       "\n",
       "</td>\n",
       "<td>\n",
       "-2\n",
       "</td>\n",
       "<td>\n",
       "2\n",
       "</td>\n",
       "<td>\n",
       "\n",
       "</td>\n",
       "</tr>\n",
       "</table>\n"
      ],
      "text/plain": [
       "------------------------------------------------------------------\n",
       "| FCN = 3.448E+05               |     Ncalls=450 (461 total)     |\n",
       "| EDM = 0.000692 (Goal: 0.0001) |            up = 0.5            |\n",
       "------------------------------------------------------------------\n",
       "|  Valid Min.   | Valid Param.  | Above EDM | Reached call limit |\n",
       "------------------------------------------------------------------\n",
       "|     True      |     True      |   False   |       False        |\n",
       "------------------------------------------------------------------\n",
       "| Hesse failed  |   Has cov.    | Accurate  | Pos. def. | Forced |\n",
       "------------------------------------------------------------------\n",
       "|     False     |     True      |   True    |   True    | False  |\n",
       "------------------------------------------------------------------\n",
       "------------------------------------------------------------------------------------------\n",
       "|   | Name |   Value   | Hesse Err | Minos Err- | Minos Err+ | Limit-  | Limit+  | Fixed |\n",
       "------------------------------------------------------------------------------------------\n",
       "| 0 | x0   |  -0.802   |   0.004   |            |            |   -1    |    0    |       |\n",
       "| 1 | x1   |   0.127   |   0.004   |            |            |   -1    |    1    |       |\n",
       "| 2 | x2   |  -0.099   |   0.008   |            |            |   -1    |    0    |       |\n",
       "| 3 | x3   | -0.000E-2 |  0.388E-2 |            |            |   -1    |    0    |       |\n",
       "| 4 | x4   |  -0.911   |   0.012   |            |            |   -1    |    0    |       |\n",
       "| 5 | x5   |   1.962   |   0.007   |            |            |    1    |   10    |       |\n",
       "| 6 | x6   |   1.000   |   0.020   |            |            |    0    |    1    |       |\n",
       "| 7 | x7   |   0.424   |   0.015   |            |            |  0.05   |    1    |       |\n",
       "| 8 | x8   |   0.38    |   0.15    |            |            |   -2    |    2    |       |\n",
       "| 9 | x9   |   1.240   |   0.012   |            |            |    1    |   10    |       |\n",
       "| 10| x10  |   0.364   |   0.023   |            |            |  0.05   |    1    |       |\n",
       "| 11| x11  |   -0.15   |    0.21   |            |            |   -2    |    2    |       |\n",
       "| 12| x12  |   2.914   |   0.003   |            |            |    1    |   50    |       |\n",
       "| 13| x13  |   0.455   |   0.008   |            |            |  0.05   |    1    |       |\n",
       "| 14| x14  |   -0.06   |    0.07   |            |            |   -2    |    2    |       |\n",
       "| 15| x15  |   1.827   |   0.028   |            |            |    1    |    5    |       |\n",
       "| 16| x16  |   0.339   |   0.029   |            |            |   -2    |    2    |       |\n",
       "| 17| x17  |   -0.67   |    0.21   |            |            |   -2    |    2    |       |\n",
       "------------------------------------------------------------------------------------------"
      ]
     },
     "execution_count": 267,
     "metadata": {},
     "output_type": "execute_result"
    }
   ],
   "source": [
    "m.migrad()"
   ]
  },
  {
   "cell_type": "code",
   "execution_count": 323,
   "metadata": {},
   "outputs": [],
   "source": [
    "a1, a2, b1, c1, c2, lnsp_orb, k, alpha_orb, beta_orb, lnsp_inf, alpha_inf, beta_inf, lnsp_los, alpha_los, beta_los, r_p, alpha_r, beta_r=origin"
   ]
  },
  {
   "cell_type": "code",
   "execution_count": 324,
   "metadata": {},
   "outputs": [],
   "source": [
    "da1, da2, db1, dc1, dc2, dlnsp_orb, dk, dalpha_orb, dbeta_orb, dlnsp_inf, dalpha_inf, dbeta_inf, dlnsp_los, dalpha_los, dbeta_los, dr_p, dalpha_r, dbeta_r=delta"
   ]
  },
  {
   "cell_type": "code",
   "execution_count": null,
   "metadata": {},
   "outputs": [],
   "source": [
    "print(\"Paper model parameters\")\n",
    "print(\"a1 = %.3f\" % a1,u\"\\u00B1\", \"%.3f\" % da1)\n",
    "print(\"a2 = %.3f\" % a2,u\"\\u00B1\", \"%.3f\" % da2)\n",
    "print(\"b1 = %.3f\" % b1,u\"\\u00B1\", \"%.3f\" % db1)\n",
    "print(\"c1 = %.3f\" % c1,u\"\\u00B1\", \"%.3f\" % dc1)\n",
    "print(\"c2 = %.3f\" % c2,u\"\\u00B1\", \"%.3f\" % dc2)\n",
    "print(\"sp_orb = %.3f\" % np.exp(lnsp_orb),u\"\\u00B1\", \"%.3f\" % dlnsp_orb)\n",
    "print(\"sp_inf = %.3f\" % np.exp(lnsp_inf),u\"\\u00B1\", \"%.3f\" % dlnsp_inf,)\n",
    "print(\"sp_los = %.3f\" % np.exp(lnsp_los),u\"\\u00B1\", \"%.3f\" % dlnsp_los)\n",
    "print(\"alpha_orb = %.3f\" % alpha_orb,u\"\\u00B1\", \"%.3f\" % dalpha_orb)\n",
    "print(\"alpha_inf = %.3f\" % alpha_inf,u\"\\u00B1\", \"%.3f\" % dalpha_inf)\n",
    "print(\"alpha_los = %.3f\" % alpha_los,u\"\\u00B1\", \"%.3f\" % dalpha_los)\n",
    "print(\"beta_orb = %.3f\" % beta_orb,u\"\\u00B1\", \"%.3f\" % dbeta_orb)\n",
    "print(\"beta_inf = %.3f\" % beta_inf,u\"\\u00B1\", \"%.3f\" % dbeta_orb)\n",
    "print(\"beta_los = %.3f\" % beta_los,u\"\\u00B1\", \"%.3f\" % dbeta_los)\n",
    "print(\"alpha_r = %.3f\" % alpha_r,u\"\\u00B1\", \"%.3f\" % dalpha_r)\n",
    "print(\"beta_r = %.3f\" % beta_r,u\"\\u00B1\", \"%.3f\" % dbeta_r)\n",
    "print(\"r_p = %.3f\" % r_p,u\"\\u00B1\", \"%.3f\" % dr_p)"
   ]
  },
  {
   "cell_type": "code",
   "execution_count": 276,
   "metadata": {},
   "outputs": [],
   "source": [
    "da1, da2, db1, dc1, dc2, dlnsp_orb, dk, dalpha_orb, dbeta_orb, dlnsp_inf, dalpha_inf, dbeta_inf, dlnsp_los, dalpha_los, dbeta_los, dr_p, dalpha_r, dbeta_r=m.errors[0],m.errors[1],m.errors[2],m.errors[3],m.errors[4],m.errors[5],m.errors[6],m.errors[7],m.errors[8],m.errors[9],m.errors[10],m.errors[11],m.errors[12],m.errors[13],m.errors[14],m.errors[15],m.errors[16],m.errors[17]"
   ]
  },
  {
   "cell_type": "code",
   "execution_count": 308,
   "metadata": {},
   "outputs": [
    {
     "name": "stdout",
     "output_type": "stream",
     "text": [
      "Minuit model parameters\n",
      "a1 = -0.802 ± 0.004\n",
      "a2 = 0.127 ± 0.004\n",
      "b1 = -0.099 ± 0.008\n",
      "c1 = -0.000 ± 0.004\n",
      "c2 = -0.911 ± 0.012\n",
      "sp_orb = 7.115 ± 0.053\n",
      "sp_inf = 3.457 ± 0.041\n",
      "sp_los = 18.424 ± 0.063\n",
      "alpha_orb = 0.424 ± 0.015\n",
      "alpha_inf = 0.364 ± 0.023\n",
      "alpha_los = 0.455 ± 0.008\n",
      "beta_orb = 0.379 ± 0.154\n",
      "beta_inf = -0.150 ± 0.154\n",
      "beta_los = -0.064 ± 0.066\n",
      "alpha_r = 0.339 ± 0.029\n",
      "beta_r = -0.669 ± 0.207\n",
      "r_p = 1.827 ± 0.028\n"
     ]
    }
   ],
   "source": [
    "print(\"Minuit model parameters\")\n",
    "print(\"a1 = %.3f\" % a1,u\"\\u00B1\", \"%.3f\" % da1)\n",
    "print(\"a2 = %.3f\" % a2,u\"\\u00B1\", \"%.3f\" % da2)\n",
    "print(\"b1 = %.3f\" % b1,u\"\\u00B1\", \"%.3f\" % db1)\n",
    "print(\"c1 = %.3f\" % c1,u\"\\u00B1\", \"%.3f\" % dc1)\n",
    "print(\"c2 = %.3f\" % c2,u\"\\u00B1\", \"%.3f\" % dc2)\n",
    "print(\"sp_orb = %.3f\" % np.exp(lnsp_orb),u\"\\u00B1\", \"%.3f\" % np.multiply(dlnsp_orb,np.exp(lnsp_orb)))\n",
    "print(\"sp_inf = %.3f\" % np.exp(lnsp_inf),u\"\\u00B1\", \"%.3f\" % np.multiply(dlnsp_inf,np.exp(lnsp_inf)))\n",
    "print(\"sp_los = %.3f\" % np.exp(lnsp_los),u\"\\u00B1\", \"%.3f\" % np.multiply(dlnsp_los,np.exp(lnsp_los)))\n",
    "print(\"alpha_orb = %.3f\" % alpha_orb,u\"\\u00B1\", \"%.3f\" % dalpha_orb)\n",
    "print(\"alpha_inf = %.3f\" % alpha_inf,u\"\\u00B1\", \"%.3f\" % dalpha_inf)\n",
    "print(\"alpha_los = %.3f\" % alpha_los,u\"\\u00B1\", \"%.3f\" % dalpha_los)\n",
    "print(\"beta_orb = %.3f\" % beta_orb,u\"\\u00B1\", \"%.3f\" % dbeta_orb)\n",
    "print(\"beta_inf = %.3f\" % beta_inf,u\"\\u00B1\", \"%.3f\" % dbeta_orb)\n",
    "print(\"beta_los = %.3f\" % beta_los,u\"\\u00B1\", \"%.3f\" % dbeta_los)\n",
    "print(\"alpha_r = %.3f\" % alpha_r,u\"\\u00B1\", \"%.3f\" % dalpha_r)\n",
    "print(\"beta_r = %.3f\" % beta_r,u\"\\u00B1\", \"%.3f\" % dbeta_r)\n",
    "print(\"r_p = %.3f\" % r_p,u\"\\u00B1\", \"%.3f\" % dr_p)"
   ]
  }
 ],
 "metadata": {
  "kernelspec": {
   "display_name": "Python 3",
   "language": "python",
   "name": "python3"
  },
  "language_info": {
   "codemirror_mode": {
    "name": "ipython",
    "version": 3
   },
   "file_extension": ".py",
   "mimetype": "text/x-python",
   "name": "python",
   "nbconvert_exporter": "python",
   "pygments_lexer": "ipython3",
   "version": "3.7.6"
  }
 },
 "nbformat": 4,
 "nbformat_minor": 4
}
