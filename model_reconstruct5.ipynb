{
 "cells": [
  {
   "cell_type": "code",
   "execution_count": 21,
   "metadata": {},
   "outputs": [],
   "source": [
    "from scipy.constants import c\n",
    "from scipy.special import erf\n",
    "import numpy as np\n",
    "from numpy.lib import recfunctions as rec\n",
    "from astropy.io          import fits\n",
    "from astropy.coordinates import SkyCoord, Angle, search_around_sky\n",
    "from astropy             import units as u\n",
    "from astropy import cosmology\n",
    "from astropy.cosmology import FlatLambdaCDM\n",
    "from matplotlib import pyplot as plt\n",
    "import pandas as pd\n",
    "import math\n",
    "from tqdm.notebook import tqdm\n",
    "from scipy.optimize import minimize\n",
    "import emcee\n",
    "import iminuit\n",
    "from iminuit import Minuit"
   ]
  },
  {
   "cell_type": "code",
   "execution_count": 11,
   "metadata": {},
   "outputs": [],
   "source": [
    "def calc_sigma_v(theta, zcen, richness):\n",
    "    \"\"\"\n",
    "    Calculate sigma_v (the width of the gaussian in our model)\n",
    "    according to our model. Dependent on all parameters, as\n",
    "    well as central galaxy info.\"\"\"\n",
    "    lnsigma_p, alpha, beta, z_p, lambda_p = theta\n",
    "    return np.exp(lnsigma_p)*((1+zcen)/(1+z_p))**beta*(richness/lambda_p)**alpha"
   ]
  },
  {
   "cell_type": "code",
   "execution_count": 12,
   "metadata": {},
   "outputs": [],
   "source": [
    "def calculate_vmax(richness):\n",
    "    \"\"\"Calculate the absolute velocity cutoff for interlopers in m/s.\n",
    "    Follows equation (7) in redMaPPer IV.\n",
    "    Parameters\n",
    "    ----------\n",
    "    richness : float\n",
    "        Cluster richness, i.e. estimated number of galaxies belonging\n",
    "        to the cluster.\n",
    "    Returns\n",
    "    -------\n",
    "    vmax : float\n",
    "        Maximum velocity value as set forth in equation (7) of redMaPPer IV.\n",
    "        Units: m/s\n",
    "    \"\"\"\n",
    "    vmax = 3e6 * (richness / 20.0) ** 0.45 /1000000 # 100km/s\n",
    "    return vmax  # m/s"
   ]
  },
  {
   "cell_type": "code",
   "execution_count": 13,
   "metadata": {},
   "outputs": [],
   "source": [
    "def background_gaussian(velocity, richness, total_sigma):\n",
    "    \"\"\"\n",
    "    This function is used for evaluation of the line of sight\n",
    "    gaussian. Sure, all Gaussians will have some fraction\n",
    "    outside the vmax cut we made, and we'd have to normalize\n",
    "    for that effect, but that amount is negligible for the\n",
    "    orbiting and infalling Gaussians. But for the background\n",
    "    Gaussian, a significant amount is cut off by the vmax cut,\n",
    "    so I use an erf to scale and account for that.\"\"\"\n",
    "    vmax = 3e6 * (richness / 20.0) ** 0.45\n",
    "    outside_cut = np.where(velocity > vmax)[0]\n",
    "    assert len(outside_cut) == 0, \"UH OH: VELOCITY DATA FED INTO MCMC IS OUTSIDE CUT\"\n",
    "\n",
    "    z = vmax*(0.5**0.5)/total_sigma\n",
    "    area_inside = erf(z)\n",
    "    #assert (area_inside != 0).all(), \"Problem with vmax/sigma: \" + str(vmax[np.where(z==0)]) + str(total_sigma[np.where(z==0)])\n",
    "    normalization = 1/area_inside\n",
    "    gaussian = np.exp(-0.5*((velocity/total_sigma)**2))/(np.sqrt(2*np.pi)*total_sigma)\n",
    "    return_arr = normalization * gaussian\n",
    "\n",
    "    if len(outside_cut) > 0:\n",
    "        print(\"UH OH: VELOCITY DATA FED INTO MCMC IS OUTSIDE CUT\")\n",
    "        return_arr[outside_cut] = 0\n",
    "\n",
    "    return return_arr"
   ]
  },
  {
   "cell_type": "code",
   "execution_count": 390,
   "metadata": {},
   "outputs": [],
   "source": [
    "def lnlike2(parameters,v,r,rich,zcen,sigma_obs):\n",
    "    a1, a2, b1, c1, c2, lnsp_orb, k, alpha_orb, beta_orb, lnsp_inf, alpha_inf, beta_inf, lnsp_los, alpha_los, beta_los, r_p, alpha_r, beta_r=parameters\n",
    "\n",
    "    b0 = 1 + a1 + a2 #calculated from constraint equations\n",
    "    c0 = -(c1 + c2) #calculated from constraint equations\n",
    "\n",
    "    z_p = np.median(zcen)\n",
    "    lambda_p = np.median(rich)\n",
    "\n",
    "    r_edge = r_p*((1+zcen)/(1+z_p))**beta_r*(rich/lambda_p)**alpha_r\n",
    "\n",
    "    f_good = b0 + b1*(r/r_edge-1)\n",
    "    f_orb = np.zeros_like(r)\n",
    "\n",
    "    lt_xt = np.where(r < r_edge)[0]\n",
    "    f_good[lt_xt] = 1 + a1*r[lt_xt]/r_edge[lt_xt] + a2*((r[lt_xt]/r_edge[lt_xt])**2)\n",
    "    f_orb[lt_xt] = c0 + c1*r[lt_xt]/r_edge[lt_xt] + c2*((r[lt_xt]/r_edge[lt_xt])**2)\n",
    "\n",
    "    if 0.05 < alpha_orb < 1 and 0.05 < alpha_inf < 1 and 0.05 < alpha_los < 1 and -2 < alpha_r < 2 and -2 < beta_orb < 2 and -2 < beta_inf < 2 and -2 < beta_los < 2 and -2 < beta_r < 2 and 1 < lnsp_orb < 10 and 1 < lnsp_inf < 10 and lnsp_los < 50 and a1 < 0 and 0.2 < b0 < 1 and b1 < 0 and 0 < c0 <= 1 and c1 < 0 and (f_good > 0).all() and (f_orb >= 0).all() and 1 < r_p < 5 and k > 0:\n",
    "        orb_sigmav = calc_sigma_v([lnsp_orb, alpha_orb, beta_orb, z_p, lambda_p], zcen, rich)/(1+k*r/r_edge)**0.5\n",
    "        orb_sigmat = (orb_sigmav**2 + sigma_obs**2)**0.5\n",
    "        orb_gaussian = np.exp(-0.5*((v/orb_sigmat)**2))/(np.sqrt(2*np.pi)*orb_sigmat)\n",
    "\n",
    "        inf_sigmav = calc_sigma_v([lnsp_inf, alpha_inf, beta_inf, z_p, lambda_p], zcen, rich)\n",
    "        inf_sigmat = (inf_sigmav**2 + sigma_obs**2)**0.5\n",
    "        inf_gaussian = np.exp(-0.5*((v/inf_sigmat)**2))/(np.sqrt(2*np.pi)*inf_sigmat)\n",
    "\n",
    "        los_sigmav = calc_sigma_v([lnsp_los, alpha_los, beta_los, z_p, lambda_p], zcen, rich)\n",
    "        los_sigmat = (los_sigmav**2 + sigma_obs**2)**0.5\n",
    "        los_gaussian = background_gaussian(v, rich, los_sigmat)\n",
    "        \n",
    "        return np.sum(np.log(f_good*(f_orb*orb_gaussian+(1-f_orb)*inf_gaussian)+(1-f_good)*los_gaussian))\n",
    "    else:\n",
    "        return np.inf"
   ]
  },
  {
   "cell_type": "code",
   "execution_count": 403,
   "metadata": {},
   "outputs": [],
   "source": [
    "def nlnlike2(parameters,v,r,rich,zcen,sigma_obs):\n",
    "    a1, a2, b1, c1, c2, lnsp_orb, k, alpha_orb, beta_orb, lnsp_inf, alpha_inf, beta_inf, lnsp_los, alpha_los, beta_los, r_p, alpha_r, beta_r=parameters\n",
    "\n",
    "    b0 = 1 + a1 + a2 #calculated from constraint equations\n",
    "    c0 = -(c1 + c2) #calculated from constraint equations\n",
    "\n",
    "    z_p = np.median(zcen)\n",
    "    lambda_p = np.median(rich)\n",
    "\n",
    "    r_edge = r_p*((1+zcen)/(1+z_p))**beta_r*(rich/lambda_p)**alpha_r\n",
    "\n",
    "    f_good = b0 + b1*(r/r_edge-1)\n",
    "    f_orb = np.zeros_like(r)\n",
    "\n",
    "    lt_xt = np.where(r < r_edge)[0]\n",
    "    f_good[lt_xt] = 1 + a1*r[lt_xt]/r_edge[lt_xt] + a2*((r[lt_xt]/r_edge[lt_xt])**2)\n",
    "    f_orb[lt_xt] = c0 + c1*r[lt_xt]/r_edge[lt_xt] + c2*((r[lt_xt]/r_edge[lt_xt])**2)\n",
    "\n",
    "    if 0.05 < alpha_orb < 1 and 0.05 < alpha_inf < 1 and 0.05 < alpha_los < 1 and -2 < alpha_r < 2 and -2 < beta_orb < 2 and -2 < beta_inf < 2 and -2 < beta_los < 2 and -2 < beta_r < 2 and 1 < lnsp_orb < 10 and 1 < lnsp_inf < 10 and lnsp_los < 50 and a1 < 0 and 0.2 < b0 < 1 and b1 < 0 and 0 < c0 <= 1 and c1 < 0 and (f_good > 0).all() and (f_orb >= 0).all() and 1 < r_p < 5 and k > 0:\n",
    "        orb_sigmav = calc_sigma_v([lnsp_orb, alpha_orb, beta_orb, z_p, lambda_p], zcen, rich)/(1+k*r/r_edge)**0.5\n",
    "        orb_sigmat = (orb_sigmav**2 + sigma_obs**2)**0.5\n",
    "        orb_gaussian = np.exp(-0.5*((v/orb_sigmat)**2))/(np.sqrt(2*np.pi)*orb_sigmat)\n",
    "\n",
    "        inf_sigmav = calc_sigma_v([lnsp_inf, alpha_inf, beta_inf, z_p, lambda_p], zcen, rich)\n",
    "        inf_sigmat = (inf_sigmav**2 + sigma_obs**2)**0.5\n",
    "        inf_gaussian = np.exp(-0.5*((v/inf_sigmat)**2))/(np.sqrt(2*np.pi)*inf_sigmat)\n",
    "\n",
    "        los_sigmav = calc_sigma_v([lnsp_los, alpha_los, beta_los, z_p, lambda_p], zcen, rich)\n",
    "        los_sigmat = (los_sigmav**2 + sigma_obs**2)**0.5\n",
    "        los_gaussian = background_gaussian(v, rich, los_sigmat)\n",
    "        \n",
    "        return -np.sum(np.log(f_good*(f_orb*orb_gaussian+(1-f_orb)*inf_gaussian)+(1-f_good)*los_gaussian))\n",
    "    else:\n",
    "        return -np.inf"
   ]
  },
  {
   "cell_type": "code",
   "execution_count": 248,
   "metadata": {},
   "outputs": [],
   "source": [
    "def plot_fit(df,params,minr,maxr,num_resample,vfactor):\n",
    "    z_p = np.median(df.zcen)\n",
    "    lambda_p = np.median(df.rich)\n",
    "\n",
    "    r_edge = r_p*((1+df.zcen)/(1+z_p))**beta_r*(df.rich/lambda_p)**alpha_r\n",
    "    print(\"The mean value of R_edge is %.2f. (Should be roughly 1.8)\" % np.mean(r_edge))\n",
    "    print(\"The pivot richness is %.2f. (Should be roughly 32)\" % lambda_p)\n",
    "    print(\"The pivot redshift is %.2f. (Should be roughly 0.17)\" % z_p)\n",
    "\n",
    "    min_x = -6\n",
    "    max_x = 6\n",
    "    num_data_bin_edges = 30\n",
    "    num_sim_bin_edges = 251\n",
    "\n",
    "    a1, a2, b1, c1, c2, lnsp_orb, k, alpha_orb, beta_orb, lnsp_inf, alpha_inf, beta_inf, lnsp_los, alpha_los, beta_los, x_p, alpha_x, beta_x = params #unpacking parameters\n",
    "\n",
    "    b0 = 1 + a1 + a2 #calculated from constraint equations\n",
    "    c0 = -(c1 + c2) #calculated from constraint equations\n",
    "\n",
    "    x_t = x_p*((1+df.zcen)/(1+z_p))**beta_x*(df.rich/lambda_p)**alpha_x\n",
    "\n",
    "    #df2=df.loc[ (df.r/x_t>1.0) & (df.r/x_t <=1.5) ].copy()\n",
    "    #df2=df2.reset_index()\n",
    "\n",
    "    df2=df[ (df.r/x_t>minr) & (df.r/x_t <=maxr) ].copy()\n",
    "    df2=df2.reset_index()\n",
    "\n",
    "    rich=df2.rich\n",
    "    zcen=df2.zcen\n",
    "    x=df2.r\n",
    "    v=df2.v\n",
    "    sigma_obs = df2.sigma_obs\n",
    "    x_t = x_p*((1+zcen)/(1+z_p))**beta_x*(rich/lambda_p)**alpha_x\n",
    "\n",
    "    #assuming all are outside x_t\n",
    "    f_good = b0 + b1*(x/x_t-1)\n",
    "    f_orb = np.zeros_like(x)\n",
    "    #find those where x is less than x_t\n",
    "    lt_xt = np.where(x/x_t < 1)[0]\n",
    "\n",
    "    #properly reassign those that are actually inside\n",
    "    f_good[lt_xt] = 1 + a1*x[lt_xt]/x_t[lt_xt] + a2*((x[lt_xt]/x_t[lt_xt])**2)\n",
    "    f_orb[lt_xt] = c0 + c1*x[lt_xt]/x_t[lt_xt] + c2*((x[lt_xt]/x_t[lt_xt])**2)\n",
    "\n",
    "    #This sigma_v is just used to scale the plot, so I use orbiting to ensure that nothing is outside edges\n",
    "    sigma_v = calc_sigma_v([lnsp_orb, alpha_orb, beta_orb, z_p, lambda_p], zcen, rich)/((1+k*x/x_t)**0.5)\n",
    "    normalized_v = v/sigma_v\n",
    "\n",
    "    data_x_vals = np.linspace(min_x, max_x, num_data_bin_edges)\n",
    "    data_bin_centers = (data_x_vals[:-1] + data_x_vals[1:])/2.\n",
    "    #err_bars, data_bin_centers = get_err(data, z_p, lambda_p, params, data_x_vals)\n",
    "    sim_x_vals = np.linspace(min_x, max_x, num_sim_bin_edges)\n",
    "\n",
    "    all_orb = np.ones([num_resample, num_sim_bin_edges-1])\n",
    "    all_inf = np.ones([num_resample, num_sim_bin_edges-1])\n",
    "    all_los = np.ones([num_resample, num_sim_bin_edges-1])\n",
    "\n",
    "    data_x_vals = np.linspace(min_x, max_x, num_data_bin_edges)\n",
    "    data_bin_centers = (data_x_vals[:-1] + data_x_vals[1:])/2.\n",
    "    data_bin_width = data_bin_centers[1] - data_bin_centers[0]\n",
    "\n",
    "    print(\"Maximum normalized velocity %.2f. (Should be roughly 8)\" % np.max(vfactor*normalized_v))\n",
    "    counts, bin_edges = np.histogram(vfactor*normalized_v, data_x_vals)\n",
    "    normalized_counts = counts / float(len(v)) / data_bin_width\n",
    "\n",
    "    for i in tqdm(range(num_resample)):\n",
    "        fraction = np.random.rand(len(x))\n",
    "        orb = np.where(fraction < f_good * f_orb)[0]\n",
    "        inf = np.where((f_good * f_orb <= fraction) & (fraction < f_good))[0]\n",
    "        los = np.where(fraction >= f_good)[0]\n",
    "\n",
    "        assert len(los) + len(orb) + len(inf) == len(x), \"Uh-oh: check np.where assignment at beginning of sample\"\n",
    "        orb_sigmav = calc_sigma_v([lnsp_orb, alpha_orb, beta_orb, z_p, lambda_p], zcen[orb], rich[orb])/((1+k*x[orb]/x_t[orb])**0.5)\n",
    "        orb_sigmat = (orb_sigmav**2 + sigma_obs[orb]**2)**0.5\n",
    "        orb_v = np.random.normal(0, orb_sigmat)\n",
    "        inf_sigmav = calc_sigma_v([lnsp_inf, alpha_inf, beta_inf, z_p, lambda_p], zcen[inf], rich[inf])\n",
    "        inf_sigmat = (inf_sigmav**2 + sigma_obs[inf]**2)**0.5\n",
    "        inf_v = np.random.normal(0, inf_sigmat)\n",
    "        los_sigmav = calc_sigma_v([lnsp_los, alpha_los, beta_los, z_p, lambda_p], zcen[los], rich[los])\n",
    "        los_sigmat = (los_sigmav**2 + sigma_obs[los]**2)**0.5\n",
    "        los_v = np.random.normal(0, los_sigmat)\n",
    "\n",
    "        orb_v_by_sig_v = orb_v / sigma_v[orb]\n",
    "        inf_v_by_sig_v = inf_v / sigma_v[inf]\n",
    "        los_v_by_sig_v = los_v / sigma_v[los]\n",
    "\n",
    "        all_orb[i], bin_edges = np.histogram(orb_v_by_sig_v, sim_x_vals)\n",
    "        all_inf[i], bin_edges = np.histogram(inf_v_by_sig_v, sim_x_vals)\n",
    "        all_los[i], bin_edges = np.histogram(los_v_by_sig_v, sim_x_vals)\n",
    "\n",
    "    sim_bin_centers = (sim_x_vals[:-1] + sim_x_vals[1:])/2.\n",
    "    sim_bin_width = sim_bin_centers[1] - sim_bin_centers[0]\n",
    "\n",
    "    orb_averaged = np.mean(all_orb, axis=0)\n",
    "    orb_normalized = orb_averaged / float(len(x)) / sim_bin_width\n",
    "\n",
    "    inf_averaged = np.mean(all_inf, axis=0)\n",
    "    inf_normalized = inf_averaged / float(len(x)) / sim_bin_width\n",
    "\n",
    "    los_averaged = np.mean(all_los, axis=0)\n",
    "    los_normalized = los_averaged / float(len(x)) / sim_bin_width\n",
    "\n",
    "    fig, axes = plt.subplots(figsize=(10,7))\n",
    "    orb_lines = axes.plot(sim_bin_centers, orb_normalized, linewidth=1, ls=\"dashdot\")\n",
    "    inf_lines = axes.plot(sim_bin_centers, inf_normalized, linewidth=1, ls=\"dotted\")\n",
    "    los_lines = axes.plot(sim_bin_centers, los_normalized, linewidth=1, ls=\"dashed\")\n",
    "    sum_lines = axes.plot(sim_bin_centers, orb_normalized + inf_normalized + los_normalized, linewidth=1)\n",
    "    axes.errorbar(data_bin_centers,normalized_counts,yerr=np.sqrt(counts)/float(len(v)) / data_bin_width,fmt=\"ko\",markersize=1.5,elinewidth=0.8,capsize=1.8)\n",
    "    axes.set_ylim(0,0.5)\n",
    "    axes.set_xlabel('$v$ / $\\sigma_{v,orb}$')\n",
    "    axes.set_ylabel('P($v$ / $\\sigma_{v,orb})$')"
   ]
  },
  {
   "cell_type": "code",
   "execution_count": 16,
   "metadata": {},
   "outputs": [],
   "source": [
    "#Parameters from 'Clusters have Edges'\n",
    "a1=-0.512\n",
    "a2=-0.032\n",
    "b1=-0.010\n",
    "c1=-0.061\n",
    "c2=-0.693\n",
    "\n",
    "sp_orb=7.77\n",
    "lnsp_orb=np.log(sp_orb)\n",
    "alpha_orb=0.43\n",
    "beta_orb=0.353\n",
    "\n",
    "sp_inf=4.48\n",
    "lnsp_inf=np.log(sp_inf)\n",
    "alpha_inf=0.363\n",
    "beta_inf=0.113\n",
    "\n",
    "sp_los=38.73\n",
    "lnsp_los=np.log(sp_los)\n",
    "alpha_los=0.503\n",
    "beta_los=-0.328\n",
    "\n",
    "alpha_r=0.305\n",
    "beta_r=-0.385\n",
    "r_p=1.79\n",
    "k=0.883\n",
    "\n",
    "origin=[a1, a2, b1, c1, c2, lnsp_orb, k, alpha_orb, beta_orb, lnsp_inf, alpha_inf, beta_inf, lnsp_los, alpha_los, beta_los, r_p, alpha_r, beta_r]\n",
    "origin=np.array(origin)"
   ]
  },
  {
   "cell_type": "code",
   "execution_count": 26,
   "metadata": {},
   "outputs": [],
   "source": [
    "#Parameters that Paxton's mcmc is initialized with\n",
    "origin2 = [-0.45, -0.08, -0.1, -0.5, -0.2, 8.65, 0.9, 0.5, -0.25, 8.1, 0.38, -0.7, 10.3, 0.5, -0.4, 2, 0, -0.5]\n"
   ]
  },
  {
   "cell_type": "code",
   "execution_count": 17,
   "metadata": {},
   "outputs": [],
   "source": [
    "#Parameters from 'Clusters have Edges'\n",
    "da1=0.3\n",
    "da2=0.053\n",
    "db1=0.1\n",
    "dc1=0.180\n",
    "dc2=0.4\n",
    "\n",
    "dsp_orb=0.21\n",
    "dlnsp_orb=-np.log(dsp_orb)\n",
    "dalpha_orb=0.019\n",
    "dbeta_orb=0.195\n",
    "\n",
    "dsp_inf=0.06\n",
    "dlnsp_inf=-np.log(dsp_inf)\n",
    "dalpha_inf=0.363\n",
    "dbeta_inf=0.180\n",
    "\n",
    "dsp_los=1.16\n",
    "dlnsp_los=np.log(dsp_los)\n",
    "dalpha_los=0.066\n",
    "dbeta_los=0.48\n",
    "\n",
    "dalpha_r=0.034\n",
    "dbeta_r=0.289\n",
    "dr_p=0.12\n",
    "dk=0.238\n",
    "\n",
    "delta=[da1, da2, db1, dc1, dc2, dlnsp_orb, -dk, dalpha_orb, dbeta_orb, dlnsp_inf, dalpha_inf, dbeta_inf, dlnsp_los, dalpha_los, dbeta_los, dr_p, dalpha_r, dbeta_r]\n",
    "delta=np.array(delta)"
   ]
  },
  {
   "cell_type": "code",
   "execution_count": 202,
   "metadata": {},
   "outputs": [],
   "source": [
    "fname = \"last_catalog.npy\"\n",
    "dt = np.load(fname)\n",
    "pax=pd.DataFrame.from_records(dt.tolist(), columns=dt.dtype.names)\n",
    "rich=pax.LAMBDA_CHISQ\n",
    "zcen=pax.BCG_SPEC_Z\n",
    "r=pax.R\n",
    "x=pax.R/pax.R_LAMBDA\n",
    "v=pax.Velocity / 100000\n",
    "ra=pax.MEM_RA\n",
    "dec=pax.MEM_DEC\n",
    "sigma_obs = c*((pax.ZMEM_ERR**2 + pax.ZCEN_ERR**2)**(0.5)) / 100000\n",
    "pax=pd.DataFrame({'rich':rich,'zcen':zcen,'x':x,'r':r,'v':v,'ra':ra,'dec':dec,'sigma_obs':sigma_obs});\n",
    "df=pax"
   ]
  },
  {
   "cell_type": "code",
   "execution_count": 227,
   "metadata": {},
   "outputs": [],
   "source": [
    "lik_model = minimize(nlnlike2, origin, args=(v,r,rich,zcen,sigma_obs), method='Nelder-Mead',options={'maxiter': 1e4})"
   ]
  },
  {
   "cell_type": "code",
   "execution_count": 108,
   "metadata": {},
   "outputs": [],
   "source": [
    "min=np.array([-1,-1,-1,-1,-1,1,0,0.05,-2,1,0.05,-2,1,0.05,-2,1,-2,-2])\n",
    "max=np.array([0,1,0,0,0,10,1,1,2,10,1,2,50,1,2,5,2,2])\n",
    "\n",
    "bnds=[(x,y) for x, y in zip(min, max)]\n",
    "\n",
    "minuit_model = iminuit.minimize(nlnlike2, origin, args=(v,r,rich,zcen,sigma_obs),bounds=bnds)"
   ]
  },
  {
   "cell_type": "code",
   "execution_count": 228,
   "metadata": {},
   "outputs": [
    {
     "data": {
      "text/plain": [
       "array([-7.09544859e-01,  1.92745015e-02, -6.54307506e-02, -1.02942990e-09,\n",
       "       -9.33395200e-01,  2.00419922e+00,  1.43984089e+00,  4.30109460e-01,\n",
       "       -1.85460494e-03,  1.24353902e+00,  3.55737109e-01,  1.26346394e-01,\n",
       "        2.91630909e+00,  4.56804404e-01, -3.73106064e-01,  1.75315441e+00,\n",
       "        3.50999931e-01,  8.39338627e-02])"
      ]
     },
     "execution_count": 228,
     "metadata": {},
     "output_type": "execute_result"
    }
   ],
   "source": [
    "lik_model.x"
   ]
  },
  {
   "cell_type": "code",
   "execution_count": 260,
   "metadata": {},
   "outputs": [
    {
     "data": {
      "text/plain": [
       "array([-8.02581177e-01,  1.27792879e-01, -9.89207610e-02, -3.21414942e-06,\n",
       "       -9.11594772e-01,  1.96199655e+00,  1.00000000e+00,  4.24254925e-01,\n",
       "        3.78931660e-01,  1.24057430e+00,  3.63963798e-01, -1.50078735e-01,\n",
       "        2.91363794e+00,  4.54650495e-01, -6.40736337e-02,  1.82678256e+00,\n",
       "        3.39660583e-01, -6.68730735e-01])"
      ]
     },
     "execution_count": 260,
     "metadata": {},
     "output_type": "execute_result"
    }
   ],
   "source": [
    "minuit_model.x"
   ]
  },
  {
   "cell_type": "code",
   "execution_count": 229,
   "metadata": {},
   "outputs": [
    {
     "data": {
      "text/plain": [
       "833468.4847953533"
      ]
     },
     "execution_count": 229,
     "metadata": {},
     "output_type": "execute_result"
    }
   ],
   "source": [
    "nlnlike2(origin2,v,r,rich,zcen,sigma_obs)"
   ]
  },
  {
   "cell_type": "code",
   "execution_count": 230,
   "metadata": {},
   "outputs": [
    {
     "data": {
      "text/plain": [
       "356041.8714201489"
      ]
     },
     "execution_count": 230,
     "metadata": {},
     "output_type": "execute_result"
    }
   ],
   "source": [
    "nlnlike2(origin,v,r,rich,zcen,sigma_obs)"
   ]
  },
  {
   "cell_type": "code",
   "execution_count": 231,
   "metadata": {},
   "outputs": [
    {
     "data": {
      "text/plain": [
       "344806.5698893919"
      ]
     },
     "execution_count": 231,
     "metadata": {},
     "output_type": "execute_result"
    }
   ],
   "source": [
    "nlnlike2(lik_model.x,v,r,rich,zcen,sigma_obs)"
   ]
  },
  {
   "cell_type": "code",
   "execution_count": 232,
   "metadata": {},
   "outputs": [
    {
     "data": {
      "text/plain": [
       "344775.88250114047"
      ]
     },
     "execution_count": 232,
     "metadata": {},
     "output_type": "execute_result"
    }
   ],
   "source": [
    "nlnlike2(minuit_model.x,v,r,rich,zcen,sigma_obs)"
   ]
  },
  {
   "cell_type": "markdown",
   "metadata": {},
   "source": [
    "The simplex method is giving a slightly better goodness-of-fit because the simplex method does not allow bounds, and the value of 'k' is above one. If you look at the minuit model, k is as close to 1 as it can be, leading me to suspect it 'wants' to be higher than 1. Why is k bounded in this way?\n",
    "\n",
    "Note both methods suggest R_p=1.8, confirming the paper's results. However, they disagree on other parameters."
   ]
  },
  {
   "cell_type": "markdown",
   "metadata": {},
   "source": [
    "A quick check: is minuit sensitive to starting guess? Answer:yes"
   ]
  },
  {
   "cell_type": "code",
   "execution_count": 105,
   "metadata": {},
   "outputs": [],
   "source": [
    "origin2 = [-0.45, -0.08, -0.1, -0.5, -0.2, 8.65, 0.9, 0.5, -0.25, 8.1, 0.38, -0.7, 10.3, 0.5, -0.4, 2, 0, -0.5]\n",
    "min=np.array([-1,-1,-1,-1,-1,1,0,0.05,-2,1,0.05,-2,1,0.05,-2,1,-2,-2])\n",
    "max=np.array([0,1,0,0,0,10,1,1,2,10,1,2,50,1,2,5,2,2])\n",
    "\n",
    "bnds=[(x,y) for x, y in zip(min, max)]\n",
    "\n",
    "minuit_model2 = iminuit.minimize(nlnlike2, origin2, args=(v,r,rich,zcen,sigma_obs),bounds=bnds)"
   ]
  },
  {
   "cell_type": "code",
   "execution_count": 115,
   "metadata": {},
   "outputs": [
    {
     "data": {
      "text/plain": [
       "array([-1.79828844e-01, -8.26085769e-02, -2.90790954e-08, -4.09180964e-01,\n",
       "       -5.20557435e-01,  1.90199490e+00,  9.99999480e-01,  4.18562225e-01,\n",
       "        3.24656399e-01,  2.91328614e+00,  4.53416515e-01, -6.00183458e-02,\n",
       "        1.20791265e+00,  3.41783687e-01,  8.74234922e-02,  1.91037307e+00,\n",
       "        3.83699144e-01, -9.37520552e-01])"
      ]
     },
     "execution_count": 115,
     "metadata": {},
     "output_type": "execute_result"
    }
   ],
   "source": [
    "minuit_model2.x"
   ]
  },
  {
   "cell_type": "code",
   "execution_count": 116,
   "metadata": {},
   "outputs": [
    {
     "data": {
      "text/plain": [
       "344846.22656554607"
      ]
     },
     "execution_count": 116,
     "metadata": {},
     "output_type": "execute_result"
    }
   ],
   "source": [
    "nlnlike2(minuit_model2.x,v,r,rich,zcen,sigma_obs)"
   ]
  },
  {
   "cell_type": "markdown",
   "metadata": {},
   "source": [
    "Is simplex sensitive to initial guess? Yes, and it doesn't even get r_p right."
   ]
  },
  {
   "cell_type": "code",
   "execution_count": 98,
   "metadata": {},
   "outputs": [],
   "source": [
    "lik_model2 = minimize(nlnlike2, origin2, args=(v,r,rich,zcen,sigma_obs), method='Nelder-Mead',options={'maxiter': 1e4})"
   ]
  },
  {
   "cell_type": "code",
   "execution_count": 99,
   "metadata": {},
   "outputs": [
    {
     "data": {
      "text/plain": [
       "array([-4.46372976e-01, -7.51438079e-02, -1.10066896e-01, -3.28851723e-01,\n",
       "       -1.87956448e-01,  9.91993217e+00,  9.65494354e-01,  5.16002261e-02,\n",
       "       -3.71985844e-01,  1.56514103e+00,  9.84859678e-01, -1.00151707e+00,\n",
       "        2.90387097e+00,  3.01079732e-01, -3.00089956e-01,  1.06830514e+00,\n",
       "        2.31712808e-03, -6.74297611e-01])"
      ]
     },
     "execution_count": 99,
     "metadata": {},
     "output_type": "execute_result"
    }
   ],
   "source": [
    "lik_model2.x"
   ]
  },
  {
   "cell_type": "code",
   "execution_count": 100,
   "metadata": {},
   "outputs": [
    {
     "data": {
      "text/plain": [
       "353629.31256090157"
      ]
     },
     "execution_count": 100,
     "metadata": {},
     "output_type": "execute_result"
    }
   ],
   "source": [
    "nlnlike2(lik_model2.x,v,r,rich,zcen,sigma_obs)"
   ]
  },
  {
   "cell_type": "markdown",
   "metadata": {},
   "source": [
    "Is mcmc sensitive to initial guess? Yes, it is the most sensitive/time consuming. First, run mcmc starting at the parameters from Paxton's code"
   ]
  },
  {
   "cell_type": "code",
   "execution_count": 75,
   "metadata": {},
   "outputs": [],
   "source": [
    "#Parameters that Paxton's mcmc is initialized with\n",
    "\n",
    "origin2 = [-0.45, -0.08, -0.1, -0.5, -0.2, 8.65, 0.9, 0.5, -0.25, 8.1, 0.38, -0.7, 10.3, 0.5, -0.4, 2, 0, -0.5]\n",
    "delta2 = [0.02, 0.003, 0.02, 0.04, 0.04, 0.06, 0.05, 0.015, 0.06, 0.06, 0.01, 0.04, 0.08, 0.03, 0.08, 0.1, 0.05, 0.08]\n",
    "ndim, nwalkers = 18,40\n",
    "pos = [origin2 + delta2*np.random.randn(ndim) for i in range(nwalkers)]\n",
    "#Now I set up the sampler\n",
    "sampler = emcee.EnsembleSampler(nwalkers, ndim, lnlike2, args=(v,r,rich,zcen,sigma_obs))"
   ]
  },
  {
   "cell_type": "code",
   "execution_count": 382,
   "metadata": {},
   "outputs": [
    {
     "name": "stdout",
     "output_type": "stream",
     "text": [
      "emcee: Exception while calling your likelihood function:\n",
      "  params: [-0.7919827   0.12407904 -0.10705181 -0.14595684 -0.90418487  2.12362311\n",
      "  1.00119879  0.43461603  0.77816799  1.32295567  0.32792152 -0.02341336\n",
      "  2.91135664  0.45861348  0.01086295  1.88753563  0.32169682 -1.08175365]\n",
      "  args: (0        32.017882\n",
      "1         2.896913\n",
      "2       -72.147290\n",
      "3        12.234623\n",
      "4         5.398347\n",
      "           ...    \n",
      "86544   -27.289372\n",
      "86545    18.177100\n",
      "86546    20.168940\n",
      "86547    14.085570\n",
      "86548     4.743743\n",
      "Name: Velocity, Length: 86549, dtype: float64, 0        0.061084\n",
      "1        0.567881\n",
      "2        3.929191\n",
      "3        1.381477\n",
      "4        3.808188\n",
      "           ...   \n",
      "86544    3.500576\n",
      "86545    1.853715\n",
      "86546    2.611667\n",
      "86547    3.085646\n",
      "86548    0.683896\n",
      "Name: R, Length: 86549, dtype: float64, 0        190.996490\n",
      "1        190.996490\n",
      "2        190.996490\n",
      "3        190.996490\n",
      "4        190.996490\n",
      "            ...    \n",
      "86544     20.217054\n",
      "86545     20.217054\n",
      "86546     20.217054\n",
      "86547     30.834517\n",
      "86548     30.834517\n",
      "Name: LAMBDA_CHISQ, Length: 86549, dtype: float64, 0        0.228309\n",
      "1        0.228309\n",
      "2        0.228309\n",
      "3        0.228309\n",
      "4        0.228309\n",
      "           ...   \n",
      "86544    0.219286\n",
      "86545    0.219286\n",
      "86546    0.219286\n",
      "86547    0.285649\n",
      "86548    0.285649\n",
      "Name: BCG_SPEC_Z, Length: 86549, dtype: float64, 0        0.139280\n",
      "1        0.173254\n",
      "2        0.145180\n",
      "3        0.155948\n",
      "4        0.140118\n",
      "           ...   \n",
      "86544    0.163673\n",
      "86545    0.229223\n",
      "86546    0.105772\n",
      "86547    0.318790\n",
      "86548    0.277477\n",
      "Length: 86549, dtype: float64)\n",
      "  kwargs: {}\n",
      "  exception:\n"
     ]
    },
    {
     "name": "stderr",
     "output_type": "stream",
     "text": [
      "Traceback (most recent call last):\n",
      "  File \"/usr/local/lib/python3.7/site-packages/emcee/ensemble.py\", line 545, in __call__\n",
      "    return self.f(x, *self.args, **self.kwargs)\n",
      "  File \"<ipython-input-14-1afdecbdc21f>\", line 29, in lnlike2\n",
      "    los_gaussian = background_gaussian(v, rich, los_sigmat)\n",
      "  File \"<ipython-input-13-16dd382fad4f>\", line 10, in background_gaussian\n",
      "    vmax = 3e6 * (richness / 20.0) ** 0.45\n",
      "  File \"/usr/local/lib64/python3.7/site-packages/pandas/core/ops/__init__.py\", line 1048, in wrapper\n",
      "    result = na_op(lvalues, rvalues)\n",
      "  File \"/usr/local/lib64/python3.7/site-packages/pandas/core/ops/__init__.py\", line 968, in na_op\n",
      "    result = expressions.evaluate(op, str_rep, x, y, **eval_kwargs)\n",
      "  File \"/usr/local/lib64/python3.7/site-packages/pandas/core/computation/expressions.py\", line 221, in evaluate\n",
      "    return _evaluate(op, op_str, a, b, **eval_kwargs)\n",
      "  File \"/usr/local/lib64/python3.7/site-packages/pandas/core/computation/expressions.py\", line 70, in _evaluate_standard\n",
      "    return op(a, b)\n",
      "KeyboardInterrupt\n"
     ]
    },
    {
     "ename": "KeyboardInterrupt",
     "evalue": "",
     "output_type": "error",
     "traceback": [
      "\u001b[0;31m---------------------------------------------------------------------------\u001b[0m",
      "\u001b[0;31mKeyboardInterrupt\u001b[0m                         Traceback (most recent call last)",
      "\u001b[0;32m<ipython-input-382-8f00da58d3f2>\u001b[0m in \u001b[0;36m<module>\u001b[0;34m\u001b[0m\n\u001b[0;32m----> 1\u001b[0;31m \u001b[0msampler\u001b[0m\u001b[0;34m.\u001b[0m\u001b[0mrun_mcmc\u001b[0m\u001b[0;34m(\u001b[0m\u001b[0mpos\u001b[0m\u001b[0;34m,\u001b[0m \u001b[0;36m100\u001b[0m\u001b[0;34m)\u001b[0m\u001b[0;34m;\u001b[0m \u001b[0;31m#run a 1000 length chain starting at pos\u001b[0m\u001b[0;34m\u001b[0m\u001b[0;34m\u001b[0m\u001b[0m\n\u001b[0m",
      "\u001b[0;32m/usr/local/lib/python3.7/site-packages/emcee/ensemble.py\u001b[0m in \u001b[0;36mrun_mcmc\u001b[0;34m(self, initial_state, nsteps, **kwargs)\u001b[0m\n\u001b[1;32m    382\u001b[0m \u001b[0;34m\u001b[0m\u001b[0m\n\u001b[1;32m    383\u001b[0m         \u001b[0mresults\u001b[0m \u001b[0;34m=\u001b[0m \u001b[0;32mNone\u001b[0m\u001b[0;34m\u001b[0m\u001b[0;34m\u001b[0m\u001b[0m\n\u001b[0;32m--> 384\u001b[0;31m         \u001b[0;32mfor\u001b[0m \u001b[0mresults\u001b[0m \u001b[0;32min\u001b[0m \u001b[0mself\u001b[0m\u001b[0;34m.\u001b[0m\u001b[0msample\u001b[0m\u001b[0;34m(\u001b[0m\u001b[0minitial_state\u001b[0m\u001b[0;34m,\u001b[0m \u001b[0miterations\u001b[0m\u001b[0;34m=\u001b[0m\u001b[0mnsteps\u001b[0m\u001b[0;34m,\u001b[0m \u001b[0;34m**\u001b[0m\u001b[0mkwargs\u001b[0m\u001b[0;34m)\u001b[0m\u001b[0;34m:\u001b[0m\u001b[0;34m\u001b[0m\u001b[0;34m\u001b[0m\u001b[0m\n\u001b[0m\u001b[1;32m    385\u001b[0m             \u001b[0;32mpass\u001b[0m\u001b[0;34m\u001b[0m\u001b[0;34m\u001b[0m\u001b[0m\n\u001b[1;32m    386\u001b[0m \u001b[0;34m\u001b[0m\u001b[0m\n",
      "\u001b[0;32m/usr/local/lib/python3.7/site-packages/emcee/ensemble.py\u001b[0m in \u001b[0;36msample\u001b[0;34m(self, initial_state, log_prob0, rstate0, blobs0, iterations, tune, skip_initial_state_check, thin_by, thin, store, progress)\u001b[0m\n\u001b[1;32m    341\u001b[0m \u001b[0;34m\u001b[0m\u001b[0m\n\u001b[1;32m    342\u001b[0m                     \u001b[0;31m# Propose\u001b[0m\u001b[0;34m\u001b[0m\u001b[0;34m\u001b[0m\u001b[0;34m\u001b[0m\u001b[0m\n\u001b[0;32m--> 343\u001b[0;31m                     \u001b[0mstate\u001b[0m\u001b[0;34m,\u001b[0m \u001b[0maccepted\u001b[0m \u001b[0;34m=\u001b[0m \u001b[0mmove\u001b[0m\u001b[0;34m.\u001b[0m\u001b[0mpropose\u001b[0m\u001b[0;34m(\u001b[0m\u001b[0mmodel\u001b[0m\u001b[0;34m,\u001b[0m \u001b[0mstate\u001b[0m\u001b[0;34m)\u001b[0m\u001b[0;34m\u001b[0m\u001b[0;34m\u001b[0m\u001b[0m\n\u001b[0m\u001b[1;32m    344\u001b[0m                     \u001b[0mstate\u001b[0m\u001b[0;34m.\u001b[0m\u001b[0mrandom_state\u001b[0m \u001b[0;34m=\u001b[0m \u001b[0mself\u001b[0m\u001b[0;34m.\u001b[0m\u001b[0mrandom_state\u001b[0m\u001b[0;34m\u001b[0m\u001b[0;34m\u001b[0m\u001b[0m\n\u001b[1;32m    345\u001b[0m \u001b[0;34m\u001b[0m\u001b[0m\n",
      "\u001b[0;32m/usr/local/lib/python3.7/site-packages/emcee/moves/red_blue.py\u001b[0m in \u001b[0;36mpropose\u001b[0;34m(self, model, state)\u001b[0m\n\u001b[1;32m     91\u001b[0m \u001b[0;34m\u001b[0m\u001b[0m\n\u001b[1;32m     92\u001b[0m             \u001b[0;31m# Compute the lnprobs of the proposed position.\u001b[0m\u001b[0;34m\u001b[0m\u001b[0;34m\u001b[0m\u001b[0;34m\u001b[0m\u001b[0m\n\u001b[0;32m---> 93\u001b[0;31m             \u001b[0mnew_log_probs\u001b[0m\u001b[0;34m,\u001b[0m \u001b[0mnew_blobs\u001b[0m \u001b[0;34m=\u001b[0m \u001b[0mmodel\u001b[0m\u001b[0;34m.\u001b[0m\u001b[0mcompute_log_prob_fn\u001b[0m\u001b[0;34m(\u001b[0m\u001b[0mq\u001b[0m\u001b[0;34m)\u001b[0m\u001b[0;34m\u001b[0m\u001b[0;34m\u001b[0m\u001b[0m\n\u001b[0m\u001b[1;32m     94\u001b[0m \u001b[0;34m\u001b[0m\u001b[0m\n\u001b[1;32m     95\u001b[0m             \u001b[0;31m# Loop over the walkers and update them accordingly.\u001b[0m\u001b[0;34m\u001b[0m\u001b[0;34m\u001b[0m\u001b[0;34m\u001b[0m\u001b[0m\n",
      "\u001b[0;32m/usr/local/lib/python3.7/site-packages/emcee/ensemble.py\u001b[0m in \u001b[0;36mcompute_log_prob\u001b[0;34m(self, coords)\u001b[0m\n\u001b[1;32m    425\u001b[0m                 \u001b[0mmap_func\u001b[0m \u001b[0;34m=\u001b[0m \u001b[0mmap\u001b[0m\u001b[0;34m\u001b[0m\u001b[0;34m\u001b[0m\u001b[0m\n\u001b[1;32m    426\u001b[0m             results = list(\n\u001b[0;32m--> 427\u001b[0;31m                 \u001b[0mmap_func\u001b[0m\u001b[0;34m(\u001b[0m\u001b[0mself\u001b[0m\u001b[0;34m.\u001b[0m\u001b[0mlog_prob_fn\u001b[0m\u001b[0;34m,\u001b[0m \u001b[0;34m(\u001b[0m\u001b[0mp\u001b[0m\u001b[0;34m[\u001b[0m\u001b[0mi\u001b[0m\u001b[0;34m]\u001b[0m \u001b[0;32mfor\u001b[0m \u001b[0mi\u001b[0m \u001b[0;32min\u001b[0m \u001b[0mrange\u001b[0m\u001b[0;34m(\u001b[0m\u001b[0mlen\u001b[0m\u001b[0;34m(\u001b[0m\u001b[0mp\u001b[0m\u001b[0;34m)\u001b[0m\u001b[0;34m)\u001b[0m\u001b[0;34m)\u001b[0m\u001b[0;34m)\u001b[0m\u001b[0;34m\u001b[0m\u001b[0;34m\u001b[0m\u001b[0m\n\u001b[0m\u001b[1;32m    428\u001b[0m             )\n\u001b[1;32m    429\u001b[0m \u001b[0;34m\u001b[0m\u001b[0m\n",
      "\u001b[0;32m/usr/local/lib/python3.7/site-packages/emcee/ensemble.py\u001b[0m in \u001b[0;36m__call__\u001b[0;34m(self, x)\u001b[0m\n\u001b[1;32m    543\u001b[0m     \u001b[0;32mdef\u001b[0m \u001b[0m__call__\u001b[0m\u001b[0;34m(\u001b[0m\u001b[0mself\u001b[0m\u001b[0;34m,\u001b[0m \u001b[0mx\u001b[0m\u001b[0;34m)\u001b[0m\u001b[0;34m:\u001b[0m\u001b[0;34m\u001b[0m\u001b[0;34m\u001b[0m\u001b[0m\n\u001b[1;32m    544\u001b[0m         \u001b[0;32mtry\u001b[0m\u001b[0;34m:\u001b[0m\u001b[0;34m\u001b[0m\u001b[0;34m\u001b[0m\u001b[0m\n\u001b[0;32m--> 545\u001b[0;31m             \u001b[0;32mreturn\u001b[0m \u001b[0mself\u001b[0m\u001b[0;34m.\u001b[0m\u001b[0mf\u001b[0m\u001b[0;34m(\u001b[0m\u001b[0mx\u001b[0m\u001b[0;34m,\u001b[0m \u001b[0;34m*\u001b[0m\u001b[0mself\u001b[0m\u001b[0;34m.\u001b[0m\u001b[0margs\u001b[0m\u001b[0;34m,\u001b[0m \u001b[0;34m**\u001b[0m\u001b[0mself\u001b[0m\u001b[0;34m.\u001b[0m\u001b[0mkwargs\u001b[0m\u001b[0;34m)\u001b[0m\u001b[0;34m\u001b[0m\u001b[0;34m\u001b[0m\u001b[0m\n\u001b[0m\u001b[1;32m    546\u001b[0m         \u001b[0;32mexcept\u001b[0m\u001b[0;34m:\u001b[0m  \u001b[0;31m# pragma: no cover\u001b[0m\u001b[0;34m\u001b[0m\u001b[0;34m\u001b[0m\u001b[0m\n\u001b[1;32m    547\u001b[0m             \u001b[0;32mimport\u001b[0m \u001b[0mtraceback\u001b[0m\u001b[0;34m\u001b[0m\u001b[0;34m\u001b[0m\u001b[0m\n",
      "\u001b[0;32m<ipython-input-14-1afdecbdc21f>\u001b[0m in \u001b[0;36mlnlike2\u001b[0;34m(parameters, v, r, rich, zcen, sigma_obs)\u001b[0m\n\u001b[1;32m     27\u001b[0m     \u001b[0mlos_sigmav\u001b[0m \u001b[0;34m=\u001b[0m \u001b[0mcalc_sigma_v\u001b[0m\u001b[0;34m(\u001b[0m\u001b[0;34m[\u001b[0m\u001b[0mlnsp_los\u001b[0m\u001b[0;34m,\u001b[0m \u001b[0malpha_los\u001b[0m\u001b[0;34m,\u001b[0m \u001b[0mbeta_los\u001b[0m\u001b[0;34m,\u001b[0m \u001b[0mz_p\u001b[0m\u001b[0;34m,\u001b[0m \u001b[0mlambda_p\u001b[0m\u001b[0;34m]\u001b[0m\u001b[0;34m,\u001b[0m \u001b[0mzcen\u001b[0m\u001b[0;34m,\u001b[0m \u001b[0mrich\u001b[0m\u001b[0;34m)\u001b[0m\u001b[0;34m\u001b[0m\u001b[0;34m\u001b[0m\u001b[0m\n\u001b[1;32m     28\u001b[0m     \u001b[0mlos_sigmat\u001b[0m \u001b[0;34m=\u001b[0m \u001b[0;34m(\u001b[0m\u001b[0mlos_sigmav\u001b[0m\u001b[0;34m**\u001b[0m\u001b[0;36m2\u001b[0m \u001b[0;34m+\u001b[0m \u001b[0msigma_obs\u001b[0m\u001b[0;34m**\u001b[0m\u001b[0;36m2\u001b[0m\u001b[0;34m)\u001b[0m\u001b[0;34m**\u001b[0m\u001b[0;36m0.5\u001b[0m\u001b[0;34m\u001b[0m\u001b[0;34m\u001b[0m\u001b[0m\n\u001b[0;32m---> 29\u001b[0;31m     \u001b[0mlos_gaussian\u001b[0m \u001b[0;34m=\u001b[0m \u001b[0mbackground_gaussian\u001b[0m\u001b[0;34m(\u001b[0m\u001b[0mv\u001b[0m\u001b[0;34m,\u001b[0m \u001b[0mrich\u001b[0m\u001b[0;34m,\u001b[0m \u001b[0mlos_sigmat\u001b[0m\u001b[0;34m)\u001b[0m\u001b[0;34m\u001b[0m\u001b[0;34m\u001b[0m\u001b[0m\n\u001b[0m\u001b[1;32m     30\u001b[0m \u001b[0;34m\u001b[0m\u001b[0m\n\u001b[1;32m     31\u001b[0m     \u001b[0;32mif\u001b[0m \u001b[0;36m0.05\u001b[0m \u001b[0;34m<\u001b[0m \u001b[0malpha_orb\u001b[0m \u001b[0;34m<\u001b[0m \u001b[0;36m1\u001b[0m \u001b[0;32mand\u001b[0m \u001b[0;36m0.05\u001b[0m \u001b[0;34m<\u001b[0m \u001b[0malpha_inf\u001b[0m \u001b[0;34m<\u001b[0m \u001b[0;36m1\u001b[0m \u001b[0;32mand\u001b[0m \u001b[0;36m0.05\u001b[0m \u001b[0;34m<\u001b[0m \u001b[0malpha_los\u001b[0m \u001b[0;34m<\u001b[0m \u001b[0;36m1\u001b[0m \u001b[0;32mand\u001b[0m \u001b[0;34m-\u001b[0m\u001b[0;36m2\u001b[0m \u001b[0;34m<\u001b[0m \u001b[0malpha_r\u001b[0m \u001b[0;34m<\u001b[0m \u001b[0;36m2\u001b[0m \u001b[0;32mand\u001b[0m \u001b[0;34m-\u001b[0m\u001b[0;36m2\u001b[0m \u001b[0;34m<\u001b[0m \u001b[0mbeta_orb\u001b[0m \u001b[0;34m<\u001b[0m \u001b[0;36m2\u001b[0m \u001b[0;32mand\u001b[0m \u001b[0;34m-\u001b[0m\u001b[0;36m2\u001b[0m \u001b[0;34m<\u001b[0m \u001b[0mbeta_inf\u001b[0m \u001b[0;34m<\u001b[0m \u001b[0;36m2\u001b[0m \u001b[0;32mand\u001b[0m \u001b[0;34m-\u001b[0m\u001b[0;36m2\u001b[0m \u001b[0;34m<\u001b[0m \u001b[0mbeta_los\u001b[0m \u001b[0;34m<\u001b[0m \u001b[0;36m2\u001b[0m \u001b[0;32mand\u001b[0m \u001b[0;34m-\u001b[0m\u001b[0;36m2\u001b[0m \u001b[0;34m<\u001b[0m \u001b[0mbeta_r\u001b[0m \u001b[0;34m<\u001b[0m \u001b[0;36m2\u001b[0m \u001b[0;32mand\u001b[0m \u001b[0;36m1\u001b[0m \u001b[0;34m<\u001b[0m \u001b[0mlnsp_orb\u001b[0m \u001b[0;34m<\u001b[0m \u001b[0;36m10\u001b[0m \u001b[0;32mand\u001b[0m \u001b[0;36m1\u001b[0m \u001b[0;34m<\u001b[0m \u001b[0mlnsp_inf\u001b[0m \u001b[0;34m<\u001b[0m \u001b[0;36m10\u001b[0m \u001b[0;32mand\u001b[0m \u001b[0mlnsp_los\u001b[0m \u001b[0;34m<\u001b[0m \u001b[0;36m50\u001b[0m \u001b[0;32mand\u001b[0m \u001b[0ma1\u001b[0m \u001b[0;34m<\u001b[0m \u001b[0;36m0\u001b[0m \u001b[0;32mand\u001b[0m \u001b[0;36m0.2\u001b[0m \u001b[0;34m<\u001b[0m \u001b[0mb0\u001b[0m \u001b[0;34m<\u001b[0m \u001b[0;36m1\u001b[0m \u001b[0;32mand\u001b[0m \u001b[0mb1\u001b[0m \u001b[0;34m<\u001b[0m \u001b[0;36m0\u001b[0m \u001b[0;32mand\u001b[0m \u001b[0;36m0\u001b[0m \u001b[0;34m<\u001b[0m \u001b[0mc0\u001b[0m \u001b[0;34m<=\u001b[0m \u001b[0;36m1\u001b[0m \u001b[0;32mand\u001b[0m \u001b[0mc1\u001b[0m \u001b[0;34m<\u001b[0m \u001b[0;36m0\u001b[0m \u001b[0;32mand\u001b[0m \u001b[0;34m(\u001b[0m\u001b[0mf_good\u001b[0m \u001b[0;34m>\u001b[0m \u001b[0;36m0\u001b[0m\u001b[0;34m)\u001b[0m\u001b[0;34m.\u001b[0m\u001b[0mall\u001b[0m\u001b[0;34m(\u001b[0m\u001b[0;34m)\u001b[0m \u001b[0;32mand\u001b[0m \u001b[0;34m(\u001b[0m\u001b[0mf_orb\u001b[0m \u001b[0;34m>=\u001b[0m \u001b[0;36m0\u001b[0m\u001b[0;34m)\u001b[0m\u001b[0;34m.\u001b[0m\u001b[0mall\u001b[0m\u001b[0;34m(\u001b[0m\u001b[0;34m)\u001b[0m \u001b[0;32mand\u001b[0m \u001b[0;36m1\u001b[0m \u001b[0;34m<\u001b[0m \u001b[0mr_p\u001b[0m \u001b[0;34m<\u001b[0m \u001b[0;36m5\u001b[0m \u001b[0;32mand\u001b[0m \u001b[0mk\u001b[0m \u001b[0;34m>\u001b[0m \u001b[0;36m0\u001b[0m\u001b[0;34m:\u001b[0m\u001b[0;34m\u001b[0m\u001b[0;34m\u001b[0m\u001b[0m\n",
      "\u001b[0;32m<ipython-input-13-16dd382fad4f>\u001b[0m in \u001b[0;36mbackground_gaussian\u001b[0;34m(velocity, richness, total_sigma)\u001b[0m\n\u001b[1;32m      8\u001b[0m     \u001b[0mGaussian\u001b[0m\u001b[0;34m,\u001b[0m \u001b[0ma\u001b[0m \u001b[0msignificant\u001b[0m \u001b[0mamount\u001b[0m \u001b[0;32mis\u001b[0m \u001b[0mcut\u001b[0m \u001b[0moff\u001b[0m \u001b[0mby\u001b[0m \u001b[0mthe\u001b[0m \u001b[0mvmax\u001b[0m \u001b[0mcut\u001b[0m\u001b[0;34m,\u001b[0m\u001b[0;34m\u001b[0m\u001b[0;34m\u001b[0m\u001b[0m\n\u001b[1;32m      9\u001b[0m     so I use an erf to scale and account for that.\"\"\"\n\u001b[0;32m---> 10\u001b[0;31m     \u001b[0mvmax\u001b[0m \u001b[0;34m=\u001b[0m \u001b[0;36m3e6\u001b[0m \u001b[0;34m*\u001b[0m \u001b[0;34m(\u001b[0m\u001b[0mrichness\u001b[0m \u001b[0;34m/\u001b[0m \u001b[0;36m20.0\u001b[0m\u001b[0;34m)\u001b[0m \u001b[0;34m**\u001b[0m \u001b[0;36m0.45\u001b[0m\u001b[0;34m\u001b[0m\u001b[0;34m\u001b[0m\u001b[0m\n\u001b[0m\u001b[1;32m     11\u001b[0m     \u001b[0moutside_cut\u001b[0m \u001b[0;34m=\u001b[0m \u001b[0mnp\u001b[0m\u001b[0;34m.\u001b[0m\u001b[0mwhere\u001b[0m\u001b[0;34m(\u001b[0m\u001b[0mvelocity\u001b[0m \u001b[0;34m>\u001b[0m \u001b[0mvmax\u001b[0m\u001b[0;34m)\u001b[0m\u001b[0;34m[\u001b[0m\u001b[0;36m0\u001b[0m\u001b[0;34m]\u001b[0m\u001b[0;34m\u001b[0m\u001b[0;34m\u001b[0m\u001b[0m\n\u001b[1;32m     12\u001b[0m     \u001b[0;32massert\u001b[0m \u001b[0mlen\u001b[0m\u001b[0;34m(\u001b[0m\u001b[0moutside_cut\u001b[0m\u001b[0;34m)\u001b[0m \u001b[0;34m==\u001b[0m \u001b[0;36m0\u001b[0m\u001b[0;34m,\u001b[0m \u001b[0;34m\"UH OH: VELOCITY DATA FED INTO MCMC IS OUTSIDE CUT\"\u001b[0m\u001b[0;34m\u001b[0m\u001b[0;34m\u001b[0m\u001b[0m\n",
      "\u001b[0;32m/usr/local/lib64/python3.7/site-packages/pandas/core/ops/__init__.py\u001b[0m in \u001b[0;36mwrapper\u001b[0;34m(left, right)\u001b[0m\n\u001b[1;32m   1046\u001b[0m \u001b[0;34m\u001b[0m\u001b[0m\n\u001b[1;32m   1047\u001b[0m         \u001b[0;32mwith\u001b[0m \u001b[0mnp\u001b[0m\u001b[0;34m.\u001b[0m\u001b[0merrstate\u001b[0m\u001b[0;34m(\u001b[0m\u001b[0mall\u001b[0m\u001b[0;34m=\u001b[0m\u001b[0;34m\"ignore\"\u001b[0m\u001b[0;34m)\u001b[0m\u001b[0;34m:\u001b[0m\u001b[0;34m\u001b[0m\u001b[0;34m\u001b[0m\u001b[0m\n\u001b[0;32m-> 1048\u001b[0;31m             \u001b[0mresult\u001b[0m \u001b[0;34m=\u001b[0m \u001b[0mna_op\u001b[0m\u001b[0;34m(\u001b[0m\u001b[0mlvalues\u001b[0m\u001b[0;34m,\u001b[0m \u001b[0mrvalues\u001b[0m\u001b[0;34m)\u001b[0m\u001b[0;34m\u001b[0m\u001b[0;34m\u001b[0m\u001b[0m\n\u001b[0m\u001b[1;32m   1049\u001b[0m         return construct_result(\n\u001b[1;32m   1050\u001b[0m             \u001b[0mleft\u001b[0m\u001b[0;34m,\u001b[0m \u001b[0mresult\u001b[0m\u001b[0;34m,\u001b[0m \u001b[0mindex\u001b[0m\u001b[0;34m=\u001b[0m\u001b[0mleft\u001b[0m\u001b[0;34m.\u001b[0m\u001b[0mindex\u001b[0m\u001b[0;34m,\u001b[0m \u001b[0mname\u001b[0m\u001b[0;34m=\u001b[0m\u001b[0mres_name\u001b[0m\u001b[0;34m,\u001b[0m \u001b[0mdtype\u001b[0m\u001b[0;34m=\u001b[0m\u001b[0;32mNone\u001b[0m\u001b[0;34m\u001b[0m\u001b[0;34m\u001b[0m\u001b[0m\n",
      "\u001b[0;32m/usr/local/lib64/python3.7/site-packages/pandas/core/ops/__init__.py\u001b[0m in \u001b[0;36mna_op\u001b[0;34m(x, y)\u001b[0m\n\u001b[1;32m    966\u001b[0m \u001b[0;34m\u001b[0m\u001b[0m\n\u001b[1;32m    967\u001b[0m         \u001b[0;32mtry\u001b[0m\u001b[0;34m:\u001b[0m\u001b[0;34m\u001b[0m\u001b[0;34m\u001b[0m\u001b[0m\n\u001b[0;32m--> 968\u001b[0;31m             \u001b[0mresult\u001b[0m \u001b[0;34m=\u001b[0m \u001b[0mexpressions\u001b[0m\u001b[0;34m.\u001b[0m\u001b[0mevaluate\u001b[0m\u001b[0;34m(\u001b[0m\u001b[0mop\u001b[0m\u001b[0;34m,\u001b[0m \u001b[0mstr_rep\u001b[0m\u001b[0;34m,\u001b[0m \u001b[0mx\u001b[0m\u001b[0;34m,\u001b[0m \u001b[0my\u001b[0m\u001b[0;34m,\u001b[0m \u001b[0;34m**\u001b[0m\u001b[0meval_kwargs\u001b[0m\u001b[0;34m)\u001b[0m\u001b[0;34m\u001b[0m\u001b[0;34m\u001b[0m\u001b[0m\n\u001b[0m\u001b[1;32m    969\u001b[0m         \u001b[0;32mexcept\u001b[0m \u001b[0mTypeError\u001b[0m\u001b[0;34m:\u001b[0m\u001b[0;34m\u001b[0m\u001b[0;34m\u001b[0m\u001b[0m\n\u001b[1;32m    970\u001b[0m             \u001b[0mresult\u001b[0m \u001b[0;34m=\u001b[0m \u001b[0mmasked_arith_op\u001b[0m\u001b[0;34m(\u001b[0m\u001b[0mx\u001b[0m\u001b[0;34m,\u001b[0m \u001b[0my\u001b[0m\u001b[0;34m,\u001b[0m \u001b[0mop\u001b[0m\u001b[0;34m)\u001b[0m\u001b[0;34m\u001b[0m\u001b[0;34m\u001b[0m\u001b[0m\n",
      "\u001b[0;32m/usr/local/lib64/python3.7/site-packages/pandas/core/computation/expressions.py\u001b[0m in \u001b[0;36mevaluate\u001b[0;34m(op, op_str, a, b, use_numexpr, **eval_kwargs)\u001b[0m\n\u001b[1;32m    219\u001b[0m     \u001b[0muse_numexpr\u001b[0m \u001b[0;34m=\u001b[0m \u001b[0muse_numexpr\u001b[0m \u001b[0;32mand\u001b[0m \u001b[0m_bool_arith_check\u001b[0m\u001b[0;34m(\u001b[0m\u001b[0mop_str\u001b[0m\u001b[0;34m,\u001b[0m \u001b[0ma\u001b[0m\u001b[0;34m,\u001b[0m \u001b[0mb\u001b[0m\u001b[0;34m)\u001b[0m\u001b[0;34m\u001b[0m\u001b[0;34m\u001b[0m\u001b[0m\n\u001b[1;32m    220\u001b[0m     \u001b[0;32mif\u001b[0m \u001b[0muse_numexpr\u001b[0m\u001b[0;34m:\u001b[0m\u001b[0;34m\u001b[0m\u001b[0;34m\u001b[0m\u001b[0m\n\u001b[0;32m--> 221\u001b[0;31m         \u001b[0;32mreturn\u001b[0m \u001b[0m_evaluate\u001b[0m\u001b[0;34m(\u001b[0m\u001b[0mop\u001b[0m\u001b[0;34m,\u001b[0m \u001b[0mop_str\u001b[0m\u001b[0;34m,\u001b[0m \u001b[0ma\u001b[0m\u001b[0;34m,\u001b[0m \u001b[0mb\u001b[0m\u001b[0;34m,\u001b[0m \u001b[0;34m**\u001b[0m\u001b[0meval_kwargs\u001b[0m\u001b[0;34m)\u001b[0m\u001b[0;34m\u001b[0m\u001b[0;34m\u001b[0m\u001b[0m\n\u001b[0m\u001b[1;32m    222\u001b[0m     \u001b[0;32mreturn\u001b[0m \u001b[0m_evaluate_standard\u001b[0m\u001b[0;34m(\u001b[0m\u001b[0mop\u001b[0m\u001b[0;34m,\u001b[0m \u001b[0mop_str\u001b[0m\u001b[0;34m,\u001b[0m \u001b[0ma\u001b[0m\u001b[0;34m,\u001b[0m \u001b[0mb\u001b[0m\u001b[0;34m)\u001b[0m\u001b[0;34m\u001b[0m\u001b[0;34m\u001b[0m\u001b[0m\n\u001b[1;32m    223\u001b[0m \u001b[0;34m\u001b[0m\u001b[0m\n",
      "\u001b[0;32m/usr/local/lib64/python3.7/site-packages/pandas/core/computation/expressions.py\u001b[0m in \u001b[0;36m_evaluate_standard\u001b[0;34m(op, op_str, a, b, **eval_kwargs)\u001b[0m\n\u001b[1;32m     68\u001b[0m         \u001b[0m_store_test_result\u001b[0m\u001b[0;34m(\u001b[0m\u001b[0;32mFalse\u001b[0m\u001b[0;34m)\u001b[0m\u001b[0;34m\u001b[0m\u001b[0;34m\u001b[0m\u001b[0m\n\u001b[1;32m     69\u001b[0m     \u001b[0;32mwith\u001b[0m \u001b[0mnp\u001b[0m\u001b[0;34m.\u001b[0m\u001b[0merrstate\u001b[0m\u001b[0;34m(\u001b[0m\u001b[0mall\u001b[0m\u001b[0;34m=\u001b[0m\u001b[0;34m\"ignore\"\u001b[0m\u001b[0;34m)\u001b[0m\u001b[0;34m:\u001b[0m\u001b[0;34m\u001b[0m\u001b[0;34m\u001b[0m\u001b[0m\n\u001b[0;32m---> 70\u001b[0;31m         \u001b[0;32mreturn\u001b[0m \u001b[0mop\u001b[0m\u001b[0;34m(\u001b[0m\u001b[0ma\u001b[0m\u001b[0;34m,\u001b[0m \u001b[0mb\u001b[0m\u001b[0;34m)\u001b[0m\u001b[0;34m\u001b[0m\u001b[0;34m\u001b[0m\u001b[0m\n\u001b[0m\u001b[1;32m     71\u001b[0m \u001b[0;34m\u001b[0m\u001b[0m\n\u001b[1;32m     72\u001b[0m \u001b[0;34m\u001b[0m\u001b[0m\n",
      "\u001b[0;31mKeyboardInterrupt\u001b[0m: "
     ]
    }
   ],
   "source": [
    "sampler.run_mcmc(pos, 100); #run a 1000 length chain starting at pos"
   ]
  },
  {
   "cell_type": "code",
   "execution_count": 77,
   "metadata": {},
   "outputs": [],
   "source": [
    "#Getting the values that maximize likelihood\n",
    "flat_chain = np.concatenate(sampler.chain)\n",
    "flat_lnprobs = np.concatenate(sampler.lnprobability)\n",
    "max_prob_idx = np.argmax(flat_lnprobs)\n",
    "max_prob = flat_lnprobs[max_prob_idx]\n",
    "#p, lnsigma_p, alpha, beta = flat_chain[max_prob_idx]\n",
    "mcmc_initial=flat_chain[max_prob_idx]"
   ]
  },
  {
   "cell_type": "code",
   "execution_count": 78,
   "metadata": {},
   "outputs": [
    {
     "data": {
      "text/plain": [
       "array([-3.88631234e-01,  8.47319996e-03, -1.70691867e-01, -8.63205443e-03,\n",
       "       -1.68953485e-01,  9.92517872e+00,  8.10040571e-01,  3.01929981e-01,\n",
       "       -1.09904082e+00,  6.88483606e+00,  1.81561206e-01,  7.36376417e-02,\n",
       "        1.11189909e+01,  7.10649578e-01,  1.16897195e+00,  2.61805004e+00,\n",
       "        1.20599158e-01, -1.20344477e+00])"
      ]
     },
     "execution_count": 78,
     "metadata": {},
     "output_type": "execute_result"
    }
   ],
   "source": [
    "mcmc_initial"
   ]
  },
  {
   "cell_type": "code",
   "execution_count": 92,
   "metadata": {},
   "outputs": [
    {
     "data": {
      "text/plain": [
       "712898.8129275201"
      ]
     },
     "execution_count": 92,
     "metadata": {},
     "output_type": "execute_result"
    }
   ],
   "source": [
    "nlnlike2(mcmc_initial,v,r,rich,zcen,sigma_obs)"
   ]
  },
  {
   "cell_type": "markdown",
   "metadata": {},
   "source": [
    "Now, run mcmc starting at the parameters from 'Clusters have edges'"
   ]
  },
  {
   "cell_type": "code",
   "execution_count": 387,
   "metadata": {},
   "outputs": [],
   "source": [
    "#Now I begin to sample from our parameter space of good likelihood and run the MCMC.\n",
    "ndim, nwalkers = 18,40\n",
    "pos = [origin + delta*np.random.randn(ndim) for i in range(nwalkers)]\n",
    "#Now I set up the sampler\n",
    "sampler = emcee.EnsembleSampler(nwalkers, ndim, lnlike2, args=(v,r,rich,zcen,sigma_obs))"
   ]
  },
  {
   "cell_type": "code",
   "execution_count": 83,
   "metadata": {},
   "outputs": [
    {
     "name": "stderr",
     "output_type": "stream",
     "text": [
      "/usr/local/lib/python3.7/site-packages/ipykernel_launcher.py:7: RuntimeWarning: overflow encountered in exp\n",
      "  import sys\n"
     ]
    }
   ],
   "source": [
    "sampler.run_mcmc(pos, 100); #run a 1000 length chain starting at pos"
   ]
  },
  {
   "cell_type": "code",
   "execution_count": 84,
   "metadata": {},
   "outputs": [],
   "source": [
    "#Getting the values that maximize likelihood\n",
    "flat_chain = np.concatenate(sampler.chain)\n",
    "flat_lnprobs = np.concatenate(sampler.lnprobability)\n",
    "max_prob_idx = np.argmax(flat_lnprobs)\n",
    "max_prob = flat_lnprobs[max_prob_idx]\n",
    "#p, lnsigma_p, alpha, beta = flat_chain[max_prob_idx]\n",
    "mcmc_paper=flat_chain[max_prob_idx]"
   ]
  },
  {
   "cell_type": "code",
   "execution_count": 85,
   "metadata": {},
   "outputs": [
    {
     "data": {
      "text/plain": [
       "array([-1.83000752e-03, -4.04748216e-02, -5.49478690e-03, -2.60509491e-01,\n",
       "       -5.78320291e-01,  1.59302315e+00,  2.40272178e-01,  4.23148469e-01,\n",
       "        8.17615950e-01,  2.85900533e+00,  5.99106191e-02,  5.60882156e-01,\n",
       "        3.88002573e+00,  5.14948287e-01, -1.19294084e+00,  1.68803361e+00,\n",
       "        3.12312979e-01, -6.95708609e-01])"
      ]
     },
     "execution_count": 85,
     "metadata": {},
     "output_type": "execute_result"
    }
   ],
   "source": [
    "mcmc_paper"
   ]
  },
  {
   "cell_type": "code",
   "execution_count": 91,
   "metadata": {},
   "outputs": [
    {
     "data": {
      "text/plain": [
       "351921.51041504863"
      ]
     },
     "execution_count": 91,
     "metadata": {},
     "output_type": "execute_result"
    }
   ],
   "source": [
    "nlnlike2(mcmc_paper,v,r,rich,zcen,sigma_obs)"
   ]
  },
  {
   "cell_type": "markdown",
   "metadata": {},
   "source": [
    "Last, run mcmc starting at parameters from minuit"
   ]
  },
  {
   "cell_type": "code",
   "execution_count": 409,
   "metadata": {},
   "outputs": [],
   "source": [
    "#Now I begin to sample from our parameter space of good likelihood and run the MCMC.\n",
    "ndim, nwalkers = 18,40\n",
    "pos = [minuit_model.x + delta_minuit*np.random.randn(ndim) for i in range(nwalkers)]\n",
    "#Now I set up the sampler\n",
    "sampler = emcee.EnsembleSampler(nwalkers, ndim, lnlike2, args=(v,r,rich,zcen,sigma_obs))"
   ]
  },
  {
   "cell_type": "code",
   "execution_count": 410,
   "metadata": {},
   "outputs": [],
   "source": [
    "sampler.run_mcmc(pos, 1000); #run a 1000 length chain starting at pos"
   ]
  },
  {
   "cell_type": "code",
   "execution_count": 411,
   "metadata": {},
   "outputs": [],
   "source": [
    "#Getting the values that maximize likelihood\n",
    "flat_chain = np.concatenate(sampler.chain)\n",
    "flat_lnprobs = np.concatenate(sampler.lnprobability)\n",
    "max_prob_idx = np.argmax(flat_lnprobs)\n",
    "max_prob = flat_lnprobs[max_prob_idx]\n",
    "#p, lnsigma_p, alpha, beta = flat_chain[max_prob_idx]\n",
    "mcmc_minuit=flat_chain[max_prob_idx]"
   ]
  },
  {
   "cell_type": "code",
   "execution_count": 425,
   "metadata": {},
   "outputs": [
    {
     "data": {
      "text/plain": [
       "-351983.00513626955"
      ]
     },
     "execution_count": 425,
     "metadata": {},
     "output_type": "execute_result"
    }
   ],
   "source": [
    "nlnlike4(mcmc_minuit,v,r,rich,zcen,sigma_obs)"
   ]
  },
  {
   "cell_type": "code",
   "execution_count": 416,
   "metadata": {},
   "outputs": [
    {
     "data": {
      "text/plain": [
       "array([-0.81191332,  0.12276539, -0.09473739,  0.03110172, -0.90222122,\n",
       "        1.        ,  1.00068911,  0.4100951 ,  0.43334313,  1.24695698,\n",
       "        0.3736719 , -0.13504192,  2.96245612,  0.45536402, -0.11699797,\n",
       "        1.75803228,  0.32679538, -1.22940735])"
      ]
     },
     "execution_count": 416,
     "metadata": {},
     "output_type": "execute_result"
    }
   ],
   "source": [
    "mcmc_minuit"
   ]
  },
  {
   "cell_type": "code",
   "execution_count": 430,
   "metadata": {},
   "outputs": [
    {
     "name": "stdout",
     "output_type": "stream",
     "text": [
      "The mean value of R_edge is 1.81. (Should be roughly 1.8)\n",
      "The pivot richness is 32.19. (Should be roughly 32)\n",
      "The pivot redshift is 0.17. (Should be roughly 0.17)\n",
      "Maximum normalized velocity 16.55. (Should be roughly 6)\n"
     ]
    },
    {
     "data": {
      "application/vnd.jupyter.widget-view+json": {
       "model_id": "dc68caee53a446658581a135d4c0cb3c",
       "version_major": 2,
       "version_minor": 0
      },
      "text/plain": [
       "HBox(children=(IntProgress(value=0, max=1000), HTML(value='')))"
      ]
     },
     "metadata": {},
     "output_type": "display_data"
    },
    {
     "name": "stdout",
     "output_type": "stream",
     "text": [
      "\n"
     ]
    },
    {
     "data": {
      "image/png": "[encoded data removed]",
      "text/plain": [
       "<Figure size 720x504 with 1 Axes>"
      ]
     },
     "metadata": {
      "needs_background": "light"
     },
     "output_type": "display_data"
    }
   ],
   "source": [
    "plot_fit(df,mcmc_minuit,0.2,0.4,1000,1)"
   ]
  },
  {
   "cell_type": "code",
   "execution_count": 379,
   "metadata": {},
   "outputs": [
    {
     "name": "stdout",
     "output_type": "stream",
     "text": [
      "The mean value of R_edge is 1.89. (Should be roughly 1.8)\n",
      "The pivot richness is 32.19. (Should be roughly 32)\n",
      "The pivot redshift is 0.17. (Should be roughly 0.17)\n",
      "Maximum normalized velocity 5.54. (Should be roughly 6)\n"
     ]
    },
    {
     "data": {
      "application/vnd.jupyter.widget-view+json": {
       "model_id": "6b204d6e3fd44f1abab8650626996af0",
       "version_major": 2,
       "version_minor": 0
      },
      "text/plain": [
       "HBox(children=(IntProgress(value=0, max=1000), HTML(value='')))"
      ]
     },
     "metadata": {},
     "output_type": "display_data"
    },
    {
     "name": "stdout",
     "output_type": "stream",
     "text": [
      "\n"
     ]
    },
    {
     "data": {
      "image/png": "[encoded data removed]",
      "text/plain": [
       "<Figure size 720x504 with 1 Axes>"
      ]
     },
     "metadata": {
      "needs_background": "light"
     },
     "output_type": "display_data"
    }
   ],
   "source": [
    "plot_fit(df,origin,0.2,0.4,1000,1)"
   ]
  },
  {
   "cell_type": "code",
   "execution_count": 397,
   "metadata": {},
   "outputs": [
    {
     "name": "stdout",
     "output_type": "stream",
     "text": [
      "The mean value of R_edge is 1.89. (Should be roughly 1.8)\n",
      "The pivot richness is 32.19. (Should be roughly 32)\n",
      "The pivot redshift is 0.17. (Should be roughly 0.17)\n",
      "Maximum normalized velocity 6.25. (Should be roughly 6)\n"
     ]
    },
    {
     "data": {
      "application/vnd.jupyter.widget-view+json": {
       "model_id": "4e82bfeb982940c689fce3cbd0067239",
       "version_major": 2,
       "version_minor": 0
      },
      "text/plain": [
       "HBox(children=(IntProgress(value=0, max=1000), HTML(value='')))"
      ]
     },
     "metadata": {},
     "output_type": "display_data"
    },
    {
     "name": "stdout",
     "output_type": "stream",
     "text": [
      "\n"
     ]
    },
    {
     "data": {
      "image/png": "[encoded data removed]",
      "text/plain": [
       "<Figure size 720x504 with 1 Axes>"
      ]
     },
     "metadata": {
      "needs_background": "light"
     },
     "output_type": "display_data"
    }
   ],
   "source": [
    "plot_fit(df,minuit_model.x,0.2,0.4,1000,1)"
   ]
  },
  {
   "cell_type": "code",
   "execution_count": 398,
   "metadata": {},
   "outputs": [
    {
     "name": "stdout",
     "output_type": "stream",
     "text": [
      "The mean value of R_edge is 1.89. (Should be roughly 1.8)\n",
      "The pivot richness is 32.19. (Should be roughly 32)\n",
      "The pivot redshift is 0.17. (Should be roughly 0.17)\n",
      "Maximum normalized velocity 6.26. (Should be roughly 6)\n"
     ]
    },
    {
     "data": {
      "application/vnd.jupyter.widget-view+json": {
       "model_id": "bd6c0930c98b478885a7d729b69a90bf",
       "version_major": 2,
       "version_minor": 0
      },
      "text/plain": [
       "HBox(children=(IntProgress(value=0, max=1000), HTML(value='')))"
      ]
     },
     "metadata": {},
     "output_type": "display_data"
    },
    {
     "name": "stdout",
     "output_type": "stream",
     "text": [
      "\n"
     ]
    },
    {
     "data": {
      "image/png": "[encoded data removed]",
      "text/plain": [
       "<Figure size 720x504 with 1 Axes>"
      ]
     },
     "metadata": {
      "needs_background": "light"
     },
     "output_type": "display_data"
    }
   ],
   "source": [
    "plot_fit(df,lik_model.x,0.2,0.4,1000,1)"
   ]
  },
  {
   "cell_type": "markdown",
   "metadata": {},
   "source": [
    "Output and compare parameters. Are they significantly different?"
   ]
  },
  {
   "cell_type": "code",
   "execution_count": 424,
   "metadata": {},
   "outputs": [],
   "source": [
    "def nlnlike3(parameters):\n",
    "    \n",
    "    global v,r,rich,zcen,sigma_obs\n",
    "    a1, a2, b1, c1, c2, lnsp_orb, k, alpha_orb, beta_orb, lnsp_inf, alpha_inf, beta_inf, lnsp_los, alpha_los, beta_los, r_p, alpha_r, beta_r=parameters\n",
    "\n",
    "    b0 = 1 + a1 + a2 #calculated from constraint equations\n",
    "    c0 = -(c1 + c2) #calculated from constraint equations\n",
    "\n",
    "    z_p = np.median(zcen)\n",
    "    lambda_p = np.median(rich)\n",
    "\n",
    "    r_edge = r_p*((1+zcen)/(1+z_p))**beta_r*(rich/lambda_p)**alpha_r\n",
    "\n",
    "    f_good = b0 + b1*(r/r_edge-1)\n",
    "    f_orb = np.zeros_like(r)\n",
    "\n",
    "    lt_xt = np.where(r < r_edge)[0]\n",
    "    f_good[lt_xt] = 1 + a1*r[lt_xt]/r_edge[lt_xt] + a2*((r[lt_xt]/r_edge[lt_xt])**2)\n",
    "    f_orb[lt_xt] = c0 + c1*r[lt_xt]/r_edge[lt_xt] + c2*((r[lt_xt]/r_edge[lt_xt])**2)\n",
    "\n",
    "    orb_sigmav = calc_sigma_v([lnsp_orb, alpha_orb, beta_orb, z_p, lambda_p], zcen, rich)/(1+k*r/r_edge)**0.5\n",
    "    orb_sigmat = (orb_sigmav**2 + sigma_obs**2)**0.5\n",
    "    orb_gaussian = np.exp(-0.5*((v/orb_sigmat)**2))/(np.sqrt(2*np.pi)*orb_sigmat)\n",
    "\n",
    "    inf_sigmav = calc_sigma_v([lnsp_inf, alpha_inf, beta_inf, z_p, lambda_p], zcen, rich)\n",
    "    inf_sigmat = (inf_sigmav**2 + sigma_obs**2)**0.5\n",
    "    inf_gaussian = np.exp(-0.5*((v/inf_sigmat)**2))/(np.sqrt(2*np.pi)*inf_sigmat)\n",
    "\n",
    "    los_sigmav = calc_sigma_v([lnsp_los, alpha_los, beta_los, z_p, lambda_p], zcen, rich)\n",
    "    los_sigmat = (los_sigmav**2 + sigma_obs**2)**0.5\n",
    "    los_gaussian = background_gaussian(v, rich, los_sigmat)\n",
    "\n",
    "    if 0.05 < alpha_orb < 1 and 0.05 < alpha_inf < 1 and 0.05 < alpha_los < 1 and -2 < alpha_r < 2 and -2 < beta_orb < 2 and -2 < beta_inf < 2 and -2 < beta_los < 2 and -2 < beta_r < 2 and 1 < lnsp_orb < 10 and 1 < lnsp_inf < 10 and lnsp_los < 50 and a1 < 0 and 0.2 < b0 < 1 and b1 < 0 and 0 < c0 <= 1 and c1 < 0 and (f_good > 0).all() and (f_orb >= 0).all() and 1 < r_p < 5 and k > 0:\n",
    "        lp=0\n",
    "    else:\n",
    "        lp=-1e100\n",
    "        \n",
    "    return -np.sum(np.log(f_good*(f_orb*orb_gaussian+(1-f_orb)*inf_gaussian)+(1-f_good)*los_gaussian))-lp"
   ]
  },
  {
   "cell_type": "code",
   "execution_count": 346,
   "metadata": {},
   "outputs": [],
   "source": [
    "fname = \"last_catalog.npy\"\n",
    "dt = np.load(fname)\n",
    "pax=pd.DataFrame.from_records(dt.tolist(), columns=dt.dtype.names)\n",
    "rich=pax.LAMBDA_CHISQ\n",
    "zcen=pax.BCG_SPEC_Z\n",
    "r=pax.R\n",
    "x=pax.R/pax.R_LAMBDA\n",
    "v=pax.Velocity / 100000\n",
    "ra=pax.MEM_RA\n",
    "dec=pax.MEM_DEC\n",
    "sigma_obs = c*((pax.ZMEM_ERR**2 + pax.ZCEN_ERR**2)**(0.5)) / 100000\n",
    "pax=pd.DataFrame({'rich':rich,'zcen':zcen,'x':x,'r':r,'v':v,'ra':ra,'dec':dec,'sigma_obs':sigma_obs});\n",
    "df=pax\n",
    "\n",
    "origin2=(a1, a2, b1, c1, c2, lnsp_orb, k, alpha_orb, beta_orb, lnsp_inf, alpha_inf, beta_inf, lnsp_los, alpha_los, beta_los, r_p, alpha_r, beta_r)\n",
    "min=np.array([-1,-1,-1,-1,-1,1,0,0.05,-2,1,0.05,-2,1,0.05,-2,1,-2,-2])\n",
    "max=np.array([0,1,0,0,0,10,1,1,2,10,1,2,50,1,2,5,2,2])\n",
    "\n",
    "bnds=[(x,y) for x, y in zip(min, max)]\n",
    "\n",
    "m = Minuit.from_array_func(nlnlike3, origin2,limit=bnds,errordef=0.5,pedantic=False)"
   ]
  },
  {
   "cell_type": "code",
   "execution_count": 347,
   "metadata": {},
   "outputs": [
    {
     "data": {
      "text/html": [
       "<table>\n",
       "<tr>\n",
       "<td colspan=\"2\" title=\"Minimum value of function\">\n",
       "FCN = 3.448E+05\n",
       "</td>\n",
       "<td align=\"center\" colspan=\"3\" title=\"No. of calls in last algorithm and total number of calls\">\n",
       "Ncalls = 2303 (2303 total)\n",
       "</td>\n",
       "</tr>\n",
       "<tr>\n",
       "<td colspan=\"2\" title=\"Estimated distance to minimum and target threshold\">\n",
       "EDM = 0.00629 (Goal: 0.0001)\n",
       "</td>\n",
       "<td align=\"center\" colspan=\"3\" title=\"Increase in FCN which corresponds to 1 standard deviation\">\n",
       "up = 0.5\n",
       "</td>\n",
       "</tr>\n",
       "<tr>\n",
       "<td align=\"center\" title=\"Validity of the migrad call\">\n",
       "Valid Min.\n",
       "</td>\n",
       "<td align=\"center\" title=\"Validity of parameters\">\n",
       "Valid Param.\n",
       "</td>\n",
       "<td align=\"center\" title=\"Is EDM above goal EDM?\">\n",
       "Above EDM\n",
       "</td>\n",
       "<td align=\"center\" colspan=\"2\" title=\"Did last migrad call reach max call limit?\">\n",
       "Reached call limit\n",
       "</td>\n",
       "</tr>\n",
       "<tr>\n",
       "<td align=\"center\" style=\"background-color:#FF7878;\">\n",
       "False\n",
       "</td>\n",
       "<td align=\"center\" style=\"background-color:#92CCA6;\">\n",
       "True\n",
       "</td>\n",
       "<td align=\"center\" style=\"background-color:#FF7878;\">\n",
       "True\n",
       "</td>\n",
       "<td align=\"center\" colspan=\"2\" style=\"background-color:#92CCA6;\">\n",
       "False\n",
       "</td>\n",
       "</tr>\n",
       "<tr>\n",
       "<td align=\"center\" title=\"Did Hesse fail?\">\n",
       "Hesse failed\n",
       "</td>\n",
       "<td align=\"center\" title=\"Has covariance matrix\">\n",
       "Has cov.\n",
       "</td>\n",
       "<td align=\"center\" title=\"Is covariance matrix accurate?\">\n",
       "Accurate\n",
       "</td>\n",
       "<td align=\"center\" title=\"Is covariance matrix positive definite?\">\n",
       "Pos. def.\n",
       "</td>\n",
       "<td align=\"center\" title=\"Was positive definiteness enforced by Minuit?\">\n",
       "Forced\n",
       "</td>\n",
       "</tr>\n",
       "<tr>\n",
       "<td align=\"center\" style=\"background-color:#92CCA6;\">\n",
       "False\n",
       "</td>\n",
       "<td align=\"center\" style=\"background-color:#92CCA6;\">\n",
       "True\n",
       "</td>\n",
       "<td align=\"center\" style=\"background-color:#92CCA6;\">\n",
       "True\n",
       "</td>\n",
       "<td align=\"center\" style=\"background-color:#92CCA6;\">\n",
       "True\n",
       "</td>\n",
       "<td align=\"center\" style=\"background-color:#92CCA6;\">\n",
       "False\n",
       "</td>\n",
       "</tr>\n",
       "</table>\n",
       "<table>\n",
       "<tr style=\"background-color:#F4F4F4;\">\n",
       "<td/>\n",
       "<th title=\"Variable name\">\n",
       "Name\n",
       "</th>\n",
       "<th title=\"Value of parameter\">\n",
       "Value\n",
       "</th>\n",
       "<th title=\"Hesse error\">\n",
       "Hesse Error\n",
       "</th>\n",
       "<th title=\"Minos lower error\">\n",
       "Minos Error-\n",
       "</th>\n",
       "<th title=\"Minos upper error\">\n",
       "Minos Error+\n",
       "</th>\n",
       "<th title=\"Lower limit of the parameter\">\n",
       "Limit-\n",
       "</th>\n",
       "<th title=\"Upper limit of the parameter\">\n",
       "Limit+\n",
       "</th>\n",
       "<th title=\"Is the parameter fixed in the fit\">\n",
       "Fixed\n",
       "</th>\n",
       "</tr>\n",
       "<tr style=\"background-color:#FFFFFF;\">\n",
       "<td>\n",
       "0\n",
       "</td>\n",
       "<td>\n",
       "x0\n",
       "</td>\n",
       "<td>\n",
       "-0.80\n",
       "</td>\n",
       "<td>\n",
       " 0.04\n",
       "</td>\n",
       "<td>\n",
       "\n",
       "</td>\n",
       "<td>\n",
       "\n",
       "</td>\n",
       "<td>\n",
       "-1\n",
       "</td>\n",
       "<td>\n",
       "0\n",
       "</td>\n",
       "<td>\n",
       "\n",
       "</td>\n",
       "</tr>\n",
       "<tr style=\"background-color:#F4F4F4;\">\n",
       "<td>\n",
       "1\n",
       "</td>\n",
       "<td>\n",
       "x1\n",
       "</td>\n",
       "<td>\n",
       "0.13\n",
       "</td>\n",
       "<td>\n",
       "0.04\n",
       "</td>\n",
       "<td>\n",
       "\n",
       "</td>\n",
       "<td>\n",
       "\n",
       "</td>\n",
       "<td>\n",
       "-1\n",
       "</td>\n",
       "<td>\n",
       "1\n",
       "</td>\n",
       "<td>\n",
       "\n",
       "</td>\n",
       "</tr>\n",
       "<tr style=\"background-color:#FFFFFF;\">\n",
       "<td>\n",
       "2\n",
       "</td>\n",
       "<td>\n",
       "x2\n",
       "</td>\n",
       "<td>\n",
       "-0.099\n",
       "</td>\n",
       "<td>\n",
       " 0.008\n",
       "</td>\n",
       "<td>\n",
       "\n",
       "</td>\n",
       "<td>\n",
       "\n",
       "</td>\n",
       "<td>\n",
       "-1\n",
       "</td>\n",
       "<td>\n",
       "0\n",
       "</td>\n",
       "<td>\n",
       "\n",
       "</td>\n",
       "</tr>\n",
       "<tr style=\"background-color:#F4F4F4;\">\n",
       "<td>\n",
       "3\n",
       "</td>\n",
       "<td>\n",
       "x3\n",
       "</td>\n",
       "<td>\n",
       "-0.000E-1\n",
       "</td>\n",
       "<td>\n",
       " 0.834E-1\n",
       "</td>\n",
       "<td>\n",
       "\n",
       "</td>\n",
       "<td>\n",
       "\n",
       "</td>\n",
       "<td>\n",
       "-1\n",
       "</td>\n",
       "<td>\n",
       "0\n",
       "</td>\n",
       "<td>\n",
       "\n",
       "</td>\n",
       "</tr>\n",
       "<tr style=\"background-color:#FFFFFF;\">\n",
       "<td>\n",
       "4\n",
       "</td>\n",
       "<td>\n",
       "x4\n",
       "</td>\n",
       "<td>\n",
       "-0.911\n",
       "</td>\n",
       "<td>\n",
       " 0.029\n",
       "</td>\n",
       "<td>\n",
       "\n",
       "</td>\n",
       "<td>\n",
       "\n",
       "</td>\n",
       "<td>\n",
       "-1\n",
       "</td>\n",
       "<td>\n",
       "0\n",
       "</td>\n",
       "<td>\n",
       "\n",
       "</td>\n",
       "</tr>\n",
       "<tr style=\"background-color:#F4F4F4;\">\n",
       "<td>\n",
       "5\n",
       "</td>\n",
       "<td>\n",
       "x5\n",
       "</td>\n",
       "<td>\n",
       "1.962\n",
       "</td>\n",
       "<td>\n",
       "0.014\n",
       "</td>\n",
       "<td>\n",
       "\n",
       "</td>\n",
       "<td>\n",
       "\n",
       "</td>\n",
       "<td>\n",
       "1\n",
       "</td>\n",
       "<td>\n",
       "10\n",
       "</td>\n",
       "<td>\n",
       "\n",
       "</td>\n",
       "</tr>\n",
       "<tr style=\"background-color:#FFFFFF;\">\n",
       "<td>\n",
       "6\n",
       "</td>\n",
       "<td>\n",
       "x6\n",
       "</td>\n",
       "<td>\n",
       "1.000\n",
       "</td>\n",
       "<td>\n",
       "0.021\n",
       "</td>\n",
       "<td>\n",
       "\n",
       "</td>\n",
       "<td>\n",
       "\n",
       "</td>\n",
       "<td>\n",
       "0\n",
       "</td>\n",
       "<td>\n",
       "1\n",
       "</td>\n",
       "<td>\n",
       "\n",
       "</td>\n",
       "</tr>\n",
       "<tr style=\"background-color:#F4F4F4;\">\n",
       "<td>\n",
       "7\n",
       "</td>\n",
       "<td>\n",
       "x7\n",
       "</td>\n",
       "<td>\n",
       "0.424\n",
       "</td>\n",
       "<td>\n",
       "0.017\n",
       "</td>\n",
       "<td>\n",
       "\n",
       "</td>\n",
       "<td>\n",
       "\n",
       "</td>\n",
       "<td>\n",
       "0.05\n",
       "</td>\n",
       "<td>\n",
       "1\n",
       "</td>\n",
       "<td>\n",
       "\n",
       "</td>\n",
       "</tr>\n",
       "<tr style=\"background-color:#FFFFFF;\">\n",
       "<td>\n",
       "8\n",
       "</td>\n",
       "<td>\n",
       "x8\n",
       "</td>\n",
       "<td>\n",
       "0.38\n",
       "</td>\n",
       "<td>\n",
       "0.16\n",
       "</td>\n",
       "<td>\n",
       "\n",
       "</td>\n",
       "<td>\n",
       "\n",
       "</td>\n",
       "<td>\n",
       "-2\n",
       "</td>\n",
       "<td>\n",
       "2\n",
       "</td>\n",
       "<td>\n",
       "\n",
       "</td>\n",
       "</tr>\n",
       "<tr style=\"background-color:#F4F4F4;\">\n",
       "<td>\n",
       "9\n",
       "</td>\n",
       "<td>\n",
       "x9\n",
       "</td>\n",
       "<td>\n",
       "1.241\n",
       "</td>\n",
       "<td>\n",
       "0.014\n",
       "</td>\n",
       "<td>\n",
       "\n",
       "</td>\n",
       "<td>\n",
       "\n",
       "</td>\n",
       "<td>\n",
       "1\n",
       "</td>\n",
       "<td>\n",
       "10\n",
       "</td>\n",
       "<td>\n",
       "\n",
       "</td>\n",
       "</tr>\n",
       "<tr style=\"background-color:#FFFFFF;\">\n",
       "<td>\n",
       "10\n",
       "</td>\n",
       "<td>\n",
       "x10\n",
       "</td>\n",
       "<td>\n",
       "0.364\n",
       "</td>\n",
       "<td>\n",
       "0.024\n",
       "</td>\n",
       "<td>\n",
       "\n",
       "</td>\n",
       "<td>\n",
       "\n",
       "</td>\n",
       "<td>\n",
       "0.05\n",
       "</td>\n",
       "<td>\n",
       "1\n",
       "</td>\n",
       "<td>\n",
       "\n",
       "</td>\n",
       "</tr>\n",
       "<tr style=\"background-color:#F4F4F4;\">\n",
       "<td>\n",
       "11\n",
       "</td>\n",
       "<td>\n",
       "x11\n",
       "</td>\n",
       "<td>\n",
       "-0.15\n",
       "</td>\n",
       "<td>\n",
       " 0.22\n",
       "</td>\n",
       "<td>\n",
       "\n",
       "</td>\n",
       "<td>\n",
       "\n",
       "</td>\n",
       "<td>\n",
       "-2\n",
       "</td>\n",
       "<td>\n",
       "2\n",
       "</td>\n",
       "<td>\n",
       "\n",
       "</td>\n",
       "</tr>\n",
       "<tr style=\"background-color:#FFFFFF;\">\n",
       "<td>\n",
       "12\n",
       "</td>\n",
       "<td>\n",
       "x12\n",
       "</td>\n",
       "<td>\n",
       "2.914\n",
       "</td>\n",
       "<td>\n",
       "0.004\n",
       "</td>\n",
       "<td>\n",
       "\n",
       "</td>\n",
       "<td>\n",
       "\n",
       "</td>\n",
       "<td>\n",
       "1\n",
       "</td>\n",
       "<td>\n",
       "50\n",
       "</td>\n",
       "<td>\n",
       "\n",
       "</td>\n",
       "</tr>\n",
       "<tr style=\"background-color:#F4F4F4;\">\n",
       "<td>\n",
       "13\n",
       "</td>\n",
       "<td>\n",
       "x13\n",
       "</td>\n",
       "<td>\n",
       "0.455\n",
       "</td>\n",
       "<td>\n",
       "0.009\n",
       "</td>\n",
       "<td>\n",
       "\n",
       "</td>\n",
       "<td>\n",
       "\n",
       "</td>\n",
       "<td>\n",
       "0.05\n",
       "</td>\n",
       "<td>\n",
       "1\n",
       "</td>\n",
       "<td>\n",
       "\n",
       "</td>\n",
       "</tr>\n",
       "<tr style=\"background-color:#FFFFFF;\">\n",
       "<td>\n",
       "14\n",
       "</td>\n",
       "<td>\n",
       "x14\n",
       "</td>\n",
       "<td>\n",
       "-0.06\n",
       "</td>\n",
       "<td>\n",
       " 0.08\n",
       "</td>\n",
       "<td>\n",
       "\n",
       "</td>\n",
       "<td>\n",
       "\n",
       "</td>\n",
       "<td>\n",
       "-2\n",
       "</td>\n",
       "<td>\n",
       "2\n",
       "</td>\n",
       "<td>\n",
       "\n",
       "</td>\n",
       "</tr>\n",
       "<tr style=\"background-color:#F4F4F4;\">\n",
       "<td>\n",
       "15\n",
       "</td>\n",
       "<td>\n",
       "x15\n",
       "</td>\n",
       "<td>\n",
       "1.83\n",
       "</td>\n",
       "<td>\n",
       "0.05\n",
       "</td>\n",
       "<td>\n",
       "\n",
       "</td>\n",
       "<td>\n",
       "\n",
       "</td>\n",
       "<td>\n",
       "1\n",
       "</td>\n",
       "<td>\n",
       "5\n",
       "</td>\n",
       "<td>\n",
       "\n",
       "</td>\n",
       "</tr>\n",
       "<tr style=\"background-color:#FFFFFF;\">\n",
       "<td>\n",
       "16\n",
       "</td>\n",
       "<td>\n",
       "x16\n",
       "</td>\n",
       "<td>\n",
       "0.34\n",
       "</td>\n",
       "<td>\n",
       "0.04\n",
       "</td>\n",
       "<td>\n",
       "\n",
       "</td>\n",
       "<td>\n",
       "\n",
       "</td>\n",
       "<td>\n",
       "-2\n",
       "</td>\n",
       "<td>\n",
       "2\n",
       "</td>\n",
       "<td>\n",
       "\n",
       "</td>\n",
       "</tr>\n",
       "<tr style=\"background-color:#F4F4F4;\">\n",
       "<td>\n",
       "17\n",
       "</td>\n",
       "<td>\n",
       "x17\n",
       "</td>\n",
       "<td>\n",
       "-0.67\n",
       "</td>\n",
       "<td>\n",
       " 0.28\n",
       "</td>\n",
       "<td>\n",
       "\n",
       "</td>\n",
       "<td>\n",
       "\n",
       "</td>\n",
       "<td>\n",
       "-2\n",
       "</td>\n",
       "<td>\n",
       "2\n",
       "</td>\n",
       "<td>\n",
       "\n",
       "</td>\n",
       "</tr>\n",
       "</table>\n"
      ],
      "text/plain": [
       "------------------------------------------------------------------\n",
       "| FCN = 3.448E+05               |    Ncalls=2303 (2303 total)    |\n",
       "| EDM = 0.00629 (Goal: 0.0001)  |            up = 0.5            |\n",
       "------------------------------------------------------------------\n",
       "|  Valid Min.   | Valid Param.  | Above EDM | Reached call limit |\n",
       "------------------------------------------------------------------\n",
       "|     False     |     True      |   True    |       False        |\n",
       "------------------------------------------------------------------\n",
       "| Hesse failed  |   Has cov.    | Accurate  | Pos. def. | Forced |\n",
       "------------------------------------------------------------------\n",
       "|     False     |     True      |   True    |   True    | False  |\n",
       "------------------------------------------------------------------\n",
       "------------------------------------------------------------------------------------------\n",
       "|   | Name |   Value   | Hesse Err | Minos Err- | Minos Err+ | Limit-  | Limit+  | Fixed |\n",
       "------------------------------------------------------------------------------------------\n",
       "| 0 | x0   |   -0.80   |    0.04   |            |            |   -1    |    0    |       |\n",
       "| 1 | x1   |   0.13    |   0.04    |            |            |   -1    |    1    |       |\n",
       "| 2 | x2   |  -0.099   |   0.008   |            |            |   -1    |    0    |       |\n",
       "| 3 | x3   | -0.000E-1 |  0.834E-1 |            |            |   -1    |    0    |       |\n",
       "| 4 | x4   |  -0.911   |   0.029   |            |            |   -1    |    0    |       |\n",
       "| 5 | x5   |   1.962   |   0.014   |            |            |    1    |   10    |       |\n",
       "| 6 | x6   |   1.000   |   0.021   |            |            |    0    |    1    |       |\n",
       "| 7 | x7   |   0.424   |   0.017   |            |            |  0.05   |    1    |       |\n",
       "| 8 | x8   |   0.38    |   0.16    |            |            |   -2    |    2    |       |\n",
       "| 9 | x9   |   1.241   |   0.014   |            |            |    1    |   10    |       |\n",
       "| 10| x10  |   0.364   |   0.024   |            |            |  0.05   |    1    |       |\n",
       "| 11| x11  |   -0.15   |    0.22   |            |            |   -2    |    2    |       |\n",
       "| 12| x12  |   2.914   |   0.004   |            |            |    1    |   50    |       |\n",
       "| 13| x13  |   0.455   |   0.009   |            |            |  0.05   |    1    |       |\n",
       "| 14| x14  |   -0.06   |    0.08   |            |            |   -2    |    2    |       |\n",
       "| 15| x15  |   1.83    |   0.05    |            |            |    1    |    5    |       |\n",
       "| 16| x16  |   0.34    |   0.04    |            |            |   -2    |    2    |       |\n",
       "| 17| x17  |   -0.67   |    0.28   |            |            |   -2    |    2    |       |\n",
       "------------------------------------------------------------------------------------------"
      ]
     },
     "execution_count": 347,
     "metadata": {},
     "output_type": "execute_result"
    }
   ],
   "source": [
    "m.migrad()"
   ]
  },
  {
   "cell_type": "code",
   "execution_count": 348,
   "metadata": {},
   "outputs": [],
   "source": [
    "a1, a2, b1, c1, c2, lnsp_orb, k, alpha_orb, beta_orb, lnsp_inf, alpha_inf, beta_inf, lnsp_los, alpha_los, beta_los, r_p, alpha_r, beta_r=origin"
   ]
  },
  {
   "cell_type": "code",
   "execution_count": 349,
   "metadata": {},
   "outputs": [],
   "source": [
    "da1, da2, db1, dc1, dc2, dlnsp_orb, dk, dalpha_orb, dbeta_orb, dlnsp_inf, dalpha_inf, dbeta_inf, dlnsp_los, dalpha_los, dbeta_los, dr_p, dalpha_r, dbeta_r=delta"
   ]
  },
  {
   "cell_type": "code",
   "execution_count": 350,
   "metadata": {},
   "outputs": [
    {
     "name": "stdout",
     "output_type": "stream",
     "text": [
      "Paper model parameters\n",
      "a1 = -0.512 ± 0.300\n",
      "a2 = -0.032 ± 0.053\n",
      "b1 = -0.010 ± 0.100\n",
      "c1 = -0.061 ± 0.180\n",
      "c2 = -0.693 ± 0.400\n",
      "sp_orb = 7.770 ± 1.561\n",
      "sp_inf = 4.480 ± 2.813\n",
      "sp_los = 38.730 ± 0.148\n",
      "alpha_orb = 0.430 ± 0.019\n",
      "alpha_inf = 0.363 ± 0.363\n",
      "alpha_los = 0.503 ± 0.066\n",
      "beta_orb = 0.353 ± 0.195\n",
      "beta_inf = 0.113 ± 0.195\n",
      "beta_los = -0.328 ± 0.480\n",
      "alpha_r = 0.305 ± 0.034\n",
      "beta_r = -0.385 ± 0.289\n",
      "r_p = 1.790 ± 0.120\n"
     ]
    }
   ],
   "source": [
    "print(\"Paper model parameters\")\n",
    "print(\"a1 = %.3f\" % a1,u\"\\u00B1\", \"%.3f\" % da1)\n",
    "print(\"a2 = %.3f\" % a2,u\"\\u00B1\", \"%.3f\" % da2)\n",
    "print(\"b1 = %.3f\" % b1,u\"\\u00B1\", \"%.3f\" % db1)\n",
    "print(\"c1 = %.3f\" % c1,u\"\\u00B1\", \"%.3f\" % dc1)\n",
    "print(\"c2 = %.3f\" % c2,u\"\\u00B1\", \"%.3f\" % dc2)\n",
    "print(\"sp_orb = %.3f\" % np.exp(lnsp_orb),u\"\\u00B1\", \"%.3f\" % dlnsp_orb)\n",
    "print(\"sp_inf = %.3f\" % np.exp(lnsp_inf),u\"\\u00B1\", \"%.3f\" % dlnsp_inf,)\n",
    "print(\"sp_los = %.3f\" % np.exp(lnsp_los),u\"\\u00B1\", \"%.3f\" % dlnsp_los)\n",
    "print(\"alpha_orb = %.3f\" % alpha_orb,u\"\\u00B1\", \"%.3f\" % dalpha_orb)\n",
    "print(\"alpha_inf = %.3f\" % alpha_inf,u\"\\u00B1\", \"%.3f\" % dalpha_inf)\n",
    "print(\"alpha_los = %.3f\" % alpha_los,u\"\\u00B1\", \"%.3f\" % dalpha_los)\n",
    "print(\"beta_orb = %.3f\" % beta_orb,u\"\\u00B1\", \"%.3f\" % dbeta_orb)\n",
    "print(\"beta_inf = %.3f\" % beta_inf,u\"\\u00B1\", \"%.3f\" % dbeta_orb)\n",
    "print(\"beta_los = %.3f\" % beta_los,u\"\\u00B1\", \"%.3f\" % dbeta_los)\n",
    "print(\"alpha_r = %.3f\" % alpha_r,u\"\\u00B1\", \"%.3f\" % dalpha_r)\n",
    "print(\"beta_r = %.3f\" % beta_r,u\"\\u00B1\", \"%.3f\" % dbeta_r)\n",
    "print(\"r_p = %.3f\" % r_p,u\"\\u00B1\", \"%.3f\" % dr_p)"
   ]
  },
  {
   "cell_type": "code",
   "execution_count": 351,
   "metadata": {},
   "outputs": [],
   "source": [
    "a1, a2, b1, c1, c2, lnsp_orb, k, alpha_orb, beta_orb, lnsp_inf, alpha_inf, beta_inf, lnsp_los, alpha_los, beta_los, r_p, alpha_r, beta_r=m.values[0],m.values[1],m.values[2],m.values[3],m.values[4],m.values[5],m.values[6],m.values[7],m.values[8],m.values[9],m.values[10],m.values[11],m.values[12],m.values[13],m.values[14],m.values[15],m.values[16],m.values[17]"
   ]
  },
  {
   "cell_type": "code",
   "execution_count": 352,
   "metadata": {},
   "outputs": [],
   "source": [
    "da1, da2, db1, dc1, dc2, dlnsp_orb, dk, dalpha_orb, dbeta_orb, dlnsp_inf, dalpha_inf, dbeta_inf, dlnsp_los, dalpha_los, dbeta_los, dr_p, dalpha_r, dbeta_r=m.errors[0],m.errors[1],m.errors[2],m.errors[3],m.errors[4],m.errors[5],m.errors[6],m.errors[7],m.errors[8],m.errors[9],m.errors[10],m.errors[11],m.errors[12],m.errors[13],m.errors[14],m.errors[15],m.errors[16],m.errors[17]"
   ]
  },
  {
   "cell_type": "code",
   "execution_count": 408,
   "metadata": {},
   "outputs": [],
   "source": [
    "delta_minuit=[da1, da2, db1, -dc1, dc2, dlnsp_orb*np.exp(lnsp_orb), -dk, dalpha_orb, dbeta_orb, dlnsp_inf*np.exp(lnsp_inf), dalpha_inf, dbeta_inf, dlnsp_los*np.exp(lnsp_los), dalpha_los, dbeta_los, dr_p, dalpha_r, dbeta_r]\n",
    "delta_minuit=np.array(delta_minuit)"
   ]
  },
  {
   "cell_type": "code",
   "execution_count": 354,
   "metadata": {},
   "outputs": [
    {
     "name": "stdout",
     "output_type": "stream",
     "text": [
      "Minuit model parameters\n",
      "a1 = -0.802 ± 0.042\n",
      "a2 = 0.128 ± 0.039\n",
      "b1 = -0.099 ± 0.008\n",
      "c1 = -0.000 ± 0.083\n",
      "c2 = -0.911 ± 0.029\n",
      "sp_orb = 7.114 ± 0.102\n",
      "sp_inf = 3.458 ± 0.048\n",
      "sp_los = 18.424 ± 0.072\n",
      "alpha_orb = 0.424 ± 0.017\n",
      "alpha_inf = 0.364 ± 0.024\n",
      "alpha_los = 0.455 ± 0.009\n",
      "beta_orb = 0.379 ± 0.161\n",
      "beta_inf = -0.151 ± 0.161\n",
      "beta_los = -0.064 ± 0.076\n",
      "alpha_r = 0.340 ± 0.035\n",
      "beta_r = -0.669 ± 0.277\n",
      "r_p = 1.827 ± 0.049\n"
     ]
    }
   ],
   "source": [
    "print(\"Minuit model parameters\")\n",
    "print(\"a1 = %.3f\" % a1,u\"\\u00B1\", \"%.3f\" % da1)\n",
    "print(\"a2 = %.3f\" % a2,u\"\\u00B1\", \"%.3f\" % da2)\n",
    "print(\"b1 = %.3f\" % b1,u\"\\u00B1\", \"%.3f\" % db1)\n",
    "print(\"c1 = %.3f\" % c1,u\"\\u00B1\", \"%.3f\" % dc1)\n",
    "print(\"c2 = %.3f\" % c2,u\"\\u00B1\", \"%.3f\" % dc2)\n",
    "print(\"sp_orb = %.3f\" % np.exp(lnsp_orb),u\"\\u00B1\", \"%.3f\" % np.multiply(dlnsp_orb,np.exp(lnsp_orb)))\n",
    "print(\"sp_inf = %.3f\" % np.exp(lnsp_inf),u\"\\u00B1\", \"%.3f\" % np.multiply(dlnsp_inf,np.exp(lnsp_inf)))\n",
    "print(\"sp_los = %.3f\" % np.exp(lnsp_los),u\"\\u00B1\", \"%.3f\" % np.multiply(dlnsp_los,np.exp(lnsp_los)))\n",
    "print(\"alpha_orb = %.3f\" % alpha_orb,u\"\\u00B1\", \"%.3f\" % dalpha_orb)\n",
    "print(\"alpha_inf = %.3f\" % alpha_inf,u\"\\u00B1\", \"%.3f\" % dalpha_inf)\n",
    "print(\"alpha_los = %.3f\" % alpha_los,u\"\\u00B1\", \"%.3f\" % dalpha_los)\n",
    "print(\"beta_orb = %.3f\" % beta_orb,u\"\\u00B1\", \"%.3f\" % dbeta_orb)\n",
    "print(\"beta_inf = %.3f\" % beta_inf,u\"\\u00B1\", \"%.3f\" % dbeta_orb)\n",
    "print(\"beta_los = %.3f\" % beta_los,u\"\\u00B1\", \"%.3f\" % dbeta_los)\n",
    "print(\"alpha_r = %.3f\" % alpha_r,u\"\\u00B1\", \"%.3f\" % dalpha_r)\n",
    "print(\"beta_r = %.3f\" % beta_r,u\"\\u00B1\", \"%.3f\" % dbeta_r)\n",
    "print(\"r_p = %.3f\" % r_p,u\"\\u00B1\", \"%.3f\" % dr_p)"
   ]
  },
  {
   "cell_type": "code",
   "execution_count": 417,
   "metadata": {},
   "outputs": [],
   "source": [
    "a1, a2, b1, c1, c2, lnsp_orb, k, alpha_orb, beta_orb, lnsp_inf, alpha_inf, beta_inf, lnsp_los, alpha_los, beta_los, r_p, alpha_r, beta_r=mcmc_minuit"
   ]
  },
  {
   "cell_type": "code",
   "execution_count": 428,
   "metadata": {},
   "outputs": [
    {
     "name": "stdout",
     "output_type": "stream",
     "text": [
      "Minuit model parameters\n",
      "a1 = -0.812 ± 0.042\n",
      "a2 = 0.123 ± 0.039\n",
      "b1 = -0.095 ± 0.008\n",
      "c1 = 0.031 ± 0.083\n",
      "c2 = -0.902 ± 0.029\n",
      "sp_orb = 2.718 ± 0.039\n",
      "sp_inf = 3.480 ± 0.048\n",
      "sp_los = 19.345 ± 0.075\n",
      "alpha_orb = 0.410 ± 0.017\n",
      "alpha_inf = 0.374 ± 0.024\n",
      "alpha_los = 0.455 ± 0.009\n",
      "beta_orb = 0.433 ± 0.161\n",
      "beta_inf = -0.135 ± 0.161\n",
      "beta_los = -0.117 ± 0.076\n",
      "alpha_r = 0.327 ± 0.035\n",
      "beta_r = -1.229 ± 0.277\n",
      "r_p = 1.758 ± 0.049\n"
     ]
    }
   ],
   "source": [
    "print(\"Minuit model parameters\")\n",
    "print(\"a1 = %.3f\" % a1,u\"\\u00B1\", \"%.3f\" % da1)\n",
    "print(\"a2 = %.3f\" % a2,u\"\\u00B1\", \"%.3f\" % da2)\n",
    "print(\"b1 = %.3f\" % b1,u\"\\u00B1\", \"%.3f\" % db1)\n",
    "print(\"c1 = %.3f\" % c1,u\"\\u00B1\", \"%.3f\" % dc1)\n",
    "print(\"c2 = %.3f\" % c2,u\"\\u00B1\", \"%.3f\" % dc2)\n",
    "print(\"sp_orb = %.3f\" % np.exp(lnsp_orb),u\"\\u00B1\", \"%.3f\" % np.multiply(dlnsp_orb,np.exp(lnsp_orb)))\n",
    "print(\"sp_inf = %.3f\" % np.exp(lnsp_inf),u\"\\u00B1\", \"%.3f\" % np.multiply(dlnsp_inf,np.exp(lnsp_inf)))\n",
    "print(\"sp_los = %.3f\" % np.exp(lnsp_los),u\"\\u00B1\", \"%.3f\" % np.multiply(dlnsp_los,np.exp(lnsp_los)))\n",
    "print(\"alpha_orb = %.3f\" % alpha_orb,u\"\\u00B1\", \"%.3f\" % dalpha_orb)\n",
    "print(\"alpha_inf = %.3f\" % alpha_inf,u\"\\u00B1\", \"%.3f\" % dalpha_inf)\n",
    "print(\"alpha_los = %.3f\" % alpha_los,u\"\\u00B1\", \"%.3f\" % dalpha_los)\n",
    "print(\"beta_orb = %.3f\" % beta_orb,u\"\\u00B1\", \"%.3f\" % dbeta_orb)\n",
    "print(\"beta_inf = %.3f\" % beta_inf,u\"\\u00B1\", \"%.3f\" % dbeta_orb)\n",
    "print(\"beta_los = %.3f\" % beta_los,u\"\\u00B1\", \"%.3f\" % dbeta_los)\n",
    "print(\"alpha_r = %.3f\" % alpha_r,u\"\\u00B1\", \"%.3f\" % dalpha_r)\n",
    "print(\"beta_r = %.3f\" % beta_r,u\"\\u00B1\", \"%.3f\" % dbeta_r)\n",
    "print(\"r_p = %.3f\" % r_p,u\"\\u00B1\", \"%.3f\" % dr_p)"
   ]
  },
  {
   "cell_type": "code",
   "execution_count": 429,
   "metadata": {},
   "outputs": [],
   "source": [
    "mcmc_minuit=[a1, a2, b1, c1, c2, lnsp_orb, k, alpha_orb, beta_orb, lnsp_inf, alpha_inf, beta_inf, lnsp_los, alpha_los, beta_los, r_p, alpha_r, beta_r]"
   ]
  },
  {
   "cell_type": "code",
   "execution_count": 423,
   "metadata": {},
   "outputs": [],
   "source": [
    "def nlnlike4(parameters,v,r,rich,zcen,sigma_obs):\n",
    "    a1, a2, b1, c1, c2, lnsp_orb, k, alpha_orb, beta_orb, lnsp_inf, alpha_inf, beta_inf, lnsp_los, alpha_los, beta_los, r_p, alpha_r, beta_r=parameters\n",
    "\n",
    "    b0 = 1 + a1 + a2 #calculated from constraint equations\n",
    "    c0 = -(c1 + c2) #calculated from constraint equations\n",
    "\n",
    "    z_p = np.median(zcen)\n",
    "    lambda_p = np.median(rich)\n",
    "\n",
    "    r_edge = r_p*((1+zcen)/(1+z_p))**beta_r*(rich/lambda_p)**alpha_r\n",
    "\n",
    "    f_good = b0 + b1*(r/r_edge-1)\n",
    "    f_orb = np.zeros_like(r)\n",
    "\n",
    "    lt_xt = np.where(r < r_edge)[0]\n",
    "    f_good[lt_xt] = 1 + a1*r[lt_xt]/r_edge[lt_xt] + a2*((r[lt_xt]/r_edge[lt_xt])**2)\n",
    "    f_orb[lt_xt] = c0 + c1*r[lt_xt]/r_edge[lt_xt] + c2*((r[lt_xt]/r_edge[lt_xt])**2)\n",
    "\n",
    "    orb_sigmav = calc_sigma_v([lnsp_orb, alpha_orb, beta_orb, z_p, lambda_p], zcen, rich)/(1+k*r/r_edge)**0.5\n",
    "    orb_sigmat = (orb_sigmav**2 + sigma_obs**2)**0.5\n",
    "    orb_gaussian = np.exp(-0.5*((v/orb_sigmat)**2))/(np.sqrt(2*np.pi)*orb_sigmat)\n",
    "\n",
    "    inf_sigmav = calc_sigma_v([lnsp_inf, alpha_inf, beta_inf, z_p, lambda_p], zcen, rich)\n",
    "    inf_sigmat = (inf_sigmav**2 + sigma_obs**2)**0.5\n",
    "    inf_gaussian = np.exp(-0.5*((v/inf_sigmat)**2))/(np.sqrt(2*np.pi)*inf_sigmat)\n",
    "\n",
    "    los_sigmav = calc_sigma_v([lnsp_los, alpha_los, beta_los, z_p, lambda_p], zcen, rich)\n",
    "    los_sigmat = (los_sigmav**2 + sigma_obs**2)**0.5\n",
    "    los_gaussian = background_gaussian(v, rich, los_sigmat)\n",
    "\n",
    "    return np.sum(np.log(f_good*(f_orb*orb_gaussian+(1-f_orb)*inf_gaussian)+(1-f_good)*los_gaussian))"
   ]
  }
 ],
 "metadata": {
  "kernelspec": {
   "display_name": "Python 3",
   "language": "python",
   "name": "python3"
  },
  "language_info": {
   "codemirror_mode": {
    "name": "ipython",
    "version": 3
   },
   "file_extension": ".py",
   "mimetype": "text/x-python",
   "name": "python",
   "nbconvert_exporter": "python",
   "pygments_lexer": "ipython3",
   "version": "3.7.6"
  }
 },
 "nbformat": 4,
 "nbformat_minor": 4
}
