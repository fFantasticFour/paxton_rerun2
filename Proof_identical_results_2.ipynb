{
 "cells": [
  {
   "cell_type": "code",
   "execution_count": 1,
   "metadata": {},
   "outputs": [],
   "source": [
    "from scipy.constants import c\n",
    "import numpy as np\n",
    "from numpy.lib import recfunctions as rec\n",
    "from astropy.io          import fits\n",
    "from astropy.coordinates import SkyCoord, Angle, search_around_sky\n",
    "from astropy             import units as u\n",
    "from astropy import cosmology\n",
    "from astropy.cosmology import FlatLambdaCDM\n",
    "from matplotlib import pyplot as plt\n",
    "import pandas as pd\n",
    "import math\n",
    "from tqdm.notebook import tqdm"
   ]
  },
  {
   "cell_type": "code",
   "execution_count": 18,
   "metadata": {},
   "outputs": [],
   "source": [
    "matched_df=pd.read_pickle(\"matchedroutine_matches_circle.pkl\")\n",
    "\n",
    "full_stack_v=[]\n",
    "population = np.empty(len(matched_df), dtype=object)\n",
    "full_stack_sep=[]\n",
    "full_stack_r=[]\n",
    "full_stack_rich=[]\n",
    "full_stack_zcen=[]\n",
    "\n",
    "for i in range(len(matched_df)):\n",
    "    full_stack_v.extend( matched_df['v'][i])\n",
    "    full_stack_sep.extend( matched_df['sep2d'][i] )\n",
    "    full_stack_r.extend( matched_df['x'][i] )\n",
    "    population[i]=len(matched_df['v'][i])\n",
    "    full_stack_rich.extend( np.repeat(matched_df['rich'][i],len(matched_df['v'][i])).tolist() )\n",
    "    full_stack_zcen.extend( np.repeat(matched_df['zcen'][i],len(matched_df['v'][i])).tolist() )\n",
    "\n",
    "wolfe=pd.DataFrame({'rich':full_stack_rich,'zcen':full_stack_zcen,'r':full_stack_r,'v':full_stack_v})"
   ]
  },
  {
   "cell_type": "code",
   "execution_count": 24,
   "metadata": {},
   "outputs": [],
   "source": [
    "fname = \"final_cut_catalog.npy\"\n",
    "dt = np.load(fname)\n",
    "pax=pd.DataFrame.from_records(dt.tolist(), columns=dt.dtype.names)"
   ]
  },
  {
   "cell_type": "code",
   "execution_count": 25,
   "metadata": {},
   "outputs": [],
   "source": [
    "rich=pax.LAMBDA_CHISQ\n",
    "zcen=pax.BCG_SPEC_Z\n",
    "r=pax.R/pax.R_LAMBDA\n",
    "v=pax.Velocity"
   ]
  },
  {
   "cell_type": "code",
   "execution_count": 26,
   "metadata": {},
   "outputs": [],
   "source": [
    "pax=pd.DataFrame({'rich':rich,'zcen':zcen,'r':r,'v':v});"
   ]
  },
  {
   "cell_type": "code",
   "execution_count": 39,
   "metadata": {},
   "outputs": [],
   "source": [
    "r_lambda = ((wolfe.rich / 100)**0.2) #Mpc\n",
    "radius=wolfe.r*r_lambda\n",
    "wolfe=wolfe.loc[(radius>=0.05)]"
   ]
  },
  {
   "cell_type": "code",
   "execution_count": 40,
   "metadata": {},
   "outputs": [
    {
     "data": {
      "text/plain": [
       "255350"
      ]
     },
     "execution_count": 40,
     "metadata": {},
     "output_type": "execute_result"
    }
   ],
   "source": [
    "len(wolfe)"
   ]
  },
  {
   "cell_type": "code",
   "execution_count": 41,
   "metadata": {},
   "outputs": [
    {
     "data": {
      "text/plain": [
       "255350"
      ]
     },
     "execution_count": 41,
     "metadata": {},
     "output_type": "execute_result"
    }
   ],
   "source": [
    "len(pax)"
   ]
  },
  {
   "cell_type": "code",
   "execution_count": 62,
   "metadata": {},
   "outputs": [],
   "source": [
    "wolfe_bin=round(wolfe,2)\n",
    "pax_bin=round(pax,2)"
   ]
  },
  {
   "cell_type": "code",
   "execution_count": 43,
   "metadata": {},
   "outputs": [],
   "source": [
    "w1=wolfe_bin.loc[ (wolfe_bin.rich>100) & (wolfe_bin.rich<190.997) ]"
   ]
  },
  {
   "cell_type": "code",
   "execution_count": 44,
   "metadata": {},
   "outputs": [],
   "source": [
    "p1=pax_bin.loc[ (pax_bin.rich>100) & (pax_bin.rich<190.997) ]"
   ]
  },
  {
   "cell_type": "code",
   "execution_count": 66,
   "metadata": {},
   "outputs": [],
   "source": [
    "w1=wolfe_bin\n",
    "p1=pax_bin"
   ]
  },
  {
   "cell_type": "code",
   "execution_count": 67,
   "metadata": {},
   "outputs": [],
   "source": [
    "merged = w1.merge(p1, how='left', indicator=True)\n",
    "just_wolfe=merged.loc[ (merged._merge == 'left_only') ]"
   ]
  },
  {
   "cell_type": "code",
   "execution_count": 68,
   "metadata": {},
   "outputs": [
    {
     "name": "stdout",
     "output_type": "stream",
     "text": [
      "Empty DataFrame\n",
      "Columns: [rich, zcen, r, v, _merge]\n",
      "Index: []\n"
     ]
    }
   ],
   "source": [
    "with pd.option_context('display.max_rows', None, 'display.max_columns', None):  # more options can be specified also\n",
    "    print(just_wolfe.sort_values('rich'))"
   ]
  },
  {
   "cell_type": "code",
   "execution_count": 50,
   "metadata": {},
   "outputs": [
    {
     "data": {
      "text/plain": [
       "4011"
      ]
     },
     "execution_count": 50,
     "metadata": {},
     "output_type": "execute_result"
    }
   ],
   "source": [
    "len(pax_bin.rich.unique())"
   ]
  },
  {
   "cell_type": "code",
   "execution_count": 51,
   "metadata": {},
   "outputs": [
    {
     "data": {
      "text/plain": [
       "4011"
      ]
     },
     "execution_count": 51,
     "metadata": {},
     "output_type": "execute_result"
    }
   ],
   "source": [
    "len(wolfe_bin.rich.unique())"
   ]
  },
  {
   "cell_type": "code",
   "execution_count": null,
   "metadata": {},
   "outputs": [],
   "source": [
    "#Below here is various debugging code I used to get here"
   ]
  },
  {
   "cell_type": "code",
   "execution_count": 15,
   "metadata": {},
   "outputs": [],
   "source": [
    "pax_square_clust=np.load(\"square_cut_catalog.npy\")"
   ]
  },
  {
   "cell_type": "code",
   "execution_count": 16,
   "metadata": {},
   "outputs": [
    {
     "data": {
      "text/plain": [
       "('MEM_MATCH_ID',\n",
       " 'RA',\n",
       " 'DEC',\n",
       " 'MODEL_MAG',\n",
       " 'MODEL_MAGERR',\n",
       " 'IMAG',\n",
       " 'IMAG_ERR',\n",
       " 'ZRED',\n",
       " 'ZRED_E',\n",
       " 'ZRED_CHISQ',\n",
       " 'BCG_SPEC_Z',\n",
       " 'Z_SPEC_INIT',\n",
       " 'Z_INIT',\n",
       " 'Z',\n",
       " 'LAMBDA_CHISQ',\n",
       " 'LAMBDA_CHISQ_E',\n",
       " 'LAMBDA_ZRED',\n",
       " 'LAMBDA_ZRED_E',\n",
       " 'R_LAMBDA',\n",
       " 'SCALEVAL',\n",
       " 'MASKFRAC',\n",
       " 'C_LAMBDA',\n",
       " 'C_LAMBDA_ERR',\n",
       " 'MAG_LAMBDA_ERR',\n",
       " 'CHISQ',\n",
       " 'Z_LAMBDA',\n",
       " 'Z_LAMBDA_E',\n",
       " 'EBV_MEAN',\n",
       " 'PHOTOID',\n",
       " 'LNLAMLIKE',\n",
       " 'LNBCGLIKE',\n",
       " 'LNLIKE',\n",
       " 'PZBINS',\n",
       " 'PZ',\n",
       " 'NCROSS',\n",
       " 'RMASK',\n",
       " 'RA_ORIG',\n",
       " 'DEC_ORIG',\n",
       " 'W',\n",
       " 'DLAMBDA_DZ',\n",
       " 'DLAMBDA_DZ2',\n",
       " 'DLAMBDAVAR_DZ',\n",
       " 'DLAMBDAVAR_DZ2',\n",
       " 'LAMBDA_CHISQ_C',\n",
       " 'LAMBDA_CHISQ_CE',\n",
       " 'NCENT',\n",
       " 'NCENT_GOOD',\n",
       " 'RA_CENT',\n",
       " 'DEC_CENT',\n",
       " 'ID_CENT',\n",
       " 'LAMBDA_CHISQ_CENT',\n",
       " 'ZLAMBDA_CENT',\n",
       " 'P_BCG',\n",
       " 'P_CEN',\n",
       " 'Q_CEN',\n",
       " 'P_FG',\n",
       " 'Q_MISS',\n",
       " 'P_SAT',\n",
       " 'P_C',\n",
       " 'BCG_ILUM',\n",
       " 'ILUM',\n",
       " 'Z_LAMBDA_RAW',\n",
       " 'Z_LAMBDA_E_RAW',\n",
       " 'LIM_EXPTIME',\n",
       " 'LIM_LIMMAG',\n",
       " 'LIM_LIMMAG_HARD',\n",
       " 'ZCEN_ERR',\n",
       " 'Z_MEM',\n",
       " 'ZMEM_ERR',\n",
       " 'MEM_RA',\n",
       " 'MEM_DEC')"
      ]
     },
     "execution_count": 16,
     "metadata": {},
     "output_type": "execute_result"
    }
   ],
   "source": [
    "pax_square_clust.dtype.names"
   ]
  },
  {
   "cell_type": "code",
   "execution_count": 17,
   "metadata": {},
   "outputs": [
    {
     "data": {
      "text/plain": [
       "129614"
      ]
     },
     "execution_count": 17,
     "metadata": {},
     "output_type": "execute_result"
    }
   ],
   "source": [
    "np.max(pax_square_clust['MEM_MATCH_ID'])"
   ]
  },
  {
   "cell_type": "code",
   "execution_count": 18,
   "metadata": {},
   "outputs": [
    {
     "data": {
      "text/plain": [
       "2951649"
      ]
     },
     "execution_count": 18,
     "metadata": {},
     "output_type": "execute_result"
    }
   ],
   "source": [
    "len(pax_square_clust)"
   ]
  },
  {
   "cell_type": "code",
   "execution_count": 19,
   "metadata": {},
   "outputs": [],
   "source": [
    "matched_df=pd.read_pickle(\"square_matches.pkl\")"
   ]
  },
  {
   "cell_type": "code",
   "execution_count": 20,
   "metadata": {},
   "outputs": [
    {
     "data": {
      "text/plain": [
       "2952402"
      ]
     },
     "execution_count": 20,
     "metadata": {},
     "output_type": "execute_result"
    }
   ],
   "source": [
    "population = np.empty(len(matched_df), dtype=object)\n",
    "full_stack_sep=[]\n",
    "full_stack_r=[]\n",
    "\n",
    "for i in range(len(matched_df)):\n",
    "    full_stack_sep.extend( matched_df['sep2d'][i] )\n",
    "    full_stack_r.extend( matched_df['x'][i] )\n",
    "    population[i]=len(matched_df['x'][i])\n",
    "len(full_stack_r)"
   ]
  },
  {
   "cell_type": "code",
   "execution_count": 21,
   "metadata": {},
   "outputs": [],
   "source": [
    "from astropy.coordinates import SkyCoord, Angle, search_around_sky"
   ]
  },
  {
   "cell_type": "code",
   "execution_count": 22,
   "metadata": {},
   "outputs": [],
   "source": [
    "def calc_separation(ra1, dec1, ra2, dec2):\n",
    "    \"\"\"\n",
    "    Determine the angular on sky separation between\n",
    "    a member galaxy and its cluster.\"\"\"\n",
    "    ra_1 = Angle(ra1, unit=u.degree)\n",
    "    dec_1 = Angle(dec1, unit=u.degree)\n",
    "    coord1 = SkyCoord(ra=ra_1, dec=dec_1, unit = (u.deg, u.deg))\n",
    "\n",
    "    ra_2 = Angle(ra2, unit=u.degree)\n",
    "    dec_2 = Angle(dec2, unit=u.degree)\n",
    "    coord2 = SkyCoord(ra=ra_2, dec=dec_2, unit = (u.deg, u.deg))\n",
    "\n",
    "    sep = coord1.separation(coord2)\n",
    "    return sep.radian"
   ]
  },
  {
   "cell_type": "code",
   "execution_count": 40,
   "metadata": {},
   "outputs": [],
   "source": [
    "a1=30\n",
    "d1=60\n",
    "a2=50\n",
    "d2=60\n",
    "\n",
    "ang1=calc_separation(a1,d1,a2,d2)\n",
    "a1=a1/360*2*math.pi\n",
    "d1=d1/360*2*math.pi\n",
    "a2=a2/360*2*math.pi\n",
    "d2=d2/360*2*math.pi\n",
    "ang2=np.arccos(np.sin(d1)*math.sin(d2)+np.cos(d1)*math.cos(d2)*np.cos(a1-a2))"
   ]
  },
  {
   "cell_type": "code",
   "execution_count": 41,
   "metadata": {},
   "outputs": [
    {
     "data": {
      "text/plain": [
       "9.961850643857742"
      ]
     },
     "execution_count": 41,
     "metadata": {},
     "output_type": "execute_result"
    }
   ],
   "source": [
    "ang2/2/math.pi*360"
   ]
  },
  {
   "cell_type": "code",
   "execution_count": 4,
   "metadata": {},
   "outputs": [],
   "source": [
    "pax_vmax=np.load(\"pax_vmax.npy\")\n",
    "wolfe_vmax=np.load(\"wolfe_vmax.npy\")"
   ]
  },
  {
   "cell_type": "code",
   "execution_count": 9,
   "metadata": {},
   "outputs": [
    {
     "data": {
      "text/plain": [
       "(4020,)"
      ]
     },
     "execution_count": 9,
     "metadata": {},
     "output_type": "execute_result"
    }
   ],
   "source": [
    "pax_vmax=np.unique(pax_vmax)\n",
    "pax_vmax.shape"
   ]
  },
  {
   "cell_type": "code",
   "execution_count": 7,
   "metadata": {},
   "outputs": [
    {
     "data": {
      "text/plain": [
       "(16605,)"
      ]
     },
     "execution_count": 7,
     "metadata": {},
     "output_type": "execute_result"
    }
   ],
   "source": [
    "wolfe_vmax.shape"
   ]
  }
 ],
 "metadata": {
  "kernelspec": {
   "display_name": "Python 3",
   "language": "python",
   "name": "python3"
  },
  "language_info": {
   "codemirror_mode": {
    "name": "ipython",
    "version": 3
   },
   "file_extension": ".py",
   "mimetype": "text/x-python",
   "name": "python",
   "nbconvert_exporter": "python",
   "pygments_lexer": "ipython3",
   "version": "3.7.6"
  }
 },
 "nbformat": 4,
 "nbformat_minor": 4
}
